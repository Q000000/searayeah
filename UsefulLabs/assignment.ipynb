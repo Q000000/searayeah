{
 "cells": [
  {
   "cell_type": "markdown",
   "id": "319f158b",
   "metadata": {},
   "source": [
    "# Финальный проект\n",
    "\n",
    "Финальный проект на курсе по машинному обучению на курсере"
   ]
  },
  {
   "cell_type": "markdown",
   "id": "0b1061c1",
   "metadata": {},
   "source": [
    "В этом ноутбуке предлагается решать задачу предсказания средней цены квадратного метра жилья в некоторых районах Москвы и Московской области. В качестве метрики будем использовать MAPE.\n",
    "\n",
    "MAPE (Mean Absolute Percentage Error) = $\\dfrac{1}{\\ell}\\sum\\limits_{i=1}^{\\ell} \\left| \\dfrac{y_i - a(x_i)}{y_i} \\right|$"
   ]
  },
  {
   "cell_type": "markdown",
   "id": "4c1e4514",
   "metadata": {},
   "source": [
    "## Импорт библиотек и чтение данных"
   ]
  },
  {
   "cell_type": "code",
   "execution_count": 3,
   "id": "655af157",
   "metadata": {
    "ExecuteTime": {
     "end_time": "2021-01-25T08:44:51.671912Z",
     "start_time": "2021-01-25T08:44:51.211037Z"
    }
   },
   "outputs": [],
   "source": [
    "import pandas as pd\n",
    "import numpy as np\n",
    "# !pip uninstall -y seaborn\n",
    "# !pip install seaborn\n",
    "import matplotlib.pyplot as plt\n",
    "import seaborn as sns\n",
    "\n",
    "sns.set(style='darkgrid', rc={'figure.figsize': (16, 8)})\n",
    "\n",
    "pd.options.display.max_columns = 100"
   ]
  },
  {
   "cell_type": "code",
   "execution_count": 4,
   "id": "208f1a2c",
   "metadata": {
    "ExecuteTime": {
     "end_time": "2021-01-25T08:44:52.085142Z",
     "start_time": "2021-01-25T08:44:51.672810Z"
    }
   },
   "outputs": [],
   "source": [
    "train = pd.read_csv('train.csv')\n",
    "test = pd.read_csv('test.csv')\n",
    "\n",
    "housebase = pd.read_csv('housebase.csv')"
   ]
  },
  {
   "cell_type": "markdown",
   "id": "de1abddb",
   "metadata": {},
   "source": [
    "### train.csv и test.csv\n",
    "\n",
    "Описание полей в файлах train.csv и test.csv:\n",
    "\n",
    "**month** - месяц, за который указаны данные в датасете\n",
    "\n",
    "**city_quadkey** - полигон, его координаты можно его узнать из скрипта quadkey.py\n",
    "\n",
    "**apartment_ratio** - доля квартир в этом районе в этом месяце со статусом \"апартаменты\"\n",
    "\n",
    "**offers_in_sites_ratio** - доля офферов в ЖК в этом районе в этом месяце\n",
    "\n",
    "**studio_ratio** - доля объявлений о продаже студии среди всех объявлений в этом районе в этом месяце\n",
    "\n",
    "**rooms_offered_*_ratio** - доля квартир указанной в * комнатности от всех квартир в продаже в этом районе в этом месяце\n",
    "\n",
    "**unique_active_buildings_count** - количество домов, в которых есть квартиры в продаже в этом районе в этом месяце\n",
    "\n",
    "**unique_active_building_series_count** - количество уникальных серий домов, в которых есть квартиры в продаже в этом районе в этом месяце\n",
    "\n",
    "**total_area_avg** - средний метраж продаваемой квартиры в этом районе в этом месяце\n",
    "\n",
    "**offer_count** - число объявлений о продаже квартир в этом районе в этом месяце\n",
    "\n",
    "**avg_price_sqm** - средняя цена за квадратный метр в этом районе в этом месяце"
   ]
  },
  {
   "cell_type": "markdown",
   "id": "83660b4c",
   "metadata": {},
   "source": [
    "### housebase.csv\n",
    "\n",
    "Описание полей в датасете про базу домов housebase.csv:\n",
    "\n",
    "**city_quadkey** - полигон, его координаты можно его узнать из скрипта quadkey.py\n",
    "\n",
    "**building_id** - id дома\n",
    "\n",
    "**building_series_id** - id серии дома\n",
    "\n",
    "**unified_address** - адрес дома\n",
    "\n",
    "**latitude, longitude** - координаты дома\n",
    "\n",
    "**flats_count** - количество квартир в доме\n",
    "\n",
    "**has_elevator** - наличие лифта в доме\n",
    "\n",
    "**ceiling_height** - высота потолков в доме\n",
    "\n",
    "**build_year** - год постройки дома\n",
    "\n",
    "**expect_demolition** - дом входит в программу реновации и ожидает сноса\n",
    "\n",
    "**art_cnt** - количество организаций в сфере искусства (музеи, галереи и т.п.) в этом районе city_quadkey\n",
    "\n",
    "**beauty_cnt** - количество салонов красоты в этом районе city_quadkey\n",
    "\n",
    "**cafe_restaurant_eating_out_cnt** - количество точек общественного питания в этом районе city_quadkey\n",
    "\n",
    "**chain_cnt** - количество сетевых организаций в этом районе city_quadkey\n",
    "\n",
    "**entertainment_cnt** - количество организаций в сфере развлечений в этом районе city_quadkey\n",
    "\n",
    "**groceries_and_everyday_items_cnt** - количество продуктовых магазинов в этом районе city_quadkey\n",
    "\n",
    "**healthcare_cnt** - количество организаций в сфере здравоохранения в этом районе city_quadkey\n",
    "\n",
    "**laundry_and_repair_services_cnt** - количество прачечных и ремонтных мастерских в этом районе city_quadkey\n",
    "\n",
    "**shopping_cnt** - количество магазинов в этом районе city_quadkey\n",
    "\n",
    "**sport_cnt** - количество спортивных организаций в этом районе city_quadkey"
   ]
  },
  {
   "cell_type": "code",
   "execution_count": 5,
   "id": "33449601",
   "metadata": {
    "ExecuteTime": {
     "end_time": "2021-01-25T08:44:52.096068Z",
     "start_time": "2021-01-25T08:44:52.086070Z"
    }
   },
   "outputs": [
    {
     "data": {
      "text/html": [
       "<div>\n",
       "<style scoped>\n",
       "    .dataframe tbody tr th:only-of-type {\n",
       "        vertical-align: middle;\n",
       "    }\n",
       "\n",
       "    .dataframe tbody tr th {\n",
       "        vertical-align: top;\n",
       "    }\n",
       "\n",
       "    .dataframe thead th {\n",
       "        text-align: right;\n",
       "    }\n",
       "</style>\n",
       "<table border=\"1\" class=\"dataframe\">\n",
       "  <thead>\n",
       "    <tr style=\"text-align: right;\">\n",
       "      <th></th>\n",
       "      <th>month</th>\n",
       "      <th>city_quadkey</th>\n",
       "      <th>apartment_ratio</th>\n",
       "      <th>offers_in_sites_ratio</th>\n",
       "      <th>studio_ratio</th>\n",
       "      <th>rooms_offered_1_ratio</th>\n",
       "      <th>rooms_offered_2_ratio</th>\n",
       "      <th>rooms_offered_3_ratio</th>\n",
       "      <th>rooms_offered_4_more_ratio</th>\n",
       "      <th>total_area_avg</th>\n",
       "      <th>unique_active_buildings_count</th>\n",
       "      <th>unique_active_building_series_count</th>\n",
       "      <th>offer_count</th>\n",
       "      <th>avg_price_sqm</th>\n",
       "    </tr>\n",
       "  </thead>\n",
       "  <tbody>\n",
       "    <tr>\n",
       "      <th>0</th>\n",
       "      <td>2017-01-01</td>\n",
       "      <td>120310101302200</td>\n",
       "      <td>0.0</td>\n",
       "      <td>0.0</td>\n",
       "      <td>0.0</td>\n",
       "      <td>0.111111</td>\n",
       "      <td>0.666667</td>\n",
       "      <td>0.222222</td>\n",
       "      <td>0.000000</td>\n",
       "      <td>50.833333</td>\n",
       "      <td>4</td>\n",
       "      <td>3</td>\n",
       "      <td>9</td>\n",
       "      <td>158925.802951</td>\n",
       "    </tr>\n",
       "    <tr>\n",
       "      <th>1</th>\n",
       "      <td>2017-01-01</td>\n",
       "      <td>120310101120111</td>\n",
       "      <td>0.0</td>\n",
       "      <td>0.0</td>\n",
       "      <td>0.0</td>\n",
       "      <td>0.000000</td>\n",
       "      <td>0.571429</td>\n",
       "      <td>0.428571</td>\n",
       "      <td>0.000000</td>\n",
       "      <td>62.028571</td>\n",
       "      <td>4</td>\n",
       "      <td>4</td>\n",
       "      <td>7</td>\n",
       "      <td>163885.224330</td>\n",
       "    </tr>\n",
       "    <tr>\n",
       "      <th>2</th>\n",
       "      <td>2017-01-01</td>\n",
       "      <td>120310101321232</td>\n",
       "      <td>0.0</td>\n",
       "      <td>0.0</td>\n",
       "      <td>0.0</td>\n",
       "      <td>0.368421</td>\n",
       "      <td>0.350877</td>\n",
       "      <td>0.245614</td>\n",
       "      <td>0.035088</td>\n",
       "      <td>50.638597</td>\n",
       "      <td>26</td>\n",
       "      <td>9</td>\n",
       "      <td>57</td>\n",
       "      <td>150508.029742</td>\n",
       "    </tr>\n",
       "    <tr>\n",
       "      <th>3</th>\n",
       "      <td>2017-01-01</td>\n",
       "      <td>120310112010101</td>\n",
       "      <td>0.0</td>\n",
       "      <td>0.0</td>\n",
       "      <td>0.0</td>\n",
       "      <td>0.500000</td>\n",
       "      <td>0.500000</td>\n",
       "      <td>0.000000</td>\n",
       "      <td>0.000000</td>\n",
       "      <td>36.250000</td>\n",
       "      <td>3</td>\n",
       "      <td>1</td>\n",
       "      <td>4</td>\n",
       "      <td>65206.228516</td>\n",
       "    </tr>\n",
       "    <tr>\n",
       "      <th>4</th>\n",
       "      <td>2017-01-01</td>\n",
       "      <td>120132323332000</td>\n",
       "      <td>0.0</td>\n",
       "      <td>0.0</td>\n",
       "      <td>0.0</td>\n",
       "      <td>0.357143</td>\n",
       "      <td>0.357143</td>\n",
       "      <td>0.285714</td>\n",
       "      <td>0.000000</td>\n",
       "      <td>50.264286</td>\n",
       "      <td>9</td>\n",
       "      <td>2</td>\n",
       "      <td>14</td>\n",
       "      <td>75161.611049</td>\n",
       "    </tr>\n",
       "  </tbody>\n",
       "</table>\n",
       "</div>"
      ],
      "text/plain": [
       "        month     city_quadkey  apartment_ratio  offers_in_sites_ratio  \\\n",
       "0  2017-01-01  120310101302200              0.0                    0.0   \n",
       "1  2017-01-01  120310101120111              0.0                    0.0   \n",
       "2  2017-01-01  120310101321232              0.0                    0.0   \n",
       "3  2017-01-01  120310112010101              0.0                    0.0   \n",
       "4  2017-01-01  120132323332000              0.0                    0.0   \n",
       "\n",
       "   studio_ratio  rooms_offered_1_ratio  rooms_offered_2_ratio  \\\n",
       "0           0.0               0.111111               0.666667   \n",
       "1           0.0               0.000000               0.571429   \n",
       "2           0.0               0.368421               0.350877   \n",
       "3           0.0               0.500000               0.500000   \n",
       "4           0.0               0.357143               0.357143   \n",
       "\n",
       "   rooms_offered_3_ratio  rooms_offered_4_more_ratio  total_area_avg  \\\n",
       "0               0.222222                    0.000000       50.833333   \n",
       "1               0.428571                    0.000000       62.028571   \n",
       "2               0.245614                    0.035088       50.638597   \n",
       "3               0.000000                    0.000000       36.250000   \n",
       "4               0.285714                    0.000000       50.264286   \n",
       "\n",
       "   unique_active_buildings_count  unique_active_building_series_count  \\\n",
       "0                              4                                    3   \n",
       "1                              4                                    4   \n",
       "2                             26                                    9   \n",
       "3                              3                                    1   \n",
       "4                              9                                    2   \n",
       "\n",
       "   offer_count  avg_price_sqm  \n",
       "0            9  158925.802951  \n",
       "1            7  163885.224330  \n",
       "2           57  150508.029742  \n",
       "3            4   65206.228516  \n",
       "4           14   75161.611049  "
      ]
     },
     "execution_count": 5,
     "metadata": {},
     "output_type": "execute_result"
    }
   ],
   "source": [
    "train.head()"
   ]
  },
  {
   "cell_type": "code",
   "execution_count": 6,
   "id": "798db78d",
   "metadata": {
    "ExecuteTime": {
     "end_time": "2021-01-25T08:44:52.166224Z",
     "start_time": "2021-01-25T08:44:52.098952Z"
    }
   },
   "outputs": [
    {
     "data": {
      "text/html": [
       "<div>\n",
       "<style scoped>\n",
       "    .dataframe tbody tr th:only-of-type {\n",
       "        vertical-align: middle;\n",
       "    }\n",
       "\n",
       "    .dataframe tbody tr th {\n",
       "        vertical-align: top;\n",
       "    }\n",
       "\n",
       "    .dataframe thead th {\n",
       "        text-align: right;\n",
       "    }\n",
       "</style>\n",
       "<table border=\"1\" class=\"dataframe\">\n",
       "  <thead>\n",
       "    <tr style=\"text-align: right;\">\n",
       "      <th></th>\n",
       "      <th>month</th>\n",
       "      <th>city_quadkey</th>\n",
       "      <th>apartment_ratio</th>\n",
       "      <th>offers_in_sites_ratio</th>\n",
       "      <th>studio_ratio</th>\n",
       "      <th>rooms_offered_1_ratio</th>\n",
       "      <th>rooms_offered_2_ratio</th>\n",
       "      <th>rooms_offered_3_ratio</th>\n",
       "      <th>rooms_offered_4_more_ratio</th>\n",
       "      <th>total_area_avg</th>\n",
       "      <th>unique_active_buildings_count</th>\n",
       "      <th>unique_active_building_series_count</th>\n",
       "      <th>offer_count</th>\n",
       "      <th>avg_price_sqm</th>\n",
       "    </tr>\n",
       "  </thead>\n",
       "  <tbody>\n",
       "    <tr>\n",
       "      <th>0</th>\n",
       "      <td>2019-01-01</td>\n",
       "      <td>120310113123120</td>\n",
       "      <td>0.0</td>\n",
       "      <td>0.0</td>\n",
       "      <td>0.000000</td>\n",
       "      <td>1.000000</td>\n",
       "      <td>0.000000</td>\n",
       "      <td>0.000000</td>\n",
       "      <td>0.000000</td>\n",
       "      <td>32.000000</td>\n",
       "      <td>1</td>\n",
       "      <td>1</td>\n",
       "      <td>1</td>\n",
       "      <td>34375.000000</td>\n",
       "    </tr>\n",
       "    <tr>\n",
       "      <th>1</th>\n",
       "      <td>2019-01-01</td>\n",
       "      <td>120310101222111</td>\n",
       "      <td>0.0</td>\n",
       "      <td>0.0</td>\n",
       "      <td>0.000000</td>\n",
       "      <td>0.333333</td>\n",
       "      <td>0.428571</td>\n",
       "      <td>0.238095</td>\n",
       "      <td>0.000000</td>\n",
       "      <td>46.385238</td>\n",
       "      <td>12</td>\n",
       "      <td>5</td>\n",
       "      <td>21</td>\n",
       "      <td>130991.212426</td>\n",
       "    </tr>\n",
       "    <tr>\n",
       "      <th>2</th>\n",
       "      <td>2019-01-01</td>\n",
       "      <td>120132321211130</td>\n",
       "      <td>0.0</td>\n",
       "      <td>0.0</td>\n",
       "      <td>0.071429</td>\n",
       "      <td>0.357143</td>\n",
       "      <td>0.500000</td>\n",
       "      <td>0.071429</td>\n",
       "      <td>0.071429</td>\n",
       "      <td>39.857143</td>\n",
       "      <td>8</td>\n",
       "      <td>1</td>\n",
       "      <td>14</td>\n",
       "      <td>45630.522042</td>\n",
       "    </tr>\n",
       "    <tr>\n",
       "      <th>3</th>\n",
       "      <td>2019-01-01</td>\n",
       "      <td>120310101310330</td>\n",
       "      <td>0.0</td>\n",
       "      <td>0.0</td>\n",
       "      <td>0.000000</td>\n",
       "      <td>0.000000</td>\n",
       "      <td>0.666667</td>\n",
       "      <td>0.333333</td>\n",
       "      <td>0.000000</td>\n",
       "      <td>51.033333</td>\n",
       "      <td>6</td>\n",
       "      <td>4</td>\n",
       "      <td>6</td>\n",
       "      <td>137194.388021</td>\n",
       "    </tr>\n",
       "    <tr>\n",
       "      <th>4</th>\n",
       "      <td>2019-01-01</td>\n",
       "      <td>120310101313200</td>\n",
       "      <td>0.0</td>\n",
       "      <td>0.0</td>\n",
       "      <td>0.000000</td>\n",
       "      <td>0.181818</td>\n",
       "      <td>0.469697</td>\n",
       "      <td>0.287879</td>\n",
       "      <td>0.060606</td>\n",
       "      <td>62.851515</td>\n",
       "      <td>31</td>\n",
       "      <td>4</td>\n",
       "      <td>66</td>\n",
       "      <td>106538.841205</td>\n",
       "    </tr>\n",
       "  </tbody>\n",
       "</table>\n",
       "</div>"
      ],
      "text/plain": [
       "        month     city_quadkey  apartment_ratio  offers_in_sites_ratio  \\\n",
       "0  2019-01-01  120310113123120              0.0                    0.0   \n",
       "1  2019-01-01  120310101222111              0.0                    0.0   \n",
       "2  2019-01-01  120132321211130              0.0                    0.0   \n",
       "3  2019-01-01  120310101310330              0.0                    0.0   \n",
       "4  2019-01-01  120310101313200              0.0                    0.0   \n",
       "\n",
       "   studio_ratio  rooms_offered_1_ratio  rooms_offered_2_ratio  \\\n",
       "0      0.000000               1.000000               0.000000   \n",
       "1      0.000000               0.333333               0.428571   \n",
       "2      0.071429               0.357143               0.500000   \n",
       "3      0.000000               0.000000               0.666667   \n",
       "4      0.000000               0.181818               0.469697   \n",
       "\n",
       "   rooms_offered_3_ratio  rooms_offered_4_more_ratio  total_area_avg  \\\n",
       "0               0.000000                    0.000000       32.000000   \n",
       "1               0.238095                    0.000000       46.385238   \n",
       "2               0.071429                    0.071429       39.857143   \n",
       "3               0.333333                    0.000000       51.033333   \n",
       "4               0.287879                    0.060606       62.851515   \n",
       "\n",
       "   unique_active_buildings_count  unique_active_building_series_count  \\\n",
       "0                              1                                    1   \n",
       "1                             12                                    5   \n",
       "2                              8                                    1   \n",
       "3                              6                                    4   \n",
       "4                             31                                    4   \n",
       "\n",
       "   offer_count  avg_price_sqm  \n",
       "0            1   34375.000000  \n",
       "1           21  130991.212426  \n",
       "2           14   45630.522042  \n",
       "3            6  137194.388021  \n",
       "4           66  106538.841205  "
      ]
     },
     "execution_count": 6,
     "metadata": {},
     "output_type": "execute_result"
    }
   ],
   "source": [
    "test.head()"
   ]
  },
  {
   "cell_type": "code",
   "execution_count": 7,
   "id": "1c3828c1",
   "metadata": {
    "ExecuteTime": {
     "end_time": "2021-01-25T08:44:52.293651Z",
     "start_time": "2021-01-25T08:44:52.281974Z"
    }
   },
   "outputs": [
    {
     "data": {
      "text/html": [
       "<div>\n",
       "<style scoped>\n",
       "    .dataframe tbody tr th:only-of-type {\n",
       "        vertical-align: middle;\n",
       "    }\n",
       "\n",
       "    .dataframe tbody tr th {\n",
       "        vertical-align: top;\n",
       "    }\n",
       "\n",
       "    .dataframe thead th {\n",
       "        text-align: right;\n",
       "    }\n",
       "</style>\n",
       "<table border=\"1\" class=\"dataframe\">\n",
       "  <thead>\n",
       "    <tr style=\"text-align: right;\">\n",
       "      <th></th>\n",
       "      <th>city_quadkey</th>\n",
       "      <th>building_id</th>\n",
       "      <th>building_series_id</th>\n",
       "      <th>building_type</th>\n",
       "      <th>unified_address</th>\n",
       "      <th>latitude</th>\n",
       "      <th>longitude</th>\n",
       "      <th>flats_count</th>\n",
       "      <th>has_elevator</th>\n",
       "      <th>ceiling_height</th>\n",
       "      <th>build_year</th>\n",
       "      <th>expect_demolition</th>\n",
       "      <th>art_cnt</th>\n",
       "      <th>beauty_cnt</th>\n",
       "      <th>cafe_restaurant_eating_out_cnt</th>\n",
       "      <th>chain_cnt</th>\n",
       "      <th>entertainment_cnt</th>\n",
       "      <th>groceries_and_everyday_items_cnt</th>\n",
       "      <th>healthcare_cnt</th>\n",
       "      <th>laundry_and_repair_services_cnt</th>\n",
       "      <th>shopping_cnt</th>\n",
       "      <th>sport_cnt</th>\n",
       "    </tr>\n",
       "  </thead>\n",
       "  <tbody>\n",
       "    <tr>\n",
       "      <th>0</th>\n",
       "      <td>120310101302011</td>\n",
       "      <td>3031030817531317628</td>\n",
       "      <td>0</td>\n",
       "      <td>BRICK</td>\n",
       "      <td>Россия, Москва, 1-й Автозаводский проезд, 3</td>\n",
       "      <td>55.705219</td>\n",
       "      <td>37.656994</td>\n",
       "      <td>0</td>\n",
       "      <td>1</td>\n",
       "      <td>NaN</td>\n",
       "      <td>1937.0</td>\n",
       "      <td>0</td>\n",
       "      <td>7.0</td>\n",
       "      <td>36.0</td>\n",
       "      <td>24.0</td>\n",
       "      <td>127.0</td>\n",
       "      <td>18.0</td>\n",
       "      <td>32.0</td>\n",
       "      <td>16.0</td>\n",
       "      <td>38.0</td>\n",
       "      <td>45.0</td>\n",
       "      <td>13.0</td>\n",
       "    </tr>\n",
       "    <tr>\n",
       "      <th>1</th>\n",
       "      <td>120310101302011</td>\n",
       "      <td>3031030817531317630</td>\n",
       "      <td>0</td>\n",
       "      <td>BRICK</td>\n",
       "      <td>Россия, Москва, 1-й Автозаводский проезд, 5</td>\n",
       "      <td>55.704845</td>\n",
       "      <td>37.657295</td>\n",
       "      <td>0</td>\n",
       "      <td>0</td>\n",
       "      <td>NaN</td>\n",
       "      <td>1962.0</td>\n",
       "      <td>0</td>\n",
       "      <td>7.0</td>\n",
       "      <td>36.0</td>\n",
       "      <td>24.0</td>\n",
       "      <td>127.0</td>\n",
       "      <td>18.0</td>\n",
       "      <td>32.0</td>\n",
       "      <td>16.0</td>\n",
       "      <td>38.0</td>\n",
       "      <td>45.0</td>\n",
       "      <td>13.0</td>\n",
       "    </tr>\n",
       "    <tr>\n",
       "      <th>2</th>\n",
       "      <td>120310101302011</td>\n",
       "      <td>1764947998512909470</td>\n",
       "      <td>0</td>\n",
       "      <td>NaN</td>\n",
       "      <td>Россия, Москва, 1-й Автозаводский проезд, 7/1</td>\n",
       "      <td>55.704697</td>\n",
       "      <td>37.658203</td>\n",
       "      <td>0</td>\n",
       "      <td>0</td>\n",
       "      <td>NaN</td>\n",
       "      <td>NaN</td>\n",
       "      <td>0</td>\n",
       "      <td>7.0</td>\n",
       "      <td>36.0</td>\n",
       "      <td>24.0</td>\n",
       "      <td>127.0</td>\n",
       "      <td>18.0</td>\n",
       "      <td>32.0</td>\n",
       "      <td>16.0</td>\n",
       "      <td>38.0</td>\n",
       "      <td>45.0</td>\n",
       "      <td>13.0</td>\n",
       "    </tr>\n",
       "    <tr>\n",
       "      <th>3</th>\n",
       "      <td>120310101031222</td>\n",
       "      <td>2614890160181791580</td>\n",
       "      <td>1564812</td>\n",
       "      <td>BRICK</td>\n",
       "      <td>Россия, Москва, 1-й Амбулаторный проезд, 2</td>\n",
       "      <td>55.811642</td>\n",
       "      <td>37.535599</td>\n",
       "      <td>176</td>\n",
       "      <td>1</td>\n",
       "      <td>2.65</td>\n",
       "      <td>1967.0</td>\n",
       "      <td>0</td>\n",
       "      <td>4.0</td>\n",
       "      <td>6.0</td>\n",
       "      <td>11.0</td>\n",
       "      <td>60.0</td>\n",
       "      <td>16.0</td>\n",
       "      <td>25.0</td>\n",
       "      <td>14.0</td>\n",
       "      <td>25.0</td>\n",
       "      <td>23.0</td>\n",
       "      <td>5.0</td>\n",
       "    </tr>\n",
       "    <tr>\n",
       "      <th>4</th>\n",
       "      <td>120310101031222</td>\n",
       "      <td>4152249910202725078</td>\n",
       "      <td>1564812</td>\n",
       "      <td>BRICK</td>\n",
       "      <td>Россия, Москва, 1-й Амбулаторный проезд, 5к1</td>\n",
       "      <td>55.810810</td>\n",
       "      <td>37.534649</td>\n",
       "      <td>60</td>\n",
       "      <td>0</td>\n",
       "      <td>NaN</td>\n",
       "      <td>1959.0</td>\n",
       "      <td>0</td>\n",
       "      <td>4.0</td>\n",
       "      <td>6.0</td>\n",
       "      <td>11.0</td>\n",
       "      <td>60.0</td>\n",
       "      <td>16.0</td>\n",
       "      <td>25.0</td>\n",
       "      <td>14.0</td>\n",
       "      <td>25.0</td>\n",
       "      <td>23.0</td>\n",
       "      <td>5.0</td>\n",
       "    </tr>\n",
       "  </tbody>\n",
       "</table>\n",
       "</div>"
      ],
      "text/plain": [
       "      city_quadkey          building_id  building_series_id building_type  \\\n",
       "0  120310101302011  3031030817531317628                   0         BRICK   \n",
       "1  120310101302011  3031030817531317630                   0         BRICK   \n",
       "2  120310101302011  1764947998512909470                   0           NaN   \n",
       "3  120310101031222  2614890160181791580             1564812         BRICK   \n",
       "4  120310101031222  4152249910202725078             1564812         BRICK   \n",
       "\n",
       "                                 unified_address   latitude  longitude  \\\n",
       "0    Россия, Москва, 1-й Автозаводский проезд, 3  55.705219  37.656994   \n",
       "1    Россия, Москва, 1-й Автозаводский проезд, 5  55.704845  37.657295   \n",
       "2  Россия, Москва, 1-й Автозаводский проезд, 7/1  55.704697  37.658203   \n",
       "3     Россия, Москва, 1-й Амбулаторный проезд, 2  55.811642  37.535599   \n",
       "4   Россия, Москва, 1-й Амбулаторный проезд, 5к1  55.810810  37.534649   \n",
       "\n",
       "   flats_count  has_elevator  ceiling_height  build_year  expect_demolition  \\\n",
       "0            0             1             NaN      1937.0                  0   \n",
       "1            0             0             NaN      1962.0                  0   \n",
       "2            0             0             NaN         NaN                  0   \n",
       "3          176             1            2.65      1967.0                  0   \n",
       "4           60             0             NaN      1959.0                  0   \n",
       "\n",
       "   art_cnt  beauty_cnt  cafe_restaurant_eating_out_cnt  chain_cnt  \\\n",
       "0      7.0        36.0                            24.0      127.0   \n",
       "1      7.0        36.0                            24.0      127.0   \n",
       "2      7.0        36.0                            24.0      127.0   \n",
       "3      4.0         6.0                            11.0       60.0   \n",
       "4      4.0         6.0                            11.0       60.0   \n",
       "\n",
       "   entertainment_cnt  groceries_and_everyday_items_cnt  healthcare_cnt  \\\n",
       "0               18.0                              32.0            16.0   \n",
       "1               18.0                              32.0            16.0   \n",
       "2               18.0                              32.0            16.0   \n",
       "3               16.0                              25.0            14.0   \n",
       "4               16.0                              25.0            14.0   \n",
       "\n",
       "   laundry_and_repair_services_cnt  shopping_cnt  sport_cnt  \n",
       "0                             38.0          45.0       13.0  \n",
       "1                             38.0          45.0       13.0  \n",
       "2                             38.0          45.0       13.0  \n",
       "3                             25.0          23.0        5.0  \n",
       "4                             25.0          23.0        5.0  "
      ]
     },
     "execution_count": 7,
     "metadata": {},
     "output_type": "execute_result"
    }
   ],
   "source": [
    "housebase.head()"
   ]
  },
  {
   "cell_type": "code",
   "execution_count": 8,
   "id": "992ac8f8",
   "metadata": {
    "ExecuteTime": {
     "end_time": "2021-01-25T08:44:52.445778Z",
     "start_time": "2021-01-25T08:44:52.443676Z"
    }
   },
   "outputs": [
    {
     "data": {
      "text/plain": [
       "'Количество объектов в train 123491, в test 41280, количество записей в housebase 112203.'"
      ]
     },
     "execution_count": 8,
     "metadata": {},
     "output_type": "execute_result"
    }
   ],
   "source": [
    "f'Количество объектов в train {len(train)}, в test {len(test)}, количество записей в housebase {len(housebase)}.'"
   ]
  },
  {
   "cell_type": "markdown",
   "id": "07fa5302",
   "metadata": {},
   "source": [
    "## EDA"
   ]
  },
  {
   "cell_type": "markdown",
   "id": "9df8956b",
   "metadata": {},
   "source": [
    "Посмотрим есть ли пропуски в данных:"
   ]
  },
  {
   "cell_type": "code",
   "execution_count": 9,
   "id": "2e899879",
   "metadata": {
    "ExecuteTime": {
     "end_time": "2021-01-25T08:44:52.888447Z",
     "start_time": "2021-01-25T08:44:52.880742Z"
    }
   },
   "outputs": [
    {
     "data": {
      "text/plain": [
       "month                                  0\n",
       "city_quadkey                           0\n",
       "apartment_ratio                        0\n",
       "offers_in_sites_ratio                  0\n",
       "studio_ratio                           0\n",
       "rooms_offered_1_ratio                  0\n",
       "rooms_offered_2_ratio                  0\n",
       "rooms_offered_3_ratio                  0\n",
       "rooms_offered_4_more_ratio             0\n",
       "total_area_avg                         0\n",
       "unique_active_buildings_count          0\n",
       "unique_active_building_series_count    0\n",
       "offer_count                            0\n",
       "avg_price_sqm                          0\n",
       "dtype: int64"
      ]
     },
     "execution_count": 9,
     "metadata": {},
     "output_type": "execute_result"
    }
   ],
   "source": [
    "train.isna().sum()"
   ]
  },
  {
   "cell_type": "code",
   "execution_count": 10,
   "id": "a8587162",
   "metadata": {
    "ExecuteTime": {
     "end_time": "2021-01-25T08:44:53.048454Z",
     "start_time": "2021-01-25T08:44:53.043940Z"
    }
   },
   "outputs": [
    {
     "data": {
      "text/plain": [
       "month                                  0\n",
       "city_quadkey                           0\n",
       "apartment_ratio                        0\n",
       "offers_in_sites_ratio                  0\n",
       "studio_ratio                           0\n",
       "rooms_offered_1_ratio                  0\n",
       "rooms_offered_2_ratio                  0\n",
       "rooms_offered_3_ratio                  0\n",
       "rooms_offered_4_more_ratio             0\n",
       "total_area_avg                         0\n",
       "unique_active_buildings_count          0\n",
       "unique_active_building_series_count    0\n",
       "offer_count                            0\n",
       "avg_price_sqm                          0\n",
       "dtype: int64"
      ]
     },
     "execution_count": 10,
     "metadata": {},
     "output_type": "execute_result"
    }
   ],
   "source": [
    "test.isna().sum()"
   ]
  },
  {
   "cell_type": "code",
   "execution_count": 11,
   "id": "b66d16c6",
   "metadata": {
    "ExecuteTime": {
     "end_time": "2021-01-25T08:44:53.215550Z",
     "start_time": "2021-01-25T08:44:53.205112Z"
    }
   },
   "outputs": [
    {
     "data": {
      "text/plain": [
       "city_quadkey                            0\n",
       "building_id                             0\n",
       "building_series_id                      0\n",
       "building_type                       22454\n",
       "unified_address                         0\n",
       "latitude                                0\n",
       "longitude                               0\n",
       "flats_count                             0\n",
       "has_elevator                            0\n",
       "ceiling_height                      65357\n",
       "build_year                          29285\n",
       "expect_demolition                       0\n",
       "art_cnt                             27401\n",
       "beauty_cnt                          23037\n",
       "cafe_restaurant_eating_out_cnt      28397\n",
       "chain_cnt                            6905\n",
       "entertainment_cnt                   12357\n",
       "groceries_and_everyday_items_cnt     8726\n",
       "healthcare_cnt                      19610\n",
       "laundry_and_repair_services_cnt     13139\n",
       "shopping_cnt                        19639\n",
       "sport_cnt                           19309\n",
       "dtype: int64"
      ]
     },
     "execution_count": 11,
     "metadata": {},
     "output_type": "execute_result"
    }
   ],
   "source": [
    "housebase.isna().sum()"
   ]
  },
  {
   "cell_type": "markdown",
   "id": "6bc7c92c",
   "metadata": {},
   "source": [
    "Посмотрим на типы колонок:"
   ]
  },
  {
   "cell_type": "code",
   "execution_count": 12,
   "id": "2ef759e4",
   "metadata": {
    "ExecuteTime": {
     "end_time": "2021-01-25T08:44:53.525745Z",
     "start_time": "2021-01-25T08:44:53.523006Z"
    }
   },
   "outputs": [
    {
     "data": {
      "text/plain": [
       "month                                   object\n",
       "city_quadkey                             int64\n",
       "apartment_ratio                        float64\n",
       "offers_in_sites_ratio                  float64\n",
       "studio_ratio                           float64\n",
       "rooms_offered_1_ratio                  float64\n",
       "rooms_offered_2_ratio                  float64\n",
       "rooms_offered_3_ratio                  float64\n",
       "rooms_offered_4_more_ratio             float64\n",
       "total_area_avg                         float64\n",
       "unique_active_buildings_count            int64\n",
       "unique_active_building_series_count      int64\n",
       "offer_count                              int64\n",
       "avg_price_sqm                          float64\n",
       "dtype: object"
      ]
     },
     "execution_count": 12,
     "metadata": {},
     "output_type": "execute_result"
    }
   ],
   "source": [
    "train.dtypes"
   ]
  },
  {
   "cell_type": "code",
   "execution_count": 13,
   "id": "9bdbfd17",
   "metadata": {
    "ExecuteTime": {
     "end_time": "2021-01-25T08:44:54.097830Z",
     "start_time": "2021-01-25T08:44:54.095003Z"
    }
   },
   "outputs": [
    {
     "data": {
      "text/plain": [
       "month                                   object\n",
       "city_quadkey                             int64\n",
       "apartment_ratio                        float64\n",
       "offers_in_sites_ratio                  float64\n",
       "studio_ratio                           float64\n",
       "rooms_offered_1_ratio                  float64\n",
       "rooms_offered_2_ratio                  float64\n",
       "rooms_offered_3_ratio                  float64\n",
       "rooms_offered_4_more_ratio             float64\n",
       "total_area_avg                         float64\n",
       "unique_active_buildings_count            int64\n",
       "unique_active_building_series_count      int64\n",
       "offer_count                              int64\n",
       "avg_price_sqm                          float64\n",
       "dtype: object"
      ]
     },
     "execution_count": 13,
     "metadata": {},
     "output_type": "execute_result"
    }
   ],
   "source": [
    "test.dtypes"
   ]
  },
  {
   "cell_type": "code",
   "execution_count": 14,
   "id": "81d44d58",
   "metadata": {
    "ExecuteTime": {
     "end_time": "2021-01-25T08:44:54.694857Z",
     "start_time": "2021-01-25T08:44:54.691871Z"
    }
   },
   "outputs": [
    {
     "data": {
      "text/plain": [
       "city_quadkey                          int64\n",
       "building_id                           int64\n",
       "building_series_id                    int64\n",
       "building_type                        object\n",
       "unified_address                      object\n",
       "latitude                            float64\n",
       "longitude                           float64\n",
       "flats_count                           int64\n",
       "has_elevator                          int64\n",
       "ceiling_height                      float64\n",
       "build_year                          float64\n",
       "expect_demolition                     int64\n",
       "art_cnt                             float64\n",
       "beauty_cnt                          float64\n",
       "cafe_restaurant_eating_out_cnt      float64\n",
       "chain_cnt                           float64\n",
       "entertainment_cnt                   float64\n",
       "groceries_and_everyday_items_cnt    float64\n",
       "healthcare_cnt                      float64\n",
       "laundry_and_repair_services_cnt     float64\n",
       "shopping_cnt                        float64\n",
       "sport_cnt                           float64\n",
       "dtype: object"
      ]
     },
     "execution_count": 14,
     "metadata": {},
     "output_type": "execute_result"
    }
   ],
   "source": [
    "housebase.dtypes"
   ]
  },
  {
   "cell_type": "markdown",
   "id": "8836a0b4",
   "metadata": {},
   "source": [
    "Разделим признаки на несколько групп:\n",
    "\n",
    "**-1:** `avg_price_sqm` (средняя цена, наша целевая переменная)\n",
    "\n",
    "**0:** `city_quadkey`, `month` (район и месяц, для чего мы предсказываем)\n",
    "\n",
    "**1:** `apartment_ratio`, `offers_in_sites_ratio`, `studio_ratio`, `rooms_offered_1_ratio`, `rooms_offered_2_ratio`, `rooms_offered_3_ratio`, `rooms_offered_4_more_ratio`, `total_area_avg` (описание объвлений на районе в этом месяце тип 1, из train)\n",
    "\n",
    "**2:** `unique_active_buildings_count`, `unique_active_building_series_count`, `offer_count` (описание объявлений на районе в этом месяце тип 2, из train)\n",
    "\n",
    "**3:** `beauty_cnt`, `shopping_cnt`, `cafe_restaurant_eating_out_cnt`, `entertainment_cnt`, `sport_cnt`, `chain_cnt`, `groceries_and_everyday_items_cnt`, `art_cnt`, `healthcare_cnt`, `laundry_and_repair_services_cnt` (описание района, из housebase)\n",
    "\n",
    "**4:** `building_id`, `building_series_id`, `building_type`, `unified_address`, `flats_count`, `expect_demolition`, `ceiling_height`, `has_elevator`, `build_year` + `latitude`, `longitude` (описание дома, из housebase)"
   ]
  },
  {
   "cell_type": "markdown",
   "id": "b2d8b84d",
   "metadata": {},
   "source": [
    "### Группа -1\n",
    "\n",
    "Постройте график распределения целевой переменной (`avg_price_sqm`). Здесь и далее лучше использовать функцию `distplot` из библиотеки `seaborn`."
   ]
  },
  {
   "cell_type": "code",
   "execution_count": 15,
   "id": "363276e3",
   "metadata": {
    "ExecuteTime": {
     "end_time": "2021-01-25T08:28:09.064555Z",
     "start_time": "2021-01-25T08:28:09.063252Z"
    }
   },
   "outputs": [],
   "source": [
    "### YOUR CODE HERE\n",
    "# sns.distplot(train['avg_price_sqm'])"
   ]
  },
  {
   "cell_type": "markdown",
   "id": "3384e999",
   "metadata": {},
   "source": [
    "### Группа 0\n",
    "\n",
    "- Выведите все уникальные значения месяцев в датасете, пересекаются ли они в обучающей и тестовой выборке?\n",
    "- Постройте график распределения количества объявлений в зависимости от месяца для обучающей выборки.\n",
    "- Посчитайте сколько уникальных районов представлено в датасете, в обучающей и тестовой выборке. Есть ли в тестовой выборке новые районы?"
   ]
  },
  {
   "cell_type": "code",
   "execution_count": 16,
   "id": "ae37cdcf",
   "metadata": {
    "ExecuteTime": {
     "end_time": "2021-01-25T08:28:10.327574Z",
     "start_time": "2021-01-25T08:28:10.326261Z"
    }
   },
   "outputs": [],
   "source": [
    "### YOUR CODE HERE\n",
    "# city_quadkey, mont\n",
    "# test['month'].unique()\n",
    "# train['month'].unique()\n",
    "# train.plot(x='month',y='offer_count')"
   ]
  },
  {
   "cell_type": "code",
   "execution_count": 17,
   "id": "e63e82c1",
   "metadata": {},
   "outputs": [],
   "source": [
    "# print(train['city_quadkey'].nunique())\n",
    "# print(test['city_quadkey'].nunique())\n",
    "# np.in1d(train['city_quadkey'].nunique(),test['city_quadkey'].nunique())"
   ]
  },
  {
   "cell_type": "markdown",
   "id": "7fdef176",
   "metadata": {},
   "source": [
    "Запишите в переменные (`train_nunique_month` и `train_nunique_quadkey`) количество уникальных значений в обучающей выборке для признаков `month` и `city_quadkey`."
   ]
  },
  {
   "cell_type": "code",
   "execution_count": 18,
   "id": "93d0c722",
   "metadata": {
    "deletable": false,
    "nbgrader": {
     "cell_type": "code",
     "checksum": "8c05a8999241c271cb04f539a9ac43e1",
     "grade": false,
     "grade_id": "cell-ea2234714ac5e685",
     "locked": false,
     "schema_version": 3,
     "solution": true,
     "task": false
    }
   },
   "outputs": [],
   "source": [
    "# your code here\n",
    "train_nunique_month = train['month'].nunique()\n",
    "train_nunique_quadkey = train['city_quadkey'].nunique()"
   ]
  },
  {
   "cell_type": "code",
   "execution_count": 19,
   "id": "ae198dcb",
   "metadata": {
    "ExecuteTime": {
     "end_time": "2021-01-25T08:28:11.373750Z",
     "start_time": "2021-01-25T08:28:11.355350Z"
    },
    "deletable": false,
    "editable": false,
    "nbgrader": {
     "cell_type": "code",
     "checksum": "cb618669cc28bd7b6c7d1b192746036c",
     "grade": true,
     "grade_id": "cell-51862e679c1bedbb",
     "locked": true,
     "points": 5,
     "schema_version": 3,
     "solution": false,
     "task": false
    }
   },
   "outputs": [
    {
     "name": "stdout",
     "output_type": "stream",
     "text": [
      "... TESTING ...\n"
     ]
    }
   ],
   "source": [
    "### GRADING, RUN TO TEST\n",
    "\n",
    "train_nunique_month\n",
    "train_nunique_quadkey\n",
    "\n",
    "print('... TESTING ...')\n"
   ]
  },
  {
   "cell_type": "markdown",
   "id": "b137e0ef",
   "metadata": {},
   "source": [
    "### Группа 1\n",
    "\n",
    "Для каждого признака постройте график распределения. Есть ли какие-то неинформативные признаки, которые можно сразу выбросить?"
   ]
  },
  {
   "cell_type": "code",
   "execution_count": 20,
   "id": "eb4aadbc",
   "metadata": {},
   "outputs": [],
   "source": [
    "### YOUR CODE HERE\n",
    "# columns = ['apartment_ratio', 'offers_in_sites_ratio', 'studio_ratio', 'rooms_offered_1_ratio',\n",
    "#       'rooms_offered_2_ratio', 'rooms_offered_3_ratio', 'rooms_offered_4_more_ratio', 'total_area_avg']\n",
    "# for column in columns:\n",
    "#     sns.histplot(train[column])\n",
    "#     plt.show()"
   ]
  },
  {
   "cell_type": "markdown",
   "id": "f25d04e2",
   "metadata": {},
   "source": [
    "Запишите в переменную `unwanted_cols` список с признаками, которые можно будет удалить."
   ]
  },
  {
   "cell_type": "code",
   "execution_count": 21,
   "id": "40c0628c",
   "metadata": {
    "deletable": false,
    "nbgrader": {
     "cell_type": "code",
     "checksum": "4349ea72476790feb70d64b60dfa2980",
     "grade": false,
     "grade_id": "cell-d4a36177e8b620c3",
     "locked": false,
     "schema_version": 3,
     "solution": true,
     "task": false
    }
   },
   "outputs": [],
   "source": [
    "# your code here\n",
    "unwanted_cols = ['offers_in_sites_ratio']"
   ]
  },
  {
   "cell_type": "code",
   "execution_count": 22,
   "id": "5361c35a",
   "metadata": {
    "deletable": false,
    "editable": false,
    "nbgrader": {
     "cell_type": "code",
     "checksum": "88e62e795cdf024eaeba0fb511341a2e",
     "grade": true,
     "grade_id": "cell-ed21df1323c75a39",
     "locked": true,
     "points": 5,
     "schema_version": 3,
     "solution": false,
     "task": false
    }
   },
   "outputs": [
    {
     "name": "stdout",
     "output_type": "stream",
     "text": [
      "... TESTING ...\n"
     ]
    }
   ],
   "source": [
    "### GRADING\n",
    "\n",
    "unwanted_cols\n",
    "\n",
    "print('... TESTING ...')\n"
   ]
  },
  {
   "cell_type": "markdown",
   "id": "59d38c16",
   "metadata": {},
   "source": [
    "### Группа 2\n",
    "\n",
    "Для каждого признака постройте график распределения. Есть ли какие-то неинформативные признаки, которые можно сразу выбросить?"
   ]
  },
  {
   "cell_type": "code",
   "execution_count": 23,
   "id": "82e4bc58",
   "metadata": {
    "ExecuteTime": {
     "end_time": "2021-01-24T13:06:59.167280Z",
     "start_time": "2021-01-24T13:06:59.165792Z"
    }
   },
   "outputs": [],
   "source": [
    "### YOUR CODE HERE\n",
    "# columns = ['unique_active_buildings_count', 'unique_active_building_series_count', 'offer_count']\n",
    "# for column in columns:\n",
    "#     sns.histplot(train[column])\n",
    "#     plt.show()"
   ]
  },
  {
   "cell_type": "markdown",
   "id": "27debd2d",
   "metadata": {},
   "source": [
    "### Группа 3\n",
    "\n",
    "Для каждого признака постройте график распределения. \n",
    "\n",
    "Так как в этой группе признаки содержат информацию про количество тех или иных объектов на районе, физический смысл отсутствия информации - на районе нет таких объектов. В дальнейшем мы воспользуемся этой идеей для заполнения пропусков."
   ]
  },
  {
   "cell_type": "code",
   "execution_count": 24,
   "id": "c2b2df91",
   "metadata": {
    "ExecuteTime": {
     "end_time": "2021-01-24T13:17:06.223531Z",
     "start_time": "2021-01-24T13:17:06.222208Z"
    }
   },
   "outputs": [],
   "source": [
    "### YOUR CODE HERE\n",
    "# columns = ['beauty_cnt', 'shopping_cnt', 'cafe_restaurant_eating_out_cnt',\n",
    "#            'entertainment_cnt', 'sport_cnt', 'chain_cnt',\n",
    "#            'groceries_and_everyday_items_cnt', 'art_cnt',\n",
    "#            'healthcare_cnt', 'laundry_and_repair_services_cnt']\n",
    "# for column in columns:\n",
    "#     sns.histplot(housebase[column])\n",
    "#     plt.show()"
   ]
  },
  {
   "cell_type": "markdown",
   "id": "ffb25456",
   "metadata": {},
   "source": [
    "### Группа 4\n",
    "\n",
    "- Постройте графики распределения для `building_series_id` и `building_type`.\n",
    "- Постройте графики распределения для `flats_count`, `ceiling_height` и `build_year`.\n",
    "- Постройте графики распределения для `has_elevator` и `expect_demolition`."
   ]
  },
  {
   "cell_type": "code",
   "execution_count": 25,
   "id": "06d97de8",
   "metadata": {
    "ExecuteTime": {
     "end_time": "2021-01-24T13:41:40.470526Z",
     "start_time": "2021-01-24T13:41:40.469170Z"
    }
   },
   "outputs": [],
   "source": [
    "### YOUR CODE HERE\n",
    "# columns = ['building_id', 'building_series_id', 'building_type',\n",
    "#            'unified_address', 'flats_count', 'expect_demolition',\n",
    "#            'ceiling_height', 'has_elevator', 'build_year', 'latitude',\n",
    "#            'longitude']\n",
    "# sns.displot(housebase['building_series_id'])\n",
    "# sns.catplot(data=housebase,x='building_type',kind='count',height=6, aspect=2)\n",
    "# sns.displot(housebase['flats_count'])\n",
    "# sns.displot(housebase['ceiling_height'])\n",
    "# sns.displot(housebase['build_year'])\n",
    "# sns.displot(housebase['has_elevator'])\n",
    "# sns.displot(housebase['expect_demolition'])\n",
    "# plt.show()"
   ]
  },
  {
   "cell_type": "markdown",
   "id": "affab053",
   "metadata": {},
   "source": [
    "### Деление на категориальные и вещественные\n",
    "\n",
    "Разделите признаки на категориальные и вещественные, запишите их в переменные `cat_features` и `real_features`. Какие признаки вы не будете использовать?"
   ]
  },
  {
   "cell_type": "code",
   "execution_count": 26,
   "id": "25aba7f7",
   "metadata": {
    "ExecuteTime": {
     "end_time": "2021-01-24T14:02:25.645641Z",
     "start_time": "2021-01-24T14:02:25.644290Z"
    },
    "deletable": false,
    "nbgrader": {
     "cell_type": "code",
     "checksum": "14b559fe0a5ee83fd9f3e474685d2ca6",
     "grade": false,
     "grade_id": "cell-aaeced4f6c63fcc1",
     "locked": false,
     "schema_version": 3,
     "solution": true,
     "task": false
    }
   },
   "outputs": [],
   "source": [
    "# your code here\n",
    "cat_features = ['building_type',\n",
    "                'expect_demolition','has_elevator','is_in_Moscow']\n",
    "\n",
    "real_features = ['apartment_ratio', 'studio_ratio',\n",
    "                'rooms_offered_1_ratio', 'rooms_offered_2_ratio', \n",
    "                'rooms_offered_3_ratio', 'rooms_offered_4_more_ratio', 'total_area_avg',\n",
    "                'unique_active_buildings_count',\n",
    "                'unique_active_building_series_count', 'offer_count',\n",
    "                'beauty_cnt', 'shopping_cnt', 'cafe_restaurant_eating_out_cnt',\n",
    "                'entertainment_cnt', 'sport_cnt',\n",
    "                'chain_cnt', 'groceries_and_everyday_items_cnt',\n",
    "                'art_cnt', 'healthcare_cnt',\n",
    "                'laundry_and_repair_services_cnt','build_year',\n",
    "                'ceiling_height',\n",
    "                'flats_count','center_dist']"
   ]
  },
  {
   "cell_type": "markdown",
   "id": "e1da0910",
   "metadata": {},
   "source": [
    "## Генерация признаков\n",
    "\n",
    "Сгенерируем несколько новых признаков, разделим их на несколько групп:\n",
    "\n",
    "- Отсутствие информации про район/дом\n",
    "- Находится ли дом в Москве\n",
    "- Расстояние до центра города\n",
    "- Находится ли дом внутри колец\n",
    "- Время года"
   ]
  },
  {
   "cell_type": "markdown",
   "id": "309dc81f",
   "metadata": {},
   "source": [
    "### Отсутствие информации про район/дом\n",
    "\n",
    "Вспомните признаки из группы 3 и группы 4, для каждого признака сделайте бинарный признак, который будет обозначать, что информация отсутствует, назовите их `col_name + '_isna'`. Создавать новые признаки стоит в `housebase`. Куда стоит отнести новые признаки? \n",
    "\n",
    "Заполните пропуски: для категориальных новым значением `UNKNOWN`, для вещественных нулём."
   ]
  },
  {
   "cell_type": "code",
   "execution_count": 27,
   "id": "cc969177",
   "metadata": {
    "ExecuteTime": {
     "end_time": "2021-01-24T14:03:03.066365Z",
     "start_time": "2021-01-24T14:03:03.065000Z"
    },
    "deletable": false,
    "nbgrader": {
     "cell_type": "code",
     "checksum": "bac178637112667778e081ca5ccb0c1f",
     "grade": false,
     "grade_id": "cell-7e6384ff94126e4c",
     "locked": false,
     "schema_version": 3,
     "solution": true,
     "task": false
    }
   },
   "outputs": [],
   "source": [
    "columns_3 = ['beauty_cnt', 'shopping_cnt', 'cafe_restaurant_eating_out_cnt',\n",
    "           'entertainment_cnt', 'sport_cnt', 'chain_cnt',\n",
    "           'groceries_and_everyday_items_cnt', 'art_cnt',\n",
    "           'healthcare_cnt', 'laundry_and_repair_services_cnt']\n",
    "columns_4 = ['building_id', 'building_series_id', 'building_type',\n",
    "           'unified_address', 'flats_count', 'expect_demolition',\n",
    "           'ceiling_height', 'has_elevator', 'build_year', 'latitude',\n",
    "           'longitude']\n",
    "for column in columns_3 + columns_4:\n",
    "    housebase[column+'_isna']=housebase[column].isna().astype(int)"
   ]
  },
  {
   "cell_type": "code",
   "execution_count": 28,
   "id": "17f9160e",
   "metadata": {},
   "outputs": [
    {
     "data": {
      "text/plain": [
       "{'building_type': 'UNKNOWN',\n",
       " 'expect_demolition': 'UNKNOWN',\n",
       " 'has_elevator': 'UNKNOWN',\n",
       " 'is_in_Moscow': 'UNKNOWN',\n",
       " 'apartment_ratio': 0,\n",
       " 'studio_ratio': 0,\n",
       " 'rooms_offered_1_ratio': 0,\n",
       " 'rooms_offered_2_ratio': 0,\n",
       " 'rooms_offered_3_ratio': 0,\n",
       " 'rooms_offered_4_more_ratio': 0,\n",
       " 'total_area_avg': 0,\n",
       " 'unique_active_buildings_count': 0,\n",
       " 'unique_active_building_series_count': 0,\n",
       " 'offer_count': 0,\n",
       " 'beauty_cnt': 0,\n",
       " 'shopping_cnt': 0,\n",
       " 'cafe_restaurant_eating_out_cnt': 0,\n",
       " 'entertainment_cnt': 0,\n",
       " 'sport_cnt': 0,\n",
       " 'chain_cnt': 0,\n",
       " 'groceries_and_everyday_items_cnt': 0,\n",
       " 'art_cnt': 0,\n",
       " 'healthcare_cnt': 0,\n",
       " 'laundry_and_repair_services_cnt': 0,\n",
       " 'build_year': 0,\n",
       " 'ceiling_height': 0,\n",
       " 'flats_count': 0,\n",
       " 'center_dist': 0}"
      ]
     },
     "execution_count": 28,
     "metadata": {},
     "output_type": "execute_result"
    }
   ],
   "source": [
    "values = {}\n",
    "for feature in cat_features:\n",
    "    values[feature]='UNKNOWN'\n",
    "for feature in real_features:\n",
    "    values[feature]=0\n",
    "values"
   ]
  },
  {
   "cell_type": "code",
   "execution_count": 29,
   "id": "6c01ba98",
   "metadata": {},
   "outputs": [],
   "source": [
    "housebase.fillna(values,inplace=True)\n",
    "test.fillna(values,inplace=True)\n",
    "train.fillna(values,inplace=True)"
   ]
  },
  {
   "cell_type": "code",
   "execution_count": 30,
   "id": "50c55208",
   "metadata": {
    "deletable": false,
    "editable": false,
    "nbgrader": {
     "cell_type": "code",
     "checksum": "22fcf8e8638c2aede0c6c5377b3ad583",
     "grade": true,
     "grade_id": "cell-743d122dd3822e34",
     "locked": true,
     "points": 10,
     "schema_version": 3,
     "solution": false,
     "task": false
    }
   },
   "outputs": [
    {
     "name": "stdout",
     "output_type": "stream",
     "text": [
      "... TESTING ...\n"
     ]
    }
   ],
   "source": [
    "### GRADING\n",
    "\n",
    "for col in ['art_cnt', 'beauty_cnt', 'cafe_restaurant_eating_out_cnt', 'chain_cnt', 'entertainment_cnt', 'groceries_and_everyday_items_cnt', 'healthcare_cnt', 'laundry_and_repair_services_cnt', 'shopping_cnt', 'sport_cnt']:\n",
    "    assert col + '_isna' in housebase.columns\n",
    "\n",
    "print('... TESTING ...')"
   ]
  },
  {
   "cell_type": "markdown",
   "id": "fb41387f",
   "metadata": {},
   "source": [
    "### Находится ли дом в Москве\n",
    "\n",
    "Сделайте новый бинарный признак, который будет обозначать находится ли дом в Москве, назовите его `is_in_Moscow`. Для этого стоит анализировать уже имеющийся признак `unified_address`."
   ]
  },
  {
   "cell_type": "code",
   "execution_count": 31,
   "id": "0587576b",
   "metadata": {
    "ExecuteTime": {
     "end_time": "2021-01-24T14:05:18.087765Z",
     "start_time": "2021-01-24T14:05:18.086366Z"
    },
    "deletable": false,
    "nbgrader": {
     "cell_type": "code",
     "checksum": "7a39f6e07fd20e8f5fae686094ab8c9d",
     "grade": false,
     "grade_id": "cell-8a0a087fdae81cbf",
     "locked": false,
     "schema_version": 3,
     "solution": true,
     "task": false
    }
   },
   "outputs": [],
   "source": [
    "# your code here\n",
    "housebase['is_in_Moscow'] = housebase['unified_address'].apply(lambda x: x.split(',')).apply(lambda x: 1 if ' Москва' in x or 'Москва' in x else 0)"
   ]
  },
  {
   "cell_type": "code",
   "execution_count": 32,
   "id": "0be729ee",
   "metadata": {
    "deletable": false,
    "editable": false,
    "nbgrader": {
     "cell_type": "code",
     "checksum": "dcea6295290fbf58524d533ed79dd29f",
     "grade": true,
     "grade_id": "cell-45a9181278864ae2",
     "locked": true,
     "points": 5,
     "schema_version": 3,
     "solution": false,
     "task": false
    }
   },
   "outputs": [
    {
     "name": "stdout",
     "output_type": "stream",
     "text": [
      "... TESTING ...\n"
     ]
    }
   ],
   "source": [
    "### GRADING\n",
    "\n",
    "assert 'is_in_Moscow' in housebase.columns\n",
    "\n",
    "print('... TESTING ...')\n"
   ]
  },
  {
   "cell_type": "markdown",
   "id": "346ea19d",
   "metadata": {},
   "source": [
    "### Расстояние до центра города\n",
    "\n",
    "Создайте новый вещественный признак, который будет равен расстоянию от дома до Кремля, назовите его `center_dist`. Координаты Кремля: (55.7528, 37.6178)."
   ]
  },
  {
   "cell_type": "code",
   "execution_count": 33,
   "id": "37a5ee6b",
   "metadata": {},
   "outputs": [
    {
     "name": "stdout",
     "output_type": "stream",
     "text": [
      "Defaulting to user installation because normal site-packages is not writeable\n",
      "Requirement already satisfied: haversine in /home/seara/.local/lib/python3.9/site-packages (2.3.1)\n",
      "\u001b[33mWARNING: You are using pip version 21.2.2; however, version 21.2.3 is available.\n",
      "You should consider upgrading via the '/usr/bin/python -m pip install --upgrade pip' command.\u001b[0m\n"
     ]
    }
   ],
   "source": [
    "!pip install haversine\n",
    "from haversine import haversine"
   ]
  },
  {
   "cell_type": "code",
   "execution_count": 34,
   "id": "e2a82a0f",
   "metadata": {
    "ExecuteTime": {
     "end_time": "2021-01-24T14:06:33.218672Z",
     "start_time": "2021-01-24T14:06:33.217341Z"
    },
    "deletable": false,
    "nbgrader": {
     "cell_type": "code",
     "checksum": "04dcfcaa6ea7d982d3c1b649a4619c36",
     "grade": false,
     "grade_id": "cell-e0cbea832716f94e",
     "locked": false,
     "schema_version": 3,
     "solution": true,
     "task": false
    }
   },
   "outputs": [
    {
     "data": {
      "text/plain": [
       "0          5.832208\n",
       "1          5.877863\n",
       "2          5.916958\n",
       "3          8.320408\n",
       "4          8.285069\n",
       "            ...    \n",
       "112198    49.404777\n",
       "112199    76.145836\n",
       "112200     2.068485\n",
       "112201     8.981164\n",
       "112202     3.977095\n",
       "Name: center_dist, Length: 112203, dtype: float64"
      ]
     },
     "execution_count": 34,
     "metadata": {},
     "output_type": "execute_result"
    }
   ],
   "source": [
    "# your code hereLatitude and longitude\n",
    "msk = [55.7528, 37.6178]\n",
    "housebase['center_dist'] = housebase[['latitude','longitude']].apply(lambda x:haversine(x,msk,unit='km'),axis=1)\n",
    "housebase['center_dist']"
   ]
  },
  {
   "cell_type": "code",
   "execution_count": 35,
   "id": "52e8ee78",
   "metadata": {
    "deletable": false,
    "editable": false,
    "nbgrader": {
     "cell_type": "code",
     "checksum": "569baa5247ebc6d88d59a281ed8a8ea9",
     "grade": true,
     "grade_id": "cell-15c992b227056a55",
     "locked": true,
     "points": 10,
     "schema_version": 3,
     "solution": false,
     "task": false
    }
   },
   "outputs": [
    {
     "name": "stdout",
     "output_type": "stream",
     "text": [
      "... TESTING ...\n"
     ]
    }
   ],
   "source": [
    "### GRADING\n",
    "\n",
    "assert 'center_dist' in housebase.columns\n",
    "\n",
    "print('... TESTING ...')\n"
   ]
  },
  {
   "cell_type": "markdown",
   "id": "5c3be142",
   "metadata": {},
   "source": [
    "### Находится ли дом внутри колец\n",
    "\n",
    "Создайте три новых бинарных признака - находится ли дом внутри Бульварного, Садового или Третьего Транспортного Кольца. Для этого стоит сравнить уже полученное расстояние до Кремля с 1.5, 3 и 6 километрами, соответственно."
   ]
  },
  {
   "cell_type": "code",
   "execution_count": 36,
   "id": "e3e187be",
   "metadata": {
    "ExecuteTime": {
     "end_time": "2021-01-24T14:07:54.779584Z",
     "start_time": "2021-01-24T14:07:54.778232Z"
    }
   },
   "outputs": [],
   "source": [
    "### YOUR CODE HERE\n",
    "housebase['inside_bulvar'] = housebase['center_dist'].apply(lambda x: x<1.5).astype(int)\n",
    "housebase['inside_cad'] = housebase['center_dist'].apply(lambda x: x<3).astype(int)\n",
    "housebase['inside_ttk'] = housebase['center_dist'].apply(lambda x: x<6).astype(int)"
   ]
  },
  {
   "cell_type": "markdown",
   "id": "1b387f10",
   "metadata": {},
   "source": [
    "### Время года\n",
    "\n",
    "Добавьте новый категориальный признак, который будет равен времени года."
   ]
  },
  {
   "cell_type": "code",
   "execution_count": 37,
   "id": "102c682e",
   "metadata": {
    "ExecuteTime": {
     "end_time": "2021-01-24T14:08:53.464390Z",
     "start_time": "2021-01-24T14:08:53.462997Z"
    }
   },
   "outputs": [],
   "source": [
    "### YOUR CODE HERE\n",
    "seasons = {\n",
    "    '12' : 'winter',\n",
    "    '01' : 'winter',\n",
    "    '02' : 'winter',\n",
    "    '03' : 'spring',\n",
    "    '04' : 'spring',\n",
    "    '05' : 'spring',\n",
    "    '06' : 'summer',\n",
    "    '07' : 'summer',\n",
    "    '08' : 'summer',\n",
    "    '09' : 'fall',\n",
    "    '10' : 'fall',\n",
    "    '11' : 'fall',\n",
    "}\n",
    "train['season'] = train['month'].apply(lambda x: seasons[x.split('-')[1]])\n",
    "test['season'] = test['month'].apply(lambda x: seasons[x.split('-')[1]])"
   ]
  },
  {
   "cell_type": "markdown",
   "id": "caa3b630",
   "metadata": {},
   "source": [
    "## Подготовка данных для обучения"
   ]
  },
  {
   "cell_type": "markdown",
   "id": "96eddc75",
   "metadata": {},
   "source": [
    "Теперь нам надо объединить обе таблички, чтобы добавить информацию про дома для каждого района. Перед тем как объединять таблички нам нужно будет создать для каждого района образ \"среднего\" дома по району.\n",
    "\n",
    "Для этого мы для каждого категориального признака возьмем моду, для каждого вещественного медиану.\n",
    "\n",
    "Произведите вышеописанные манипуляции с housebase."
   ]
  },
  {
   "cell_type": "code",
   "execution_count": 38,
   "id": "04713780",
   "metadata": {
    "deletable": false,
    "nbgrader": {
     "cell_type": "code",
     "checksum": "25310fda0dd0a7e58296179f56cd5e73",
     "grade": false,
     "grade_id": "cell-b361ba5df6bfe485",
     "locked": false,
     "schema_version": 3,
     "solution": true,
     "task": false
    }
   },
   "outputs": [],
   "source": [
    "real_housebase = np.intersect1d(real_features, housebase.columns)\n",
    "cat_housebase = np.intersect1d(cat_features, housebase.columns)\n",
    "def combine_housebase(quadkeys_):\n",
    "    groups = housebase.loc[housebase['city_quadkey'].isin(quadkeys_)].groupby('city_quadkey')\n",
    "\n",
    "    aggs = {}\n",
    "    for feature in cat_housebase:\n",
    "        aggs[feature]=lambda x: x.mode()[0]\n",
    "    for feature in real_housebase:\n",
    "        aggs[feature]=lambda x: x.median()\n",
    "    \n",
    "    return groups.agg(aggs).reset_index(drop=False)"
   ]
  },
  {
   "cell_type": "code",
   "execution_count": 39,
   "id": "6c13c67e",
   "metadata": {},
   "outputs": [],
   "source": [
    "from multiprocessing import Pool, cpu_count\n",
    "from itertools import chain\n",
    "\n",
    "try:\n",
    "    with Pool(cpu_count()) as pool:\n",
    "        results = pool.map(combine_housebase, np.array_split(housebase['city_quadkey'].unique(), cpu_count()))\n",
    "except KeyboardInterrupt:\n",
    "    pass\n",
    "\n",
    "housebase = pd.concat(results)"
   ]
  },
  {
   "cell_type": "code",
   "execution_count": 40,
   "id": "ef19d88c",
   "metadata": {
    "deletable": false,
    "editable": false,
    "nbgrader": {
     "cell_type": "code",
     "checksum": "78a8cffdc5e51b21a98513c6e4d8aa66",
     "grade": true,
     "grade_id": "cell-87eb1eab7776962a",
     "locked": true,
     "points": 20,
     "schema_version": 3,
     "solution": false,
     "task": false
    }
   },
   "outputs": [
    {
     "name": "stdout",
     "output_type": "stream",
     "text": [
      "... TESTING ...\n"
     ]
    }
   ],
   "source": [
    "### GRADING\n",
    "\n",
    "assert len(housebase) == housebase['city_quadkey'].nunique()\n",
    "\n",
    "print('... TESTING ...')\n"
   ]
  },
  {
   "cell_type": "code",
   "execution_count": 41,
   "id": "70f94c5f",
   "metadata": {},
   "outputs": [],
   "source": [
    "train_data = train.join(housebase.set_index('city_quadkey'), on='city_quadkey', how='left')\n",
    "test_data = test.join(housebase.set_index('city_quadkey'), on='city_quadkey', how='left')"
   ]
  },
  {
   "cell_type": "markdown",
   "id": "45645ee6",
   "metadata": {},
   "source": [
    "Добавим еще один вещественный признак - возраст дома."
   ]
  },
  {
   "cell_type": "code",
   "execution_count": 42,
   "id": "1199d8d0",
   "metadata": {},
   "outputs": [],
   "source": [
    "train_data['build_year'] = train_data['month'].str.split('-').map(lambda x: x[0]).astype(int) - train_data['build_year']\n",
    "test_data['build_year'] = test_data['month'].str.split('-').map(lambda x: x[0]).astype(int) - test_data['build_year']"
   ]
  },
  {
   "cell_type": "code",
   "execution_count": 43,
   "id": "3561cab0",
   "metadata": {},
   "outputs": [
    {
     "data": {
      "text/plain": [
       "Index(['month', 'city_quadkey', 'apartment_ratio', 'offers_in_sites_ratio',\n",
       "       'studio_ratio', 'rooms_offered_1_ratio', 'rooms_offered_2_ratio',\n",
       "       'rooms_offered_3_ratio', 'rooms_offered_4_more_ratio', 'total_area_avg',\n",
       "       'unique_active_buildings_count', 'unique_active_building_series_count',\n",
       "       'offer_count', 'avg_price_sqm', 'season', 'building_type',\n",
       "       'expect_demolition', 'has_elevator', 'is_in_Moscow', 'art_cnt',\n",
       "       'beauty_cnt', 'build_year', 'cafe_restaurant_eating_out_cnt',\n",
       "       'ceiling_height', 'center_dist', 'chain_cnt', 'entertainment_cnt',\n",
       "       'flats_count', 'groceries_and_everyday_items_cnt', 'healthcare_cnt',\n",
       "       'laundry_and_repair_services_cnt', 'shopping_cnt', 'sport_cnt'],\n",
       "      dtype='object')"
      ]
     },
     "execution_count": 43,
     "metadata": {},
     "output_type": "execute_result"
    }
   ],
   "source": [
    "train_data.columns"
   ]
  },
  {
   "cell_type": "code",
   "execution_count": 44,
   "id": "e155e1a6",
   "metadata": {},
   "outputs": [],
   "source": [
    "train_data.drop(['month', 'city_quadkey','offers_in_sites_ratio'],inplace=True,axis=1)\n",
    "test_data.drop(['month', 'city_quadkey','offers_in_sites_ratio'],inplace=True,axis=1)"
   ]
  },
  {
   "cell_type": "markdown",
   "id": "01e8a6c7",
   "metadata": {},
   "source": [
    "Разделим данные на признаки и целевую переменную."
   ]
  },
  {
   "cell_type": "code",
   "execution_count": 45,
   "id": "0a470a9c",
   "metadata": {
    "ExecuteTime": {
     "end_time": "2021-01-24T14:24:07.473725Z",
     "start_time": "2021-01-24T14:24:07.466157Z"
    }
   },
   "outputs": [],
   "source": [
    "x_train, y_train = train_data.drop(['avg_price_sqm'], axis=1), train_data[['avg_price_sqm']]\n",
    "x_test, y_test = test_data.drop(['avg_price_sqm'], axis=1), test_data[['avg_price_sqm']]"
   ]
  },
  {
   "cell_type": "markdown",
   "id": "f08a6855",
   "metadata": {},
   "source": [
    "В качестве бейзлайна возьмем значение нашей метрики (MAPE) для медианы обучающей выборки:"
   ]
  },
  {
   "cell_type": "code",
   "execution_count": 46,
   "id": "d2398dc1",
   "metadata": {
    "ExecuteTime": {
     "end_time": "2021-01-24T14:24:32.857039Z",
     "start_time": "2021-01-24T14:24:32.855190Z"
    }
   },
   "outputs": [],
   "source": [
    "def mape(y_true, y_pred):\n",
    "    y_true, y_pred = np.array(y_true), np.array(y_pred)\n",
    "    return np.mean(np.abs((y_true - y_pred) / y_true)) * 100"
   ]
  },
  {
   "cell_type": "code",
   "execution_count": 47,
   "id": "221b49de",
   "metadata": {
    "ExecuteTime": {
     "end_time": "2021-01-24T14:24:33.738195Z",
     "start_time": "2021-01-24T14:24:33.239431Z"
    }
   },
   "outputs": [
    {
     "data": {
      "text/plain": [
       "'MAPE baseline: TRAIN 50.77, TEST 54.41'"
      ]
     },
     "execution_count": 47,
     "metadata": {},
     "output_type": "execute_result"
    }
   ],
   "source": [
    "y_dummy = y_train.median()\n",
    "\n",
    "f'MAPE baseline: TRAIN {mape(y_train, y_dummy):.2f}, TEST {mape(y_test, y_dummy):.2f}'"
   ]
  },
  {
   "cell_type": "markdown",
   "id": "33078d78",
   "metadata": {},
   "source": [
    "## Перебор гиперпараметров"
   ]
  },
  {
   "cell_type": "markdown",
   "id": "b13abc8c",
   "metadata": {},
   "source": [
    "Заполните пропуски в функции для поиска лучших гиперпараметров для модели."
   ]
  },
  {
   "cell_type": "code",
   "execution_count": 48,
   "id": "fbeca291",
   "metadata": {},
   "outputs": [],
   "source": [
    "from sklearn.compose import ColumnTransformer\n",
    "from sklearn.model_selection import GridSearchCV\n",
    "from sklearn.pipeline import Pipeline\n",
    "from sklearn.preprocessing import OneHotEncoder, StandardScaler"
   ]
  },
  {
   "cell_type": "code",
   "execution_count": 49,
   "id": "bb9f6d58",
   "metadata": {
    "deletable": false,
    "nbgrader": {
     "cell_type": "code",
     "checksum": "13563f9cad73117cdc16dde12eae23c3",
     "grade": false,
     "grade_id": "cell-62bba7d855192ba5",
     "locked": false,
     "schema_version": 3,
     "solution": true,
     "task": false
    }
   },
   "outputs": [],
   "source": [
    "from sklearn.metrics import make_scorer\n",
    "\n",
    "scorer = make_scorer(mape, greater_is_better=False)\n",
    "\n",
    "\n",
    "def hyperopt(estimator, params, cat=None, real=None):\n",
    "    if cat is None:\n",
    "        cat = cat_features\n",
    "    \n",
    "    if real is None:\n",
    "        real = real_features\n",
    "\n",
    "    column_transformer = ColumnTransformer(\n",
    "        transformers=[\n",
    "            ('first',OneHotEncoder(handle_unknown = 'ignore'),cat),\n",
    "            ('second',StandardScaler(),real)\n",
    "            \n",
    "        ]\n",
    "    )\n",
    "    \n",
    "    pipeline = Pipeline(\n",
    "        steps=[\n",
    "            ('preprocessor' ,column_transformer),\n",
    "            ('estimator' , estimator)\n",
    "            \n",
    "        ]\n",
    "    )\n",
    "    grid = GridSearchCV(\n",
    "        estimator=pipeline,\n",
    "        param_grid=params,\n",
    "        scoring=scorer,\n",
    "        cv=3,\n",
    "        verbose=10,\n",
    "        n_jobs=1\n",
    "    )\n",
    "    \n",
    "    grid.fit(x_train, y_train)\n",
    "    \n",
    "    # write best params to `best_params`\n",
    "    # your code here\n",
    "    best_params = grid.best_params_\n",
    "    \n",
    "    score_train = mape(y_train, grid.predict(x_train))\n",
    "    score_test = mape(y_test, grid.predict(x_test))\n",
    "    \n",
    "    return score_train, score_test, best_params"
   ]
  },
  {
   "cell_type": "code",
   "execution_count": 50,
   "id": "332b0c79",
   "metadata": {
    "deletable": false,
    "editable": false,
    "nbgrader": {
     "cell_type": "code",
     "checksum": "d08bcbfd8efba53e19b24f5881863a6c",
     "grade": true,
     "grade_id": "cell-20b40e4b44acaf3a",
     "locked": true,
     "points": 20,
     "schema_version": 3,
     "solution": false,
     "task": false
    }
   },
   "outputs": [
    {
     "name": "stdout",
     "output_type": "stream",
     "text": [
      "... TESTING ...\n"
     ]
    }
   ],
   "source": [
    "### GRADING\n",
    "\n",
    "print('... TESTING ...')\n"
   ]
  },
  {
   "cell_type": "markdown",
   "id": "320ad14d",
   "metadata": {},
   "source": [
    "## Сравнение моделей"
   ]
  },
  {
   "cell_type": "markdown",
   "id": "c6e0300b",
   "metadata": {},
   "source": [
    "Подберите для каждой из следующих моделей лучшие гиперпараметры с помощью функции, которую вы написали выше.\n",
    "\n",
    "- Линейная модель с l2 регуляризацией\n",
    "- Решающее дерево\n",
    "- Случайный лес\n",
    "- Градиентный бустинг\n",
    "- Метод ближайших соседей"
   ]
  },
  {
   "cell_type": "markdown",
   "id": "750706f7",
   "metadata": {},
   "source": [
    "### Линейная модель с l2 регуляризацией\n",
    "\n",
    "Попробуйте исследовать влияние `alpha` и `max_iter` на результат."
   ]
  },
  {
   "cell_type": "code",
   "execution_count": 51,
   "id": "919dc449",
   "metadata": {
    "scrolled": true,
    "tags": []
   },
   "outputs": [
    {
     "name": "stdout",
     "output_type": "stream",
     "text": [
      "Fitting 3 folds for each of 60 candidates, totalling 180 fits\n",
      "[CV 1/3; 1/60] START estimator__alpha=4, estimator__max_iter=300................\n",
      "[CV 1/3; 1/60] END estimator__alpha=4, estimator__max_iter=300;, score=-26.892 total time=   0.2s\n",
      "[CV 2/3; 1/60] START estimator__alpha=4, estimator__max_iter=300................\n",
      "[CV 2/3; 1/60] END estimator__alpha=4, estimator__max_iter=300;, score=-27.359 total time=   0.2s\n",
      "[CV 3/3; 1/60] START estimator__alpha=4, estimator__max_iter=300................\n",
      "[CV 3/3; 1/60] END estimator__alpha=4, estimator__max_iter=300;, score=-26.289 total time=   0.1s\n",
      "[CV 1/3; 2/60] START estimator__alpha=4, estimator__max_iter=400................\n",
      "[CV 1/3; 2/60] END estimator__alpha=4, estimator__max_iter=400;, score=-26.892 total time=   0.2s\n",
      "[CV 2/3; 2/60] START estimator__alpha=4, estimator__max_iter=400................\n",
      "[CV 2/3; 2/60] END estimator__alpha=4, estimator__max_iter=400;, score=-27.359 total time=   0.2s\n",
      "[CV 3/3; 2/60] START estimator__alpha=4, estimator__max_iter=400................\n",
      "[CV 3/3; 2/60] END estimator__alpha=4, estimator__max_iter=400;, score=-26.289 total time=   0.2s\n",
      "[CV 1/3; 3/60] START estimator__alpha=4, estimator__max_iter=500................\n",
      "[CV 1/3; 3/60] END estimator__alpha=4, estimator__max_iter=500;, score=-26.892 total time=   0.2s\n",
      "[CV 2/3; 3/60] START estimator__alpha=4, estimator__max_iter=500................\n",
      "[CV 2/3; 3/60] END estimator__alpha=4, estimator__max_iter=500;, score=-27.359 total time=   0.1s\n",
      "[CV 3/3; 3/60] START estimator__alpha=4, estimator__max_iter=500................\n",
      "[CV 3/3; 3/60] END estimator__alpha=4, estimator__max_iter=500;, score=-26.289 total time=   0.2s\n",
      "[CV 1/3; 4/60] START estimator__alpha=4, estimator__max_iter=600................\n",
      "[CV 1/3; 4/60] END estimator__alpha=4, estimator__max_iter=600;, score=-26.892 total time=   0.2s\n",
      "[CV 2/3; 4/60] START estimator__alpha=4, estimator__max_iter=600................\n",
      "[CV 2/3; 4/60] END estimator__alpha=4, estimator__max_iter=600;, score=-27.359 total time=   0.2s\n",
      "[CV 3/3; 4/60] START estimator__alpha=4, estimator__max_iter=600................\n",
      "[CV 3/3; 4/60] END estimator__alpha=4, estimator__max_iter=600;, score=-26.289 total time=   0.2s\n",
      "[CV 1/3; 5/60] START estimator__alpha=4, estimator__max_iter=700................\n",
      "[CV 1/3; 5/60] END estimator__alpha=4, estimator__max_iter=700;, score=-26.892 total time=   0.2s\n",
      "[CV 2/3; 5/60] START estimator__alpha=4, estimator__max_iter=700................\n",
      "[CV 2/3; 5/60] END estimator__alpha=4, estimator__max_iter=700;, score=-27.359 total time=   0.2s\n",
      "[CV 3/3; 5/60] START estimator__alpha=4, estimator__max_iter=700................\n",
      "[CV 3/3; 5/60] END estimator__alpha=4, estimator__max_iter=700;, score=-26.289 total time=   0.2s\n",
      "[CV 1/3; 6/60] START estimator__alpha=3, estimator__max_iter=300................\n",
      "[CV 1/3; 6/60] END estimator__alpha=3, estimator__max_iter=300;, score=-26.893 total time=   0.2s\n",
      "[CV 2/3; 6/60] START estimator__alpha=3, estimator__max_iter=300................\n",
      "[CV 2/3; 6/60] END estimator__alpha=3, estimator__max_iter=300;, score=-27.360 total time=   0.2s\n",
      "[CV 3/3; 6/60] START estimator__alpha=3, estimator__max_iter=300................\n",
      "[CV 3/3; 6/60] END estimator__alpha=3, estimator__max_iter=300;, score=-26.290 total time=   0.2s\n",
      "[CV 1/3; 7/60] START estimator__alpha=3, estimator__max_iter=400................\n",
      "[CV 1/3; 7/60] END estimator__alpha=3, estimator__max_iter=400;, score=-26.893 total time=   0.2s\n",
      "[CV 2/3; 7/60] START estimator__alpha=3, estimator__max_iter=400................\n",
      "[CV 2/3; 7/60] END estimator__alpha=3, estimator__max_iter=400;, score=-27.360 total time=   0.2s\n",
      "[CV 3/3; 7/60] START estimator__alpha=3, estimator__max_iter=400................\n",
      "[CV 3/3; 7/60] END estimator__alpha=3, estimator__max_iter=400;, score=-26.290 total time=   0.2s\n",
      "[CV 1/3; 8/60] START estimator__alpha=3, estimator__max_iter=500................\n",
      "[CV 1/3; 8/60] END estimator__alpha=3, estimator__max_iter=500;, score=-26.893 total time=   0.2s\n",
      "[CV 2/3; 8/60] START estimator__alpha=3, estimator__max_iter=500................\n",
      "[CV 2/3; 8/60] END estimator__alpha=3, estimator__max_iter=500;, score=-27.360 total time=   0.2s\n",
      "[CV 3/3; 8/60] START estimator__alpha=3, estimator__max_iter=500................\n",
      "[CV 3/3; 8/60] END estimator__alpha=3, estimator__max_iter=500;, score=-26.290 total time=   0.2s\n",
      "[CV 1/3; 9/60] START estimator__alpha=3, estimator__max_iter=600................\n",
      "[CV 1/3; 9/60] END estimator__alpha=3, estimator__max_iter=600;, score=-26.893 total time=   0.2s\n",
      "[CV 2/3; 9/60] START estimator__alpha=3, estimator__max_iter=600................\n",
      "[CV 2/3; 9/60] END estimator__alpha=3, estimator__max_iter=600;, score=-27.360 total time=   0.1s\n",
      "[CV 3/3; 9/60] START estimator__alpha=3, estimator__max_iter=600................\n",
      "[CV 3/3; 9/60] END estimator__alpha=3, estimator__max_iter=600;, score=-26.290 total time=   0.2s\n",
      "[CV 1/3; 10/60] START estimator__alpha=3, estimator__max_iter=700...............\n",
      "[CV 1/3; 10/60] END estimator__alpha=3, estimator__max_iter=700;, score=-26.893 total time=   0.2s\n",
      "[CV 2/3; 10/60] START estimator__alpha=3, estimator__max_iter=700...............\n",
      "[CV 2/3; 10/60] END estimator__alpha=3, estimator__max_iter=700;, score=-27.360 total time=   0.2s\n",
      "[CV 3/3; 10/60] START estimator__alpha=3, estimator__max_iter=700...............\n",
      "[CV 3/3; 10/60] END estimator__alpha=3, estimator__max_iter=700;, score=-26.290 total time=   0.2s\n",
      "[CV 1/3; 11/60] START estimator__alpha=2, estimator__max_iter=300...............\n",
      "[CV 1/3; 11/60] END estimator__alpha=2, estimator__max_iter=300;, score=-26.893 total time=   0.2s\n",
      "[CV 2/3; 11/60] START estimator__alpha=2, estimator__max_iter=300...............\n",
      "[CV 2/3; 11/60] END estimator__alpha=2, estimator__max_iter=300;, score=-27.360 total time=   0.2s\n",
      "[CV 3/3; 11/60] START estimator__alpha=2, estimator__max_iter=300...............\n",
      "[CV 3/3; 11/60] END estimator__alpha=2, estimator__max_iter=300;, score=-26.291 total time=   0.2s\n",
      "[CV 1/3; 12/60] START estimator__alpha=2, estimator__max_iter=400...............\n",
      "[CV 1/3; 12/60] END estimator__alpha=2, estimator__max_iter=400;, score=-26.893 total time=   0.1s\n",
      "[CV 2/3; 12/60] START estimator__alpha=2, estimator__max_iter=400...............\n",
      "[CV 2/3; 12/60] END estimator__alpha=2, estimator__max_iter=400;, score=-27.360 total time=   0.2s\n",
      "[CV 3/3; 12/60] START estimator__alpha=2, estimator__max_iter=400...............\n",
      "[CV 3/3; 12/60] END estimator__alpha=2, estimator__max_iter=400;, score=-26.291 total time=   0.2s\n",
      "[CV 1/3; 13/60] START estimator__alpha=2, estimator__max_iter=500...............\n",
      "[CV 1/3; 13/60] END estimator__alpha=2, estimator__max_iter=500;, score=-26.893 total time=   0.2s\n",
      "[CV 2/3; 13/60] START estimator__alpha=2, estimator__max_iter=500...............\n",
      "[CV 2/3; 13/60] END estimator__alpha=2, estimator__max_iter=500;, score=-27.360 total time=   0.2s\n",
      "[CV 3/3; 13/60] START estimator__alpha=2, estimator__max_iter=500...............\n",
      "[CV 3/3; 13/60] END estimator__alpha=2, estimator__max_iter=500;, score=-26.291 total time=   0.2s\n",
      "[CV 1/3; 14/60] START estimator__alpha=2, estimator__max_iter=600...............\n",
      "[CV 1/3; 14/60] END estimator__alpha=2, estimator__max_iter=600;, score=-26.893 total time=   0.2s\n",
      "[CV 2/3; 14/60] START estimator__alpha=2, estimator__max_iter=600...............\n",
      "[CV 2/3; 14/60] END estimator__alpha=2, estimator__max_iter=600;, score=-27.360 total time=   0.2s\n",
      "[CV 3/3; 14/60] START estimator__alpha=2, estimator__max_iter=600...............\n",
      "[CV 3/3; 14/60] END estimator__alpha=2, estimator__max_iter=600;, score=-26.291 total time=   0.2s\n",
      "[CV 1/3; 15/60] START estimator__alpha=2, estimator__max_iter=700...............\n",
      "[CV 1/3; 15/60] END estimator__alpha=2, estimator__max_iter=700;, score=-26.893 total time=   0.2s\n",
      "[CV 2/3; 15/60] START estimator__alpha=2, estimator__max_iter=700...............\n",
      "[CV 2/3; 15/60] END estimator__alpha=2, estimator__max_iter=700;, score=-27.360 total time=   0.2s\n",
      "[CV 3/3; 15/60] START estimator__alpha=2, estimator__max_iter=700...............\n",
      "[CV 3/3; 15/60] END estimator__alpha=2, estimator__max_iter=700;, score=-26.291 total time=   0.2s\n",
      "[CV 1/3; 16/60] START estimator__alpha=1.0, estimator__max_iter=300.............\n",
      "[CV 1/3; 16/60] END estimator__alpha=1.0, estimator__max_iter=300;, score=-26.894 total time=   0.1s\n",
      "[CV 2/3; 16/60] START estimator__alpha=1.0, estimator__max_iter=300.............\n",
      "[CV 2/3; 16/60] END estimator__alpha=1.0, estimator__max_iter=300;, score=-27.360 total time=   0.2s\n",
      "[CV 3/3; 16/60] START estimator__alpha=1.0, estimator__max_iter=300.............\n",
      "[CV 3/3; 16/60] END estimator__alpha=1.0, estimator__max_iter=300;, score=-26.292 total time=   0.1s\n",
      "[CV 1/3; 17/60] START estimator__alpha=1.0, estimator__max_iter=400.............\n",
      "[CV 1/3; 17/60] END estimator__alpha=1.0, estimator__max_iter=400;, score=-26.894 total time=   0.2s\n",
      "[CV 2/3; 17/60] START estimator__alpha=1.0, estimator__max_iter=400.............\n",
      "[CV 2/3; 17/60] END estimator__alpha=1.0, estimator__max_iter=400;, score=-27.360 total time=   0.2s\n",
      "[CV 3/3; 17/60] START estimator__alpha=1.0, estimator__max_iter=400.............\n",
      "[CV 3/3; 17/60] END estimator__alpha=1.0, estimator__max_iter=400;, score=-26.292 total time=   0.2s\n",
      "[CV 1/3; 18/60] START estimator__alpha=1.0, estimator__max_iter=500.............\n",
      "[CV 1/3; 18/60] END estimator__alpha=1.0, estimator__max_iter=500;, score=-26.894 total time=   0.2s\n",
      "[CV 2/3; 18/60] START estimator__alpha=1.0, estimator__max_iter=500.............\n",
      "[CV 2/3; 18/60] END estimator__alpha=1.0, estimator__max_iter=500;, score=-27.360 total time=   0.2s\n",
      "[CV 3/3; 18/60] START estimator__alpha=1.0, estimator__max_iter=500.............\n",
      "[CV 3/3; 18/60] END estimator__alpha=1.0, estimator__max_iter=500;, score=-26.292 total time=   0.2s\n",
      "[CV 1/3; 19/60] START estimator__alpha=1.0, estimator__max_iter=600.............\n",
      "[CV 1/3; 19/60] END estimator__alpha=1.0, estimator__max_iter=600;, score=-26.894 total time=   0.2s\n",
      "[CV 2/3; 19/60] START estimator__alpha=1.0, estimator__max_iter=600.............\n",
      "[CV 2/3; 19/60] END estimator__alpha=1.0, estimator__max_iter=600;, score=-27.360 total time=   0.2s\n",
      "[CV 3/3; 19/60] START estimator__alpha=1.0, estimator__max_iter=600.............\n",
      "[CV 3/3; 19/60] END estimator__alpha=1.0, estimator__max_iter=600;, score=-26.292 total time=   0.2s\n",
      "[CV 1/3; 20/60] START estimator__alpha=1.0, estimator__max_iter=700.............\n",
      "[CV 1/3; 20/60] END estimator__alpha=1.0, estimator__max_iter=700;, score=-26.894 total time=   0.2s\n",
      "[CV 2/3; 20/60] START estimator__alpha=1.0, estimator__max_iter=700.............\n",
      "[CV 2/3; 20/60] END estimator__alpha=1.0, estimator__max_iter=700;, score=-27.360 total time=   0.2s\n",
      "[CV 3/3; 20/60] START estimator__alpha=1.0, estimator__max_iter=700.............\n",
      "[CV 3/3; 20/60] END estimator__alpha=1.0, estimator__max_iter=700;, score=-26.292 total time=   0.2s\n",
      "[CV 1/3; 21/60] START estimator__alpha=0.8, estimator__max_iter=300.............\n",
      "[CV 1/3; 21/60] END estimator__alpha=0.8, estimator__max_iter=300;, score=-26.894 total time=   0.2s\n",
      "[CV 2/3; 21/60] START estimator__alpha=0.8, estimator__max_iter=300.............\n",
      "[CV 2/3; 21/60] END estimator__alpha=0.8, estimator__max_iter=300;, score=-27.361 total time=   0.2s\n",
      "[CV 3/3; 21/60] START estimator__alpha=0.8, estimator__max_iter=300.............\n",
      "[CV 3/3; 21/60] END estimator__alpha=0.8, estimator__max_iter=300;, score=-26.292 total time=   0.2s\n",
      "[CV 1/3; 22/60] START estimator__alpha=0.8, estimator__max_iter=400.............\n",
      "[CV 1/3; 22/60] END estimator__alpha=0.8, estimator__max_iter=400;, score=-26.894 total time=   0.2s\n",
      "[CV 2/3; 22/60] START estimator__alpha=0.8, estimator__max_iter=400.............\n",
      "[CV 2/3; 22/60] END estimator__alpha=0.8, estimator__max_iter=400;, score=-27.361 total time=   0.2s\n",
      "[CV 3/3; 22/60] START estimator__alpha=0.8, estimator__max_iter=400.............\n",
      "[CV 3/3; 22/60] END estimator__alpha=0.8, estimator__max_iter=400;, score=-26.292 total time=   0.1s\n",
      "[CV 1/3; 23/60] START estimator__alpha=0.8, estimator__max_iter=500.............\n",
      "[CV 1/3; 23/60] END estimator__alpha=0.8, estimator__max_iter=500;, score=-26.894 total time=   0.2s\n",
      "[CV 2/3; 23/60] START estimator__alpha=0.8, estimator__max_iter=500.............\n",
      "[CV 2/3; 23/60] END estimator__alpha=0.8, estimator__max_iter=500;, score=-27.361 total time=   0.2s\n",
      "[CV 3/3; 23/60] START estimator__alpha=0.8, estimator__max_iter=500.............\n",
      "[CV 3/3; 23/60] END estimator__alpha=0.8, estimator__max_iter=500;, score=-26.292 total time=   0.2s\n",
      "[CV 1/3; 24/60] START estimator__alpha=0.8, estimator__max_iter=600.............\n",
      "[CV 1/3; 24/60] END estimator__alpha=0.8, estimator__max_iter=600;, score=-26.894 total time=   0.2s\n",
      "[CV 2/3; 24/60] START estimator__alpha=0.8, estimator__max_iter=600.............\n",
      "[CV 2/3; 24/60] END estimator__alpha=0.8, estimator__max_iter=600;, score=-27.361 total time=   0.2s\n",
      "[CV 3/3; 24/60] START estimator__alpha=0.8, estimator__max_iter=600.............\n",
      "[CV 3/3; 24/60] END estimator__alpha=0.8, estimator__max_iter=600;, score=-26.292 total time=   0.1s\n",
      "[CV 1/3; 25/60] START estimator__alpha=0.8, estimator__max_iter=700.............\n",
      "[CV 1/3; 25/60] END estimator__alpha=0.8, estimator__max_iter=700;, score=-26.894 total time=   0.2s\n",
      "[CV 2/3; 25/60] START estimator__alpha=0.8, estimator__max_iter=700.............\n",
      "[CV 2/3; 25/60] END estimator__alpha=0.8, estimator__max_iter=700;, score=-27.361 total time=   0.1s\n",
      "[CV 3/3; 25/60] START estimator__alpha=0.8, estimator__max_iter=700.............\n",
      "[CV 3/3; 25/60] END estimator__alpha=0.8, estimator__max_iter=700;, score=-26.292 total time=   0.1s\n",
      "[CV 1/3; 26/60] START estimator__alpha=0.5, estimator__max_iter=300.............\n",
      "[CV 1/3; 26/60] END estimator__alpha=0.5, estimator__max_iter=300;, score=-26.894 total time=   0.1s\n",
      "[CV 2/3; 26/60] START estimator__alpha=0.5, estimator__max_iter=300.............\n",
      "[CV 2/3; 26/60] END estimator__alpha=0.5, estimator__max_iter=300;, score=-27.361 total time=   0.1s\n",
      "[CV 3/3; 26/60] START estimator__alpha=0.5, estimator__max_iter=300.............\n",
      "[CV 3/3; 26/60] END estimator__alpha=0.5, estimator__max_iter=300;, score=-26.292 total time=   0.1s\n",
      "[CV 1/3; 27/60] START estimator__alpha=0.5, estimator__max_iter=400.............\n",
      "[CV 1/3; 27/60] END estimator__alpha=0.5, estimator__max_iter=400;, score=-26.894 total time=   0.1s\n",
      "[CV 2/3; 27/60] START estimator__alpha=0.5, estimator__max_iter=400.............\n",
      "[CV 2/3; 27/60] END estimator__alpha=0.5, estimator__max_iter=400;, score=-27.361 total time=   0.1s\n",
      "[CV 3/3; 27/60] START estimator__alpha=0.5, estimator__max_iter=400.............\n",
      "[CV 3/3; 27/60] END estimator__alpha=0.5, estimator__max_iter=400;, score=-26.292 total time=   0.2s\n",
      "[CV 1/3; 28/60] START estimator__alpha=0.5, estimator__max_iter=500.............\n",
      "[CV 1/3; 28/60] END estimator__alpha=0.5, estimator__max_iter=500;, score=-26.894 total time=   0.2s\n",
      "[CV 2/3; 28/60] START estimator__alpha=0.5, estimator__max_iter=500.............\n",
      "[CV 2/3; 28/60] END estimator__alpha=0.5, estimator__max_iter=500;, score=-27.361 total time=   0.2s\n",
      "[CV 3/3; 28/60] START estimator__alpha=0.5, estimator__max_iter=500.............\n",
      "[CV 3/3; 28/60] END estimator__alpha=0.5, estimator__max_iter=500;, score=-26.292 total time=   0.1s\n",
      "[CV 1/3; 29/60] START estimator__alpha=0.5, estimator__max_iter=600.............\n",
      "[CV 1/3; 29/60] END estimator__alpha=0.5, estimator__max_iter=600;, score=-26.894 total time=   0.2s\n",
      "[CV 2/3; 29/60] START estimator__alpha=0.5, estimator__max_iter=600.............\n",
      "[CV 2/3; 29/60] END estimator__alpha=0.5, estimator__max_iter=600;, score=-27.361 total time=   0.1s\n",
      "[CV 3/3; 29/60] START estimator__alpha=0.5, estimator__max_iter=600.............\n",
      "[CV 3/3; 29/60] END estimator__alpha=0.5, estimator__max_iter=600;, score=-26.292 total time=   0.1s\n",
      "[CV 1/3; 30/60] START estimator__alpha=0.5, estimator__max_iter=700.............\n",
      "[CV 1/3; 30/60] END estimator__alpha=0.5, estimator__max_iter=700;, score=-26.894 total time=   0.1s\n",
      "[CV 2/3; 30/60] START estimator__alpha=0.5, estimator__max_iter=700.............\n",
      "[CV 2/3; 30/60] END estimator__alpha=0.5, estimator__max_iter=700;, score=-27.361 total time=   0.1s\n",
      "[CV 3/3; 30/60] START estimator__alpha=0.5, estimator__max_iter=700.............\n",
      "[CV 3/3; 30/60] END estimator__alpha=0.5, estimator__max_iter=700;, score=-26.292 total time=   0.2s\n",
      "[CV 1/3; 31/60] START estimator__alpha=0.3, estimator__max_iter=300.............\n",
      "[CV 1/3; 31/60] END estimator__alpha=0.3, estimator__max_iter=300;, score=-26.894 total time=   0.2s\n",
      "[CV 2/3; 31/60] START estimator__alpha=0.3, estimator__max_iter=300.............\n",
      "[CV 2/3; 31/60] END estimator__alpha=0.3, estimator__max_iter=300;, score=-27.361 total time=   0.2s\n",
      "[CV 3/3; 31/60] START estimator__alpha=0.3, estimator__max_iter=300.............\n",
      "[CV 3/3; 31/60] END estimator__alpha=0.3, estimator__max_iter=300;, score=-26.292 total time=   0.2s\n",
      "[CV 1/3; 32/60] START estimator__alpha=0.3, estimator__max_iter=400.............\n",
      "[CV 1/3; 32/60] END estimator__alpha=0.3, estimator__max_iter=400;, score=-26.894 total time=   0.2s\n",
      "[CV 2/3; 32/60] START estimator__alpha=0.3, estimator__max_iter=400.............\n",
      "[CV 2/3; 32/60] END estimator__alpha=0.3, estimator__max_iter=400;, score=-27.361 total time=   0.2s\n",
      "[CV 3/3; 32/60] START estimator__alpha=0.3, estimator__max_iter=400.............\n",
      "[CV 3/3; 32/60] END estimator__alpha=0.3, estimator__max_iter=400;, score=-26.292 total time=   0.2s\n",
      "[CV 1/3; 33/60] START estimator__alpha=0.3, estimator__max_iter=500.............\n",
      "[CV 1/3; 33/60] END estimator__alpha=0.3, estimator__max_iter=500;, score=-26.894 total time=   0.2s\n",
      "[CV 2/3; 33/60] START estimator__alpha=0.3, estimator__max_iter=500.............\n",
      "[CV 2/3; 33/60] END estimator__alpha=0.3, estimator__max_iter=500;, score=-27.361 total time=   0.2s\n",
      "[CV 3/3; 33/60] START estimator__alpha=0.3, estimator__max_iter=500.............\n",
      "[CV 3/3; 33/60] END estimator__alpha=0.3, estimator__max_iter=500;, score=-26.292 total time=   0.2s\n",
      "[CV 1/3; 34/60] START estimator__alpha=0.3, estimator__max_iter=600.............\n",
      "[CV 1/3; 34/60] END estimator__alpha=0.3, estimator__max_iter=600;, score=-26.894 total time=   0.2s\n",
      "[CV 2/3; 34/60] START estimator__alpha=0.3, estimator__max_iter=600.............\n",
      "[CV 2/3; 34/60] END estimator__alpha=0.3, estimator__max_iter=600;, score=-27.361 total time=   0.2s\n",
      "[CV 3/3; 34/60] START estimator__alpha=0.3, estimator__max_iter=600.............\n",
      "[CV 3/3; 34/60] END estimator__alpha=0.3, estimator__max_iter=600;, score=-26.292 total time=   0.2s\n",
      "[CV 1/3; 35/60] START estimator__alpha=0.3, estimator__max_iter=700.............\n",
      "[CV 1/3; 35/60] END estimator__alpha=0.3, estimator__max_iter=700;, score=-26.894 total time=   0.1s\n",
      "[CV 2/3; 35/60] START estimator__alpha=0.3, estimator__max_iter=700.............\n",
      "[CV 2/3; 35/60] END estimator__alpha=0.3, estimator__max_iter=700;, score=-27.361 total time=   0.1s\n",
      "[CV 3/3; 35/60] START estimator__alpha=0.3, estimator__max_iter=700.............\n",
      "[CV 3/3; 35/60] END estimator__alpha=0.3, estimator__max_iter=700;, score=-26.292 total time=   0.1s\n",
      "[CV 1/3; 36/60] START estimator__alpha=0.2, estimator__max_iter=300.............\n",
      "[CV 1/3; 36/60] END estimator__alpha=0.2, estimator__max_iter=300;, score=-26.895 total time=   0.2s\n",
      "[CV 2/3; 36/60] START estimator__alpha=0.2, estimator__max_iter=300.............\n",
      "[CV 2/3; 36/60] END estimator__alpha=0.2, estimator__max_iter=300;, score=-27.361 total time=   0.2s\n",
      "[CV 3/3; 36/60] START estimator__alpha=0.2, estimator__max_iter=300.............\n",
      "[CV 3/3; 36/60] END estimator__alpha=0.2, estimator__max_iter=300;, score=-26.292 total time=   0.1s\n",
      "[CV 1/3; 37/60] START estimator__alpha=0.2, estimator__max_iter=400.............\n",
      "[CV 1/3; 37/60] END estimator__alpha=0.2, estimator__max_iter=400;, score=-26.895 total time=   0.2s\n",
      "[CV 2/3; 37/60] START estimator__alpha=0.2, estimator__max_iter=400.............\n",
      "[CV 2/3; 37/60] END estimator__alpha=0.2, estimator__max_iter=400;, score=-27.361 total time=   0.2s\n",
      "[CV 3/3; 37/60] START estimator__alpha=0.2, estimator__max_iter=400.............\n",
      "[CV 3/3; 37/60] END estimator__alpha=0.2, estimator__max_iter=400;, score=-26.292 total time=   0.2s\n",
      "[CV 1/3; 38/60] START estimator__alpha=0.2, estimator__max_iter=500.............\n",
      "[CV 1/3; 38/60] END estimator__alpha=0.2, estimator__max_iter=500;, score=-26.895 total time=   0.1s\n",
      "[CV 2/3; 38/60] START estimator__alpha=0.2, estimator__max_iter=500.............\n",
      "[CV 2/3; 38/60] END estimator__alpha=0.2, estimator__max_iter=500;, score=-27.361 total time=   0.2s\n",
      "[CV 3/3; 38/60] START estimator__alpha=0.2, estimator__max_iter=500.............\n",
      "[CV 3/3; 38/60] END estimator__alpha=0.2, estimator__max_iter=500;, score=-26.292 total time=   0.2s\n",
      "[CV 1/3; 39/60] START estimator__alpha=0.2, estimator__max_iter=600.............\n",
      "[CV 1/3; 39/60] END estimator__alpha=0.2, estimator__max_iter=600;, score=-26.895 total time=   0.2s\n",
      "[CV 2/3; 39/60] START estimator__alpha=0.2, estimator__max_iter=600.............\n",
      "[CV 2/3; 39/60] END estimator__alpha=0.2, estimator__max_iter=600;, score=-27.361 total time=   0.2s\n",
      "[CV 3/3; 39/60] START estimator__alpha=0.2, estimator__max_iter=600.............\n",
      "[CV 3/3; 39/60] END estimator__alpha=0.2, estimator__max_iter=600;, score=-26.292 total time=   0.2s\n",
      "[CV 1/3; 40/60] START estimator__alpha=0.2, estimator__max_iter=700.............\n",
      "[CV 1/3; 40/60] END estimator__alpha=0.2, estimator__max_iter=700;, score=-26.895 total time=   0.2s\n",
      "[CV 2/3; 40/60] START estimator__alpha=0.2, estimator__max_iter=700.............\n",
      "[CV 2/3; 40/60] END estimator__alpha=0.2, estimator__max_iter=700;, score=-27.361 total time=   0.2s\n",
      "[CV 3/3; 40/60] START estimator__alpha=0.2, estimator__max_iter=700.............\n",
      "[CV 3/3; 40/60] END estimator__alpha=0.2, estimator__max_iter=700;, score=-26.292 total time=   0.2s\n",
      "[CV 1/3; 41/60] START estimator__alpha=0.1, estimator__max_iter=300.............\n",
      "[CV 1/3; 41/60] END estimator__alpha=0.1, estimator__max_iter=300;, score=-26.895 total time=   0.2s\n",
      "[CV 2/3; 41/60] START estimator__alpha=0.1, estimator__max_iter=300.............\n",
      "[CV 2/3; 41/60] END estimator__alpha=0.1, estimator__max_iter=300;, score=-27.361 total time=   0.2s\n",
      "[CV 3/3; 41/60] START estimator__alpha=0.1, estimator__max_iter=300.............\n",
      "[CV 3/3; 41/60] END estimator__alpha=0.1, estimator__max_iter=300;, score=-26.292 total time=   0.2s\n",
      "[CV 1/3; 42/60] START estimator__alpha=0.1, estimator__max_iter=400.............\n",
      "[CV 1/3; 42/60] END estimator__alpha=0.1, estimator__max_iter=400;, score=-26.895 total time=   0.2s\n",
      "[CV 2/3; 42/60] START estimator__alpha=0.1, estimator__max_iter=400.............\n",
      "[CV 2/3; 42/60] END estimator__alpha=0.1, estimator__max_iter=400;, score=-27.361 total time=   0.2s\n",
      "[CV 3/3; 42/60] START estimator__alpha=0.1, estimator__max_iter=400.............\n",
      "[CV 3/3; 42/60] END estimator__alpha=0.1, estimator__max_iter=400;, score=-26.292 total time=   0.2s\n",
      "[CV 1/3; 43/60] START estimator__alpha=0.1, estimator__max_iter=500.............\n",
      "[CV 1/3; 43/60] END estimator__alpha=0.1, estimator__max_iter=500;, score=-26.895 total time=   0.2s\n",
      "[CV 2/3; 43/60] START estimator__alpha=0.1, estimator__max_iter=500.............\n",
      "[CV 2/3; 43/60] END estimator__alpha=0.1, estimator__max_iter=500;, score=-27.361 total time=   0.2s\n",
      "[CV 3/3; 43/60] START estimator__alpha=0.1, estimator__max_iter=500.............\n",
      "[CV 3/3; 43/60] END estimator__alpha=0.1, estimator__max_iter=500;, score=-26.292 total time=   0.1s\n",
      "[CV 1/3; 44/60] START estimator__alpha=0.1, estimator__max_iter=600.............\n",
      "[CV 1/3; 44/60] END estimator__alpha=0.1, estimator__max_iter=600;, score=-26.895 total time=   0.2s\n",
      "[CV 2/3; 44/60] START estimator__alpha=0.1, estimator__max_iter=600.............\n",
      "[CV 2/3; 44/60] END estimator__alpha=0.1, estimator__max_iter=600;, score=-27.361 total time=   0.1s\n",
      "[CV 3/3; 44/60] START estimator__alpha=0.1, estimator__max_iter=600.............\n",
      "[CV 3/3; 44/60] END estimator__alpha=0.1, estimator__max_iter=600;, score=-26.292 total time=   0.1s\n",
      "[CV 1/3; 45/60] START estimator__alpha=0.1, estimator__max_iter=700.............\n",
      "[CV 1/3; 45/60] END estimator__alpha=0.1, estimator__max_iter=700;, score=-26.895 total time=   0.2s\n",
      "[CV 2/3; 45/60] START estimator__alpha=0.1, estimator__max_iter=700.............\n",
      "[CV 2/3; 45/60] END estimator__alpha=0.1, estimator__max_iter=700;, score=-27.361 total time=   0.2s\n",
      "[CV 3/3; 45/60] START estimator__alpha=0.1, estimator__max_iter=700.............\n",
      "[CV 3/3; 45/60] END estimator__alpha=0.1, estimator__max_iter=700;, score=-26.292 total time=   0.2s\n",
      "[CV 1/3; 46/60] START estimator__alpha=0.05, estimator__max_iter=300............\n",
      "[CV 1/3; 46/60] END estimator__alpha=0.05, estimator__max_iter=300;, score=-26.895 total time=   0.2s\n",
      "[CV 2/3; 46/60] START estimator__alpha=0.05, estimator__max_iter=300............\n",
      "[CV 2/3; 46/60] END estimator__alpha=0.05, estimator__max_iter=300;, score=-27.361 total time=   0.2s\n",
      "[CV 3/3; 46/60] START estimator__alpha=0.05, estimator__max_iter=300............\n",
      "[CV 3/3; 46/60] END estimator__alpha=0.05, estimator__max_iter=300;, score=-26.292 total time=   0.2s\n",
      "[CV 1/3; 47/60] START estimator__alpha=0.05, estimator__max_iter=400............\n",
      "[CV 1/3; 47/60] END estimator__alpha=0.05, estimator__max_iter=400;, score=-26.895 total time=   0.2s\n",
      "[CV 2/3; 47/60] START estimator__alpha=0.05, estimator__max_iter=400............\n",
      "[CV 2/3; 47/60] END estimator__alpha=0.05, estimator__max_iter=400;, score=-27.361 total time=   0.1s\n",
      "[CV 3/3; 47/60] START estimator__alpha=0.05, estimator__max_iter=400............\n",
      "[CV 3/3; 47/60] END estimator__alpha=0.05, estimator__max_iter=400;, score=-26.292 total time=   0.2s\n",
      "[CV 1/3; 48/60] START estimator__alpha=0.05, estimator__max_iter=500............\n",
      "[CV 1/3; 48/60] END estimator__alpha=0.05, estimator__max_iter=500;, score=-26.895 total time=   0.2s\n",
      "[CV 2/3; 48/60] START estimator__alpha=0.05, estimator__max_iter=500............\n",
      "[CV 2/3; 48/60] END estimator__alpha=0.05, estimator__max_iter=500;, score=-27.361 total time=   0.2s\n",
      "[CV 3/3; 48/60] START estimator__alpha=0.05, estimator__max_iter=500............\n",
      "[CV 3/3; 48/60] END estimator__alpha=0.05, estimator__max_iter=500;, score=-26.292 total time=   0.1s\n",
      "[CV 1/3; 49/60] START estimator__alpha=0.05, estimator__max_iter=600............\n",
      "[CV 1/3; 49/60] END estimator__alpha=0.05, estimator__max_iter=600;, score=-26.895 total time=   0.1s\n",
      "[CV 2/3; 49/60] START estimator__alpha=0.05, estimator__max_iter=600............\n",
      "[CV 2/3; 49/60] END estimator__alpha=0.05, estimator__max_iter=600;, score=-27.361 total time=   0.2s\n",
      "[CV 3/3; 49/60] START estimator__alpha=0.05, estimator__max_iter=600............\n",
      "[CV 3/3; 49/60] END estimator__alpha=0.05, estimator__max_iter=600;, score=-26.292 total time=   0.2s\n",
      "[CV 1/3; 50/60] START estimator__alpha=0.05, estimator__max_iter=700............\n",
      "[CV 1/3; 50/60] END estimator__alpha=0.05, estimator__max_iter=700;, score=-26.895 total time=   0.2s\n",
      "[CV 2/3; 50/60] START estimator__alpha=0.05, estimator__max_iter=700............\n",
      "[CV 2/3; 50/60] END estimator__alpha=0.05, estimator__max_iter=700;, score=-27.361 total time=   0.2s\n",
      "[CV 3/3; 50/60] START estimator__alpha=0.05, estimator__max_iter=700............\n",
      "[CV 3/3; 50/60] END estimator__alpha=0.05, estimator__max_iter=700;, score=-26.292 total time=   0.2s\n",
      "[CV 1/3; 51/60] START estimator__alpha=0.02, estimator__max_iter=300............\n",
      "[CV 1/3; 51/60] END estimator__alpha=0.02, estimator__max_iter=300;, score=-26.895 total time=   0.2s\n",
      "[CV 2/3; 51/60] START estimator__alpha=0.02, estimator__max_iter=300............\n",
      "[CV 2/3; 51/60] END estimator__alpha=0.02, estimator__max_iter=300;, score=-27.361 total time=   0.2s\n",
      "[CV 3/3; 51/60] START estimator__alpha=0.02, estimator__max_iter=300............\n",
      "[CV 3/3; 51/60] END estimator__alpha=0.02, estimator__max_iter=300;, score=-26.292 total time=   0.2s\n",
      "[CV 1/3; 52/60] START estimator__alpha=0.02, estimator__max_iter=400............\n",
      "[CV 1/3; 52/60] END estimator__alpha=0.02, estimator__max_iter=400;, score=-26.895 total time=   0.2s\n",
      "[CV 2/3; 52/60] START estimator__alpha=0.02, estimator__max_iter=400............\n",
      "[CV 2/3; 52/60] END estimator__alpha=0.02, estimator__max_iter=400;, score=-27.361 total time=   0.2s\n",
      "[CV 3/3; 52/60] START estimator__alpha=0.02, estimator__max_iter=400............\n",
      "[CV 3/3; 52/60] END estimator__alpha=0.02, estimator__max_iter=400;, score=-26.292 total time=   0.2s\n",
      "[CV 1/3; 53/60] START estimator__alpha=0.02, estimator__max_iter=500............\n",
      "[CV 1/3; 53/60] END estimator__alpha=0.02, estimator__max_iter=500;, score=-26.895 total time=   0.2s\n",
      "[CV 2/3; 53/60] START estimator__alpha=0.02, estimator__max_iter=500............\n",
      "[CV 2/3; 53/60] END estimator__alpha=0.02, estimator__max_iter=500;, score=-27.361 total time=   0.2s\n",
      "[CV 3/3; 53/60] START estimator__alpha=0.02, estimator__max_iter=500............\n",
      "[CV 3/3; 53/60] END estimator__alpha=0.02, estimator__max_iter=500;, score=-26.292 total time=   0.2s\n",
      "[CV 1/3; 54/60] START estimator__alpha=0.02, estimator__max_iter=600............\n",
      "[CV 1/3; 54/60] END estimator__alpha=0.02, estimator__max_iter=600;, score=-26.895 total time=   0.2s\n",
      "[CV 2/3; 54/60] START estimator__alpha=0.02, estimator__max_iter=600............\n",
      "[CV 2/3; 54/60] END estimator__alpha=0.02, estimator__max_iter=600;, score=-27.361 total time=   0.2s\n",
      "[CV 3/3; 54/60] START estimator__alpha=0.02, estimator__max_iter=600............\n",
      "[CV 3/3; 54/60] END estimator__alpha=0.02, estimator__max_iter=600;, score=-26.292 total time=   0.2s\n",
      "[CV 1/3; 55/60] START estimator__alpha=0.02, estimator__max_iter=700............\n",
      "[CV 1/3; 55/60] END estimator__alpha=0.02, estimator__max_iter=700;, score=-26.895 total time=   0.1s\n",
      "[CV 2/3; 55/60] START estimator__alpha=0.02, estimator__max_iter=700............\n",
      "[CV 2/3; 55/60] END estimator__alpha=0.02, estimator__max_iter=700;, score=-27.361 total time=   0.2s\n",
      "[CV 3/3; 55/60] START estimator__alpha=0.02, estimator__max_iter=700............\n",
      "[CV 3/3; 55/60] END estimator__alpha=0.02, estimator__max_iter=700;, score=-26.292 total time=   0.2s\n",
      "[CV 1/3; 56/60] START estimator__alpha=0.01, estimator__max_iter=300............\n",
      "[CV 1/3; 56/60] END estimator__alpha=0.01, estimator__max_iter=300;, score=-26.895 total time=   0.2s\n",
      "[CV 2/3; 56/60] START estimator__alpha=0.01, estimator__max_iter=300............\n",
      "[CV 2/3; 56/60] END estimator__alpha=0.01, estimator__max_iter=300;, score=-27.361 total time=   0.1s\n",
      "[CV 3/3; 56/60] START estimator__alpha=0.01, estimator__max_iter=300............\n",
      "[CV 3/3; 56/60] END estimator__alpha=0.01, estimator__max_iter=300;, score=-26.292 total time=   0.1s\n",
      "[CV 1/3; 57/60] START estimator__alpha=0.01, estimator__max_iter=400............\n",
      "[CV 1/3; 57/60] END estimator__alpha=0.01, estimator__max_iter=400;, score=-26.895 total time=   0.2s\n",
      "[CV 2/3; 57/60] START estimator__alpha=0.01, estimator__max_iter=400............\n",
      "[CV 2/3; 57/60] END estimator__alpha=0.01, estimator__max_iter=400;, score=-27.361 total time=   0.2s\n",
      "[CV 3/3; 57/60] START estimator__alpha=0.01, estimator__max_iter=400............\n",
      "[CV 3/3; 57/60] END estimator__alpha=0.01, estimator__max_iter=400;, score=-26.292 total time=   0.2s\n",
      "[CV 1/3; 58/60] START estimator__alpha=0.01, estimator__max_iter=500............\n",
      "[CV 1/3; 58/60] END estimator__alpha=0.01, estimator__max_iter=500;, score=-26.895 total time=   0.2s\n",
      "[CV 2/3; 58/60] START estimator__alpha=0.01, estimator__max_iter=500............\n",
      "[CV 2/3; 58/60] END estimator__alpha=0.01, estimator__max_iter=500;, score=-27.361 total time=   0.2s\n",
      "[CV 3/3; 58/60] START estimator__alpha=0.01, estimator__max_iter=500............\n",
      "[CV 3/3; 58/60] END estimator__alpha=0.01, estimator__max_iter=500;, score=-26.292 total time=   0.1s\n",
      "[CV 1/3; 59/60] START estimator__alpha=0.01, estimator__max_iter=600............\n",
      "[CV 1/3; 59/60] END estimator__alpha=0.01, estimator__max_iter=600;, score=-26.895 total time=   0.2s\n",
      "[CV 2/3; 59/60] START estimator__alpha=0.01, estimator__max_iter=600............\n",
      "[CV 2/3; 59/60] END estimator__alpha=0.01, estimator__max_iter=600;, score=-27.361 total time=   0.1s\n",
      "[CV 3/3; 59/60] START estimator__alpha=0.01, estimator__max_iter=600............\n",
      "[CV 3/3; 59/60] END estimator__alpha=0.01, estimator__max_iter=600;, score=-26.292 total time=   0.1s\n",
      "[CV 1/3; 60/60] START estimator__alpha=0.01, estimator__max_iter=700............\n",
      "[CV 1/3; 60/60] END estimator__alpha=0.01, estimator__max_iter=700;, score=-26.895 total time=   0.2s\n",
      "[CV 2/3; 60/60] START estimator__alpha=0.01, estimator__max_iter=700............\n",
      "[CV 2/3; 60/60] END estimator__alpha=0.01, estimator__max_iter=700;, score=-27.361 total time=   0.2s\n",
      "[CV 3/3; 60/60] START estimator__alpha=0.01, estimator__max_iter=700............\n",
      "[CV 3/3; 60/60] END estimator__alpha=0.01, estimator__max_iter=700;, score=-26.292 total time=   0.2s\n"
     ]
    },
    {
     "data": {
      "text/plain": [
       "(26.747692736149386,\n",
       " 25.035701264860034,\n",
       " {'estimator__alpha': 4, 'estimator__max_iter': 300})"
      ]
     },
     "execution_count": 51,
     "metadata": {},
     "output_type": "execute_result"
    }
   ],
   "source": [
    "from sklearn.linear_model import Ridge\n",
    "params = {\n",
    "    'estimator__max_iter': [300,400,500,600,700],\n",
    "    'estimator__alpha':[4,3,2,1.0,0.8,0.5,0.3,0.2,0.1,0.05,0.02,0.01]\n",
    "    \n",
    "}\n",
    "hyperopt(Ridge(),params)\n",
    "\n",
    "### YOUR CODE HERE\n"
   ]
  },
  {
   "cell_type": "markdown",
   "id": "79201c78",
   "metadata": {},
   "source": [
    "Запишите в переменную `best_params_ridge` ваши лучшие гиперпараметры для `Ridge`."
   ]
  },
  {
   "cell_type": "code",
   "execution_count": 52,
   "id": "791cd51b",
   "metadata": {
    "deletable": false,
    "nbgrader": {
     "cell_type": "code",
     "checksum": "5e5b6fffd6506fb5f86d98c44d1f64a3",
     "grade": false,
     "grade_id": "cell-bd7364e4480e0bd0",
     "locked": false,
     "schema_version": 3,
     "solution": true,
     "task": false
    }
   },
   "outputs": [],
   "source": [
    "# your code here\n",
    "best_params_ridge = {'alpha':4,\n",
    "                    'max_iter' :300}"
   ]
  },
  {
   "cell_type": "code",
   "execution_count": 53,
   "id": "70681220",
   "metadata": {
    "deletable": false,
    "editable": false,
    "nbgrader": {
     "cell_type": "code",
     "checksum": "b76de3178fa122c27d038caf8774ceb6",
     "grade": true,
     "grade_id": "cell-9a62c7706c9c1991",
     "locked": true,
     "points": 5,
     "schema_version": 3,
     "solution": false,
     "task": false
    }
   },
   "outputs": [
    {
     "name": "stdout",
     "output_type": "stream",
     "text": [
      "... TESTING ...\n"
     ]
    }
   ],
   "source": [
    "### GRADING\n",
    "\n",
    "best_params_ridge\n",
    "\n",
    "print('... TESTING ...')\n"
   ]
  },
  {
   "cell_type": "markdown",
   "id": "26fb3740",
   "metadata": {},
   "source": [
    "### Решающее дерево\n",
    "\n",
    "Попробуйте исследовать влияние `max_depth`, `min_samples_split` и `max_features` на результат."
   ]
  },
  {
   "cell_type": "code",
   "execution_count": null,
   "id": "ddafbde9",
   "metadata": {
    "scrolled": true,
    "tags": []
   },
   "outputs": [
    {
     "name": "stdout",
     "output_type": "stream",
     "text": [
      "Fitting 3 folds for each of 45 candidates, totalling 135 fits\n",
      "[CV 1/3; 1/45] START estimator__max_depth=1, estimator__max_features=2, estimator__min_samples_split=2\n"
     ]
    }
   ],
   "source": [
    "from sklearn.tree import DecisionTreeRegressor\n",
    "params = {\n",
    "    'estimator__max_depth': list(range(1,6)),\n",
    "    'estimator__min_samples_split':[2,5,10],\n",
    "    'estimator__max_features':[2,5,10]\n",
    "    \n",
    "}\n",
    "hyperopt(DecisionTreeRegressor(),params)\n",
    "\n",
    "### YOUR CODE HERE\n"
   ]
  },
  {
   "cell_type": "markdown",
   "id": "74e250da",
   "metadata": {},
   "source": [
    "Запишите в переменную `best_params_dt` ваши лучшие гиперпараметры для `DecisionTreeRegressor`."
   ]
  },
  {
   "cell_type": "code",
   "execution_count": null,
   "id": "d1d9093c",
   "metadata": {
    "deletable": false,
    "nbgrader": {
     "cell_type": "code",
     "checksum": "dd41577df9f521d35efacd7d7d113cba",
     "grade": false,
     "grade_id": "cell-f07fe287eb41eb18",
     "locked": false,
     "schema_version": 3,
     "solution": true,
     "task": false
    }
   },
   "outputs": [],
   "source": [
    "# your code here\n",
    "best_params_dt = {\n",
    "        'max_depth': ,\n",
    "        'min_samples_split': ,\n",
    "        'max_features':\n",
    "}"
   ]
  },
  {
   "cell_type": "code",
   "execution_count": null,
   "id": "b4571dbd",
   "metadata": {
    "deletable": false,
    "editable": false,
    "nbgrader": {
     "cell_type": "code",
     "checksum": "59130c3c8d5cbaae3e1a3fd87a718dfd",
     "grade": true,
     "grade_id": "cell-c06e22a4475b17e1",
     "locked": true,
     "points": 5,
     "schema_version": 3,
     "solution": false,
     "task": false
    }
   },
   "outputs": [],
   "source": [
    "### GRADING\n",
    "\n",
    "best_params_dt\n",
    "\n",
    "print('... TESTING ...')\n"
   ]
  },
  {
   "cell_type": "markdown",
   "id": "701c23a6",
   "metadata": {},
   "source": [
    "### Случайный лес\n",
    "\n",
    "Попробуйте исследовать влияние `n_estimators`, `max_depth`, `min_samples_split` и `max_features` на результат."
   ]
  },
  {
   "cell_type": "code",
   "execution_count": null,
   "id": "a1c301c8",
   "metadata": {},
   "outputs": [],
   "source": [
    "from sklearn.ensemble import RandomForestRegressor\n",
    "params = {\n",
    "    'estimator__n_estimators': list(range(1,100,20)),\n",
    "    'estimator__max_depth': list(range(1,15)),\n",
    "    'estimator__min_samples_split':list(range(1,20)),\n",
    "    'estimator__max_features':list(range(1,20))\n",
    "    \n",
    "}\n",
    "hyperopt(RandomForestRegressor(),params)\n",
    "\n",
    "### YOUR CODE HERE\n"
   ]
  },
  {
   "cell_type": "markdown",
   "id": "847c2115",
   "metadata": {},
   "source": [
    "Запишите в переменную `best_params_rf` ваши лучшие гиперпараметры для `RandomForestRegressor`."
   ]
  },
  {
   "cell_type": "code",
   "execution_count": null,
   "id": "a7ab3e8b",
   "metadata": {
    "deletable": false,
    "nbgrader": {
     "cell_type": "code",
     "checksum": "b71699046374ee354dae8d1548fadcc5",
     "grade": false,
     "grade_id": "cell-e63f8e398cb5ae00",
     "locked": false,
     "schema_version": 3,
     "solution": true,
     "task": false
    }
   },
   "outputs": [],
   "source": [
    "# your code here\n",
    "best_params_rf = {\n",
    "        'estimator__n_estimators': ,\n",
    "        'max_depth': ,\n",
    "        'min_samples_split': ,\n",
    "        'max_features':\n",
    "}"
   ]
  },
  {
   "cell_type": "code",
   "execution_count": null,
   "id": "f8f90682",
   "metadata": {
    "deletable": false,
    "editable": false,
    "nbgrader": {
     "cell_type": "code",
     "checksum": "1e12e169041e9e1c0a6678b24d477cf8",
     "grade": true,
     "grade_id": "cell-9f2170061d89dea3",
     "locked": true,
     "points": 5,
     "schema_version": 3,
     "solution": false,
     "task": false
    }
   },
   "outputs": [],
   "source": [
    "### GRADING\n",
    "\n",
    "best_params_rf\n",
    "\n",
    "print('... TESTING ...')\n"
   ]
  },
  {
   "cell_type": "markdown",
   "id": "43486228",
   "metadata": {},
   "source": [
    "### Градиентный бустинг\n",
    "\n",
    "Попробуйте исследовать влияние `n_estimators`, `learning_rate`, `subsample` и `min_samples_split` на результат."
   ]
  },
  {
   "cell_type": "code",
   "execution_count": null,
   "id": "dba33cc3",
   "metadata": {},
   "outputs": [],
   "source": [
    "from sklearn.ensemble import GradientBoostingRegressor\n",
    "\n",
    "params = {\n",
    "    'estimator__n_estimators': list(range(1,100,20)),\n",
    "    'estimator__learning_rate': [0.1,0.2,0.5,1],\n",
    "    'estimator__subsample':[0.5,1],\n",
    "    'estimator__min_samples_split':list(range(1,7))\n",
    "    \n",
    "}\n",
    "hyperopt(GradientBoostingRegressor(),params)\n",
    "### YOUR CODE HERE\n"
   ]
  },
  {
   "cell_type": "markdown",
   "id": "91ac7ab3",
   "metadata": {},
   "source": [
    "Запишите в переменную `best_params_gb` ваши лучшие гиперпараметры для `GradientBoostingRegressor`."
   ]
  },
  {
   "cell_type": "code",
   "execution_count": null,
   "id": "ccb40d0a",
   "metadata": {
    "deletable": false,
    "nbgrader": {
     "cell_type": "code",
     "checksum": "39d7f023fe0a948afac33ddbc8efed0f",
     "grade": false,
     "grade_id": "cell-12b7b771e5f12ee6",
     "locked": false,
     "schema_version": 3,
     "solution": true,
     "task": false
    }
   },
   "outputs": [],
   "source": [
    "# your code here\n",
    "best_params_gb = {\n",
    "    'n_estimators': ,\n",
    "    'learning_rate': ,\n",
    "    'subsample': ,\n",
    "    'min_samples_split':\n",
    "    \n",
    "}"
   ]
  },
  {
   "cell_type": "code",
   "execution_count": null,
   "id": "707da856",
   "metadata": {
    "deletable": false,
    "editable": false,
    "nbgrader": {
     "cell_type": "code",
     "checksum": "fddf337cd639dfb69a9897cf04ef9b75",
     "grade": true,
     "grade_id": "cell-06f3faae791475d6",
     "locked": true,
     "points": 5,
     "schema_version": 3,
     "solution": false,
     "task": false
    }
   },
   "outputs": [],
   "source": [
    "### GRADING\n",
    "\n",
    "best_params_gb\n",
    "\n",
    "print('... TESTING ...')\n"
   ]
  },
  {
   "cell_type": "markdown",
   "id": "f3b85f78",
   "metadata": {},
   "source": [
    "### Метод ближайших соседей\n",
    "\n",
    "Попробуйте исследовать влияние `n_neighbors`, `algorithm` и `leaf_size` на результат."
   ]
  },
  {
   "cell_type": "code",
   "execution_count": null,
   "id": "c221eb9d",
   "metadata": {},
   "outputs": [],
   "source": [
    "from sklearn.neighbors import KNeighborsRegressor\n",
    "params = {\n",
    "    'estimator__n_neighbors': [1,20,30,50,100],\n",
    "    'estimator__algorithm': ['ball_tree', 'kd_tree', 'brute'],\n",
    "    'estimator__leaf_size':[1,10,20,30]\n",
    "    \n",
    "}\n",
    "hyperopt(KNeighborsRegressor(),params)\n",
    "\n",
    "### YOUR CODE HERE\n"
   ]
  },
  {
   "cell_type": "markdown",
   "id": "0e3f87b4",
   "metadata": {},
   "source": [
    "Запишите в переменную `best_params_knb` ваши лучшие гиперпараметры для `KNeighborsRegressor`."
   ]
  },
  {
   "cell_type": "code",
   "execution_count": null,
   "id": "510de9ba",
   "metadata": {
    "deletable": false,
    "nbgrader": {
     "cell_type": "code",
     "checksum": "0b4dcebe501652678a737346ee5808de",
     "grade": false,
     "grade_id": "cell-d3175614efeb7d42",
     "locked": false,
     "schema_version": 3,
     "solution": true,
     "task": false
    }
   },
   "outputs": [],
   "source": [
    "# your code here\n",
    "best_params_knb = {\n",
    "    'n_neighbors': ,\n",
    "    'algorithm': ,\n",
    "    'leaf_size':\n",
    "    \n",
    "}"
   ]
  },
  {
   "cell_type": "code",
   "execution_count": null,
   "id": "5d2d74cf",
   "metadata": {
    "deletable": false,
    "editable": false,
    "nbgrader": {
     "cell_type": "code",
     "checksum": "807e73b496c919e9a02a4c34d36ad3b0",
     "grade": true,
     "grade_id": "cell-99100fd9b25875b2",
     "locked": true,
     "points": 5,
     "schema_version": 3,
     "solution": false,
     "task": false
    }
   },
   "outputs": [],
   "source": [
    "### GRADING\n",
    "\n",
    "best_params_knb\n",
    "\n",
    "print('... TESTING ...')\n"
   ]
  },
  {
   "cell_type": "markdown",
   "id": "e92ad5b7",
   "metadata": {},
   "source": [
    "## Сравнение моделей\n",
    "\n",
    "Сравните модели с лучшими гиперпараметрами между собой по\n",
    "\n",
    "- Значению метрики на обучающей выборке\n",
    "- Значению метрики на тестовой выборке\n",
    "- Времени на обучение на обучающей выборке"
   ]
  },
  {
   "cell_type": "code",
   "execution_count": null,
   "id": "3a233bf0",
   "metadata": {},
   "outputs": [],
   "source": [
    "### YOUR CODE HERE\n"
   ]
  }
 ],
 "metadata": {
  "kernelspec": {
   "display_name": "Python 3 (ipykernel)",
   "language": "python",
   "name": "python3"
  },
  "language_info": {
   "codemirror_mode": {
    "name": "ipython",
    "version": 3
   },
   "file_extension": ".py",
   "mimetype": "text/x-python",
   "name": "python",
   "nbconvert_exporter": "python",
   "pygments_lexer": "ipython3",
   "version": "3.9.6"
  }
 },
 "nbformat": 4,
 "nbformat_minor": 5
}
