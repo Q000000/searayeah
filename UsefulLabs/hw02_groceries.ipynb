{
 "cells": [
  {
   "cell_type": "markdown",
   "metadata": {},
   "source": [
    "<center>\n",
    "<img src=\"logo.png\" height=\"900\"> \n",
    "</center>\n",
    "\n",
    "\n",
    "#  Анализируем чеки\n",
    "\n",
    "В этом задании мы будем работать с покупками и чеками. Смотреть за корреляциями в покупках довольно полезно.\n",
    "\n",
    "> В 1992 году группа по консалтингу в области ритейла компании Teradata под руководством Томаса Блишока провела исследование 1.2 миллиона транзакций в 25 магазинах для ритейлера Osco Drug (Drug Store — формат разнокалиберных магазинов у дома). После анализа всех этих транзакций самым сильным правилом получилось «Между 17:00 и 19:00 чаще всего пиво и подгузники покупают вместе». К сожалению, такое правило показалось руководству Osco Drug настолько контринтуитивным, что ставить подгузники на полках рядом с пивом они не стали. Хотя объяснение паре пиво-подгузники вполне себе нашлось: когда оба члена молодой семьи возвращались с работы домой (как раз часам к 5 вечера), жены обычно отправляли мужей за подгузниками в ближайший магазин. И мужья, не долго думая, совмещали приятное с полезным — покупали подгузники по заданию жены и пиво для собственного вечернего времяпрепровождения.\n",
    "\n",
    "Для работы будем использовать датасет о продуктовых корзинах: https://www.kaggle.com/heeraldedhia/groceries-dataset"
   ]
  },
  {
   "cell_type": "code",
   "execution_count": 9,
   "metadata": {},
   "outputs": [],
   "source": [
    "import numpy as np\n",
    "import pandas as pd\n",
    "\n",
    "import scipy.stats as sts\n",
    "import matplotlib.pyplot as plt\n",
    "import seaborn as sns\n",
    "\n",
    "plt.style.use('ggplot')  # стиль для графиков\n",
    "%matplotlib inline"
   ]
  },
  {
   "cell_type": "markdown",
   "metadata": {},
   "source": [
    "Подружаем данные и смотрим как они выглядят."
   ]
  },
  {
   "cell_type": "code",
   "execution_count": 10,
   "metadata": {},
   "outputs": [
    {
     "name": "stdout",
     "output_type": "stream",
     "text": [
      "(38765, 3)\n"
     ]
    },
    {
     "data": {
      "text/html": [
       "<div>\n",
       "<style scoped>\n",
       "    .dataframe tbody tr th:only-of-type {\n",
       "        vertical-align: middle;\n",
       "    }\n",
       "\n",
       "    .dataframe tbody tr th {\n",
       "        vertical-align: top;\n",
       "    }\n",
       "\n",
       "    .dataframe thead th {\n",
       "        text-align: right;\n",
       "    }\n",
       "</style>\n",
       "<table border=\"1\" class=\"dataframe\">\n",
       "  <thead>\n",
       "    <tr style=\"text-align: right;\">\n",
       "      <th></th>\n",
       "      <th>id</th>\n",
       "      <th>fielddate</th>\n",
       "      <th>product</th>\n",
       "    </tr>\n",
       "  </thead>\n",
       "  <tbody>\n",
       "    <tr>\n",
       "      <th>0</th>\n",
       "      <td>1808</td>\n",
       "      <td>21-07-2015</td>\n",
       "      <td>tropical fruit</td>\n",
       "    </tr>\n",
       "    <tr>\n",
       "      <th>1</th>\n",
       "      <td>2552</td>\n",
       "      <td>05-01-2015</td>\n",
       "      <td>whole milk</td>\n",
       "    </tr>\n",
       "    <tr>\n",
       "      <th>2</th>\n",
       "      <td>2300</td>\n",
       "      <td>19-09-2015</td>\n",
       "      <td>pip fruit</td>\n",
       "    </tr>\n",
       "    <tr>\n",
       "      <th>3</th>\n",
       "      <td>1187</td>\n",
       "      <td>12-12-2015</td>\n",
       "      <td>other vegetables</td>\n",
       "    </tr>\n",
       "    <tr>\n",
       "      <th>4</th>\n",
       "      <td>3037</td>\n",
       "      <td>01-02-2015</td>\n",
       "      <td>whole milk</td>\n",
       "    </tr>\n",
       "  </tbody>\n",
       "</table>\n",
       "</div>"
      ],
      "text/plain": [
       "     id   fielddate           product\n",
       "0  1808  21-07-2015    tropical fruit\n",
       "1  2552  05-01-2015        whole milk\n",
       "2  2300  19-09-2015         pip fruit\n",
       "3  1187  12-12-2015  other vegetables\n",
       "4  3037  01-02-2015        whole milk"
      ]
     },
     "execution_count": 10,
     "metadata": {},
     "output_type": "execute_result"
    }
   ],
   "source": [
    "df = pd.read_csv('groceries.csv', sep=',')\n",
    "df.columns = ['id', 'fielddate', 'product']\n",
    "print(df.shape)\n",
    "df.head()"
   ]
  },
  {
   "cell_type": "markdown",
   "metadata": {},
   "source": [
    "## 1. Корреляции\n",
    "\n",
    "Для начала поработаем с корреляциями в данных. \n",
    "\n",
    "__а)__ Какой товар покупался чаще всего? Сохраните название этого товара в переменную `product_name`."
   ]
  },
  {
   "cell_type": "code",
   "execution_count": 11,
   "metadata": {
    "deletable": false,
    "nbgrader": {
     "cell_type": "code",
     "checksum": "0b37d486e7075ec828881d3045268b4d",
     "grade": false,
     "grade_id": "cell-9d268bdaaa451d51",
     "locked": false,
     "schema_version": 3,
     "solution": true,
     "task": false
    }
   },
   "outputs": [],
   "source": [
    "### ╰( ͡° ͜ʖ ͡° )つ▬▬ι═══════  bzzzzzzzzzz\n",
    "# will the code be with you\n",
    "\n",
    "product_name = df['product'].mode().values[0]\n",
    "\n",
    "# your code here"
   ]
  },
  {
   "cell_type": "code",
   "execution_count": 12,
   "metadata": {
    "deletable": false,
    "editable": false,
    "nbgrader": {
     "cell_type": "code",
     "checksum": "153389c55c6243d7b8897ca0e33be5a5",
     "grade": true,
     "grade_id": "cell-2fd1cfdcf5400ee3",
     "locked": true,
     "points": 1,
     "schema_version": 3,
     "solution": false,
     "task": false
    }
   },
   "outputs": [],
   "source": [
    "# проверка, что задание решено корректно\n",
    "assert len(product_name) == 10\n",
    "\n",
    "# Аналогичные тесты скрыты от вас"
   ]
  },
  {
   "cell_type": "markdown",
   "metadata": {},
   "source": [
    "__б)__ Сколько всего уникальных заказов было сделано? Сохраните число заказов в переменную `n_cnt`."
   ]
  },
  {
   "cell_type": "code",
   "execution_count": 13,
   "metadata": {
    "deletable": false,
    "nbgrader": {
     "cell_type": "code",
     "checksum": "b627f3336f6abc1f2a76b26116021af2",
     "grade": false,
     "grade_id": "cell-4c3ce54e9c52ae14",
     "locked": false,
     "schema_version": 3,
     "solution": true,
     "task": false
    }
   },
   "outputs": [
    {
     "data": {
      "text/plain": [
       "3898"
      ]
     },
     "execution_count": 13,
     "metadata": {},
     "output_type": "execute_result"
    }
   ],
   "source": [
    "### ╰( ͡° ͜ʖ ͡° )つ▬▬ι═══════  bzzzzzzzzzz\n",
    "# will the code be with you\n",
    "\n",
    "n_cnt = len(df['id'].unique())\n",
    "n_cnt\n",
    "# your code here\n"
   ]
  },
  {
   "cell_type": "code",
   "execution_count": 14,
   "metadata": {
    "deletable": false,
    "editable": false,
    "nbgrader": {
     "cell_type": "code",
     "checksum": "f93cfd87b43b743e88a4a21d5a773f5e",
     "grade": true,
     "grade_id": "cell-608432c41bdcd71d",
     "locked": true,
     "points": 1,
     "schema_version": 3,
     "solution": false,
     "task": false
    }
   },
   "outputs": [],
   "source": [
    "# проверка, что задание решено корректно\n",
    "assert n_cnt > 3800\n",
    "assert n_cnt < 4000\n",
    "\n",
    "# Аналогичные тесты скрыты от вас"
   ]
  },
  {
   "cell_type": "markdown",
   "metadata": {},
   "source": [
    "В таблице выше в каждой строке записана информация о покупке конкретного товара. Давайте сделаем табличку размера \"число товаров\" на \"число покупок\", чтобы понимать какие товары покупались вместе, а какие нет. \n",
    "\n",
    "> Обратите внимание, то здесь задание немного упрощено. Вообще говоря, нам нужно делать агрегацию по паре `fielddate, id`, если мы хотим изучать чеки по-честному. Но мы делаем её только по `id` для того, чтобы не усложнять задание. В качестве необязательного дополнения вы можете после сдачи задания переделать код так, чтобы дата тоже учитывалась при расчётах. "
   ]
  },
  {
   "cell_type": "code",
   "execution_count": 15,
   "metadata": {},
   "outputs": [
    {
     "data": {
      "text/html": [
       "<div>\n",
       "<style scoped>\n",
       "    .dataframe tbody tr th:only-of-type {\n",
       "        vertical-align: middle;\n",
       "    }\n",
       "\n",
       "    .dataframe tbody tr th {\n",
       "        vertical-align: top;\n",
       "    }\n",
       "\n",
       "    .dataframe thead th {\n",
       "        text-align: right;\n",
       "    }\n",
       "</style>\n",
       "<table border=\"1\" class=\"dataframe\">\n",
       "  <thead>\n",
       "    <tr style=\"text-align: right;\">\n",
       "      <th>product</th>\n",
       "      <th>Instant food products</th>\n",
       "      <th>UHT-milk</th>\n",
       "      <th>abrasive cleaner</th>\n",
       "      <th>artif. sweetener</th>\n",
       "      <th>baby cosmetics</th>\n",
       "      <th>bags</th>\n",
       "      <th>baking powder</th>\n",
       "      <th>bathroom cleaner</th>\n",
       "      <th>beef</th>\n",
       "      <th>berries</th>\n",
       "      <th>...</th>\n",
       "      <th>turkey</th>\n",
       "      <th>vinegar</th>\n",
       "      <th>waffles</th>\n",
       "      <th>whipped/sour cream</th>\n",
       "      <th>whisky</th>\n",
       "      <th>white bread</th>\n",
       "      <th>white wine</th>\n",
       "      <th>whole milk</th>\n",
       "      <th>yogurt</th>\n",
       "      <th>zwieback</th>\n",
       "    </tr>\n",
       "    <tr>\n",
       "      <th>id</th>\n",
       "      <th></th>\n",
       "      <th></th>\n",
       "      <th></th>\n",
       "      <th></th>\n",
       "      <th></th>\n",
       "      <th></th>\n",
       "      <th></th>\n",
       "      <th></th>\n",
       "      <th></th>\n",
       "      <th></th>\n",
       "      <th></th>\n",
       "      <th></th>\n",
       "      <th></th>\n",
       "      <th></th>\n",
       "      <th></th>\n",
       "      <th></th>\n",
       "      <th></th>\n",
       "      <th></th>\n",
       "      <th></th>\n",
       "      <th></th>\n",
       "      <th></th>\n",
       "    </tr>\n",
       "  </thead>\n",
       "  <tbody>\n",
       "    <tr>\n",
       "      <th>1000</th>\n",
       "      <td>0</td>\n",
       "      <td>0</td>\n",
       "      <td>0</td>\n",
       "      <td>0</td>\n",
       "      <td>0</td>\n",
       "      <td>0</td>\n",
       "      <td>0</td>\n",
       "      <td>0</td>\n",
       "      <td>0</td>\n",
       "      <td>0</td>\n",
       "      <td>...</td>\n",
       "      <td>0</td>\n",
       "      <td>0</td>\n",
       "      <td>0</td>\n",
       "      <td>0</td>\n",
       "      <td>0</td>\n",
       "      <td>0</td>\n",
       "      <td>0</td>\n",
       "      <td>2</td>\n",
       "      <td>1</td>\n",
       "      <td>0</td>\n",
       "    </tr>\n",
       "    <tr>\n",
       "      <th>1001</th>\n",
       "      <td>0</td>\n",
       "      <td>0</td>\n",
       "      <td>0</td>\n",
       "      <td>0</td>\n",
       "      <td>0</td>\n",
       "      <td>0</td>\n",
       "      <td>0</td>\n",
       "      <td>0</td>\n",
       "      <td>1</td>\n",
       "      <td>0</td>\n",
       "      <td>...</td>\n",
       "      <td>0</td>\n",
       "      <td>0</td>\n",
       "      <td>0</td>\n",
       "      <td>1</td>\n",
       "      <td>0</td>\n",
       "      <td>1</td>\n",
       "      <td>0</td>\n",
       "      <td>2</td>\n",
       "      <td>0</td>\n",
       "      <td>0</td>\n",
       "    </tr>\n",
       "    <tr>\n",
       "      <th>1002</th>\n",
       "      <td>0</td>\n",
       "      <td>0</td>\n",
       "      <td>0</td>\n",
       "      <td>0</td>\n",
       "      <td>0</td>\n",
       "      <td>0</td>\n",
       "      <td>0</td>\n",
       "      <td>0</td>\n",
       "      <td>0</td>\n",
       "      <td>0</td>\n",
       "      <td>...</td>\n",
       "      <td>0</td>\n",
       "      <td>0</td>\n",
       "      <td>0</td>\n",
       "      <td>0</td>\n",
       "      <td>0</td>\n",
       "      <td>0</td>\n",
       "      <td>0</td>\n",
       "      <td>1</td>\n",
       "      <td>0</td>\n",
       "      <td>0</td>\n",
       "    </tr>\n",
       "    <tr>\n",
       "      <th>1003</th>\n",
       "      <td>0</td>\n",
       "      <td>0</td>\n",
       "      <td>0</td>\n",
       "      <td>0</td>\n",
       "      <td>0</td>\n",
       "      <td>0</td>\n",
       "      <td>0</td>\n",
       "      <td>0</td>\n",
       "      <td>0</td>\n",
       "      <td>0</td>\n",
       "      <td>...</td>\n",
       "      <td>0</td>\n",
       "      <td>0</td>\n",
       "      <td>0</td>\n",
       "      <td>0</td>\n",
       "      <td>0</td>\n",
       "      <td>0</td>\n",
       "      <td>0</td>\n",
       "      <td>0</td>\n",
       "      <td>0</td>\n",
       "      <td>0</td>\n",
       "    </tr>\n",
       "    <tr>\n",
       "      <th>1004</th>\n",
       "      <td>0</td>\n",
       "      <td>0</td>\n",
       "      <td>0</td>\n",
       "      <td>0</td>\n",
       "      <td>0</td>\n",
       "      <td>0</td>\n",
       "      <td>0</td>\n",
       "      <td>0</td>\n",
       "      <td>0</td>\n",
       "      <td>0</td>\n",
       "      <td>...</td>\n",
       "      <td>0</td>\n",
       "      <td>0</td>\n",
       "      <td>0</td>\n",
       "      <td>0</td>\n",
       "      <td>0</td>\n",
       "      <td>0</td>\n",
       "      <td>0</td>\n",
       "      <td>3</td>\n",
       "      <td>0</td>\n",
       "      <td>0</td>\n",
       "    </tr>\n",
       "  </tbody>\n",
       "</table>\n",
       "<p>5 rows × 167 columns</p>\n",
       "</div>"
      ],
      "text/plain": [
       "product  Instant food products  UHT-milk  abrasive cleaner  artif. sweetener  \\\n",
       "id                                                                             \n",
       "1000                         0         0                 0                 0   \n",
       "1001                         0         0                 0                 0   \n",
       "1002                         0         0                 0                 0   \n",
       "1003                         0         0                 0                 0   \n",
       "1004                         0         0                 0                 0   \n",
       "\n",
       "product  baby cosmetics  bags  baking powder  bathroom cleaner  beef  berries  \\\n",
       "id                                                                              \n",
       "1000                  0     0              0                 0     0        0   \n",
       "1001                  0     0              0                 0     1        0   \n",
       "1002                  0     0              0                 0     0        0   \n",
       "1003                  0     0              0                 0     0        0   \n",
       "1004                  0     0              0                 0     0        0   \n",
       "\n",
       "product  ...  turkey  vinegar  waffles  whipped/sour cream  whisky  \\\n",
       "id       ...                                                         \n",
       "1000     ...       0        0        0                   0       0   \n",
       "1001     ...       0        0        0                   1       0   \n",
       "1002     ...       0        0        0                   0       0   \n",
       "1003     ...       0        0        0                   0       0   \n",
       "1004     ...       0        0        0                   0       0   \n",
       "\n",
       "product  white bread  white wine  whole milk  yogurt  zwieback  \n",
       "id                                                              \n",
       "1000               0           0           2       1         0  \n",
       "1001               1           0           2       0         0  \n",
       "1002               0           0           1       0         0  \n",
       "1003               0           0           0       0         0  \n",
       "1004               0           0           3       0         0  \n",
       "\n",
       "[5 rows x 167 columns]"
      ]
     },
     "execution_count": 15,
     "metadata": {},
     "output_type": "execute_result"
    }
   ],
   "source": [
    "sparse_sales = pd.pivot_table(df, \n",
    "               values='fielddate', \n",
    "               index='id', \n",
    "               columns='product', \n",
    "               fill_value=0, aggfunc='count')\n",
    "\n",
    "sparse_sales.head()"
   ]
  },
  {
   "cell_type": "markdown",
   "metadata": {},
   "source": [
    "В нашей матрице огромное число нулей. Обычно такие матрицы называют разряжеными. Мы занимаем нулями кучу свободной памяти, которую мы могли бы не занимать, если бы хранили данные [в ином виде.](https://cmdlinetips.com/2018/03/sparse-matrices-in-python-with-scipy/)"
   ]
  },
  {
   "cell_type": "markdown",
   "metadata": {},
   "source": [
    "__в)__ Постройте матрицу корреляций Пирсона. Для этого используйте метод таблицы `.corr`."
   ]
  },
  {
   "cell_type": "code",
   "execution_count": 16,
   "metadata": {
    "deletable": false,
    "nbgrader": {
     "cell_type": "code",
     "checksum": "88338d4e2f060abd7fb2053c0ffc39dd",
     "grade": false,
     "grade_id": "cell-a8f15b8ba3a946c8",
     "locked": false,
     "schema_version": 3,
     "solution": true,
     "task": false
    }
   },
   "outputs": [
    {
     "data": {
      "text/html": [
       "<div>\n",
       "<style scoped>\n",
       "    .dataframe tbody tr th:only-of-type {\n",
       "        vertical-align: middle;\n",
       "    }\n",
       "\n",
       "    .dataframe tbody tr th {\n",
       "        vertical-align: top;\n",
       "    }\n",
       "\n",
       "    .dataframe thead th {\n",
       "        text-align: right;\n",
       "    }\n",
       "</style>\n",
       "<table border=\"1\" class=\"dataframe\">\n",
       "  <thead>\n",
       "    <tr style=\"text-align: right;\">\n",
       "      <th>product</th>\n",
       "      <th>Instant food products</th>\n",
       "      <th>UHT-milk</th>\n",
       "      <th>abrasive cleaner</th>\n",
       "      <th>artif. sweetener</th>\n",
       "      <th>baby cosmetics</th>\n",
       "      <th>bags</th>\n",
       "      <th>baking powder</th>\n",
       "      <th>bathroom cleaner</th>\n",
       "      <th>beef</th>\n",
       "      <th>berries</th>\n",
       "      <th>...</th>\n",
       "      <th>turkey</th>\n",
       "      <th>vinegar</th>\n",
       "      <th>waffles</th>\n",
       "      <th>whipped/sour cream</th>\n",
       "      <th>whisky</th>\n",
       "      <th>white bread</th>\n",
       "      <th>white wine</th>\n",
       "      <th>whole milk</th>\n",
       "      <th>yogurt</th>\n",
       "      <th>zwieback</th>\n",
       "    </tr>\n",
       "    <tr>\n",
       "      <th>product</th>\n",
       "      <th></th>\n",
       "      <th></th>\n",
       "      <th></th>\n",
       "      <th></th>\n",
       "      <th></th>\n",
       "      <th></th>\n",
       "      <th></th>\n",
       "      <th></th>\n",
       "      <th></th>\n",
       "      <th></th>\n",
       "      <th></th>\n",
       "      <th></th>\n",
       "      <th></th>\n",
       "      <th></th>\n",
       "      <th></th>\n",
       "      <th></th>\n",
       "      <th></th>\n",
       "      <th></th>\n",
       "      <th></th>\n",
       "      <th></th>\n",
       "      <th></th>\n",
       "    </tr>\n",
       "  </thead>\n",
       "  <tbody>\n",
       "    <tr>\n",
       "      <th>Instant food products</th>\n",
       "      <td>1.000000</td>\n",
       "      <td>-0.006936</td>\n",
       "      <td>-0.009420</td>\n",
       "      <td>-0.010825</td>\n",
       "      <td>-0.003470</td>\n",
       "      <td>-0.004007</td>\n",
       "      <td>-0.010419</td>\n",
       "      <td>-0.008275</td>\n",
       "      <td>0.005847</td>\n",
       "      <td>-0.014528</td>\n",
       "      <td>...</td>\n",
       "      <td>0.025355</td>\n",
       "      <td>0.021851</td>\n",
       "      <td>0.005348</td>\n",
       "      <td>0.014025</td>\n",
       "      <td>-0.005670</td>\n",
       "      <td>0.016640</td>\n",
       "      <td>0.002853</td>\n",
       "      <td>0.015981</td>\n",
       "      <td>0.005071</td>\n",
       "      <td>0.018221</td>\n",
       "    </tr>\n",
       "    <tr>\n",
       "      <th>UHT-milk</th>\n",
       "      <td>-0.006936</td>\n",
       "      <td>1.000000</td>\n",
       "      <td>0.013806</td>\n",
       "      <td>0.006105</td>\n",
       "      <td>-0.007877</td>\n",
       "      <td>0.018349</td>\n",
       "      <td>0.009462</td>\n",
       "      <td>-0.018785</td>\n",
       "      <td>0.002897</td>\n",
       "      <td>0.020801</td>\n",
       "      <td>...</td>\n",
       "      <td>-0.003803</td>\n",
       "      <td>-0.024466</td>\n",
       "      <td>0.009144</td>\n",
       "      <td>0.006618</td>\n",
       "      <td>-0.012871</td>\n",
       "      <td>-0.011550</td>\n",
       "      <td>0.009990</td>\n",
       "      <td>0.028747</td>\n",
       "      <td>0.006505</td>\n",
       "      <td>0.028753</td>\n",
       "    </tr>\n",
       "    <tr>\n",
       "      <th>abrasive cleaner</th>\n",
       "      <td>-0.009420</td>\n",
       "      <td>0.013806</td>\n",
       "      <td>1.000000</td>\n",
       "      <td>-0.006523</td>\n",
       "      <td>-0.002091</td>\n",
       "      <td>-0.002415</td>\n",
       "      <td>-0.013429</td>\n",
       "      <td>-0.004986</td>\n",
       "      <td>0.018970</td>\n",
       "      <td>0.001813</td>\n",
       "      <td>...</td>\n",
       "      <td>0.012922</td>\n",
       "      <td>-0.008507</td>\n",
       "      <td>-0.007390</td>\n",
       "      <td>0.002163</td>\n",
       "      <td>-0.003417</td>\n",
       "      <td>0.010777</td>\n",
       "      <td>0.000107</td>\n",
       "      <td>0.003558</td>\n",
       "      <td>0.008360</td>\n",
       "      <td>-0.009420</td>\n",
       "    </tr>\n",
       "    <tr>\n",
       "      <th>artif. sweetener</th>\n",
       "      <td>-0.010825</td>\n",
       "      <td>0.006105</td>\n",
       "      <td>-0.006523</td>\n",
       "      <td>1.000000</td>\n",
       "      <td>0.105251</td>\n",
       "      <td>-0.002775</td>\n",
       "      <td>-0.015432</td>\n",
       "      <td>-0.005730</td>\n",
       "      <td>-0.006645</td>\n",
       "      <td>0.016042</td>\n",
       "      <td>...</td>\n",
       "      <td>0.049392</td>\n",
       "      <td>-0.009776</td>\n",
       "      <td>0.010179</td>\n",
       "      <td>-0.006614</td>\n",
       "      <td>-0.003926</td>\n",
       "      <td>-0.006806</td>\n",
       "      <td>-0.018394</td>\n",
       "      <td>0.029591</td>\n",
       "      <td>-0.024397</td>\n",
       "      <td>-0.010825</td>\n",
       "    </tr>\n",
       "    <tr>\n",
       "      <th>baby cosmetics</th>\n",
       "      <td>-0.003470</td>\n",
       "      <td>-0.007877</td>\n",
       "      <td>-0.002091</td>\n",
       "      <td>0.105251</td>\n",
       "      <td>1.000000</td>\n",
       "      <td>-0.000889</td>\n",
       "      <td>-0.004947</td>\n",
       "      <td>-0.001837</td>\n",
       "      <td>0.014798</td>\n",
       "      <td>-0.007983</td>\n",
       "      <td>...</td>\n",
       "      <td>-0.003919</td>\n",
       "      <td>-0.003134</td>\n",
       "      <td>-0.007413</td>\n",
       "      <td>-0.011288</td>\n",
       "      <td>-0.001259</td>\n",
       "      <td>-0.008476</td>\n",
       "      <td>-0.005896</td>\n",
       "      <td>-0.021056</td>\n",
       "      <td>-0.000410</td>\n",
       "      <td>-0.003470</td>\n",
       "    </tr>\n",
       "    <tr>\n",
       "      <th>...</th>\n",
       "      <td>...</td>\n",
       "      <td>...</td>\n",
       "      <td>...</td>\n",
       "      <td>...</td>\n",
       "      <td>...</td>\n",
       "      <td>...</td>\n",
       "      <td>...</td>\n",
       "      <td>...</td>\n",
       "      <td>...</td>\n",
       "      <td>...</td>\n",
       "      <td>...</td>\n",
       "      <td>...</td>\n",
       "      <td>...</td>\n",
       "      <td>...</td>\n",
       "      <td>...</td>\n",
       "      <td>...</td>\n",
       "      <td>...</td>\n",
       "      <td>...</td>\n",
       "      <td>...</td>\n",
       "      <td>...</td>\n",
       "      <td>...</td>\n",
       "    </tr>\n",
       "    <tr>\n",
       "      <th>white bread</th>\n",
       "      <td>0.016640</td>\n",
       "      <td>-0.011550</td>\n",
       "      <td>0.010777</td>\n",
       "      <td>-0.006806</td>\n",
       "      <td>-0.008476</td>\n",
       "      <td>-0.009789</td>\n",
       "      <td>-0.011195</td>\n",
       "      <td>0.005394</td>\n",
       "      <td>0.015850</td>\n",
       "      <td>0.030758</td>\n",
       "      <td>...</td>\n",
       "      <td>0.014921</td>\n",
       "      <td>0.001920</td>\n",
       "      <td>-0.000010</td>\n",
       "      <td>0.069757</td>\n",
       "      <td>0.004792</td>\n",
       "      <td>1.000000</td>\n",
       "      <td>0.046272</td>\n",
       "      <td>0.053497</td>\n",
       "      <td>0.030962</td>\n",
       "      <td>0.016640</td>\n",
       "    </tr>\n",
       "    <tr>\n",
       "      <th>white wine</th>\n",
       "      <td>0.002853</td>\n",
       "      <td>0.009990</td>\n",
       "      <td>0.000107</td>\n",
       "      <td>-0.018394</td>\n",
       "      <td>-0.005896</td>\n",
       "      <td>-0.006809</td>\n",
       "      <td>-0.010370</td>\n",
       "      <td>0.022577</td>\n",
       "      <td>0.015060</td>\n",
       "      <td>0.021670</td>\n",
       "      <td>...</td>\n",
       "      <td>-0.005083</td>\n",
       "      <td>0.028101</td>\n",
       "      <td>0.015072</td>\n",
       "      <td>0.000317</td>\n",
       "      <td>0.017039</td>\n",
       "      <td>0.046272</td>\n",
       "      <td>1.000000</td>\n",
       "      <td>0.032862</td>\n",
       "      <td>0.039600</td>\n",
       "      <td>-0.006953</td>\n",
       "    </tr>\n",
       "    <tr>\n",
       "      <th>whole milk</th>\n",
       "      <td>0.015981</td>\n",
       "      <td>0.028747</td>\n",
       "      <td>0.003558</td>\n",
       "      <td>0.029591</td>\n",
       "      <td>-0.021056</td>\n",
       "      <td>-0.024316</td>\n",
       "      <td>0.020192</td>\n",
       "      <td>0.032618</td>\n",
       "      <td>0.073856</td>\n",
       "      <td>0.028186</td>\n",
       "      <td>...</td>\n",
       "      <td>0.013874</td>\n",
       "      <td>-0.007158</td>\n",
       "      <td>0.069096</td>\n",
       "      <td>0.060338</td>\n",
       "      <td>0.039298</td>\n",
       "      <td>0.053497</td>\n",
       "      <td>0.032862</td>\n",
       "      <td>1.000000</td>\n",
       "      <td>0.103533</td>\n",
       "      <td>0.043075</td>\n",
       "    </tr>\n",
       "    <tr>\n",
       "      <th>yogurt</th>\n",
       "      <td>0.005071</td>\n",
       "      <td>0.006505</td>\n",
       "      <td>0.008360</td>\n",
       "      <td>-0.024397</td>\n",
       "      <td>-0.000410</td>\n",
       "      <td>0.034985</td>\n",
       "      <td>0.041819</td>\n",
       "      <td>-0.011744</td>\n",
       "      <td>0.050165</td>\n",
       "      <td>0.023489</td>\n",
       "      <td>...</td>\n",
       "      <td>0.013537</td>\n",
       "      <td>-0.020038</td>\n",
       "      <td>0.036691</td>\n",
       "      <td>0.030023</td>\n",
       "      <td>0.002466</td>\n",
       "      <td>0.030962</td>\n",
       "      <td>0.039600</td>\n",
       "      <td>0.103533</td>\n",
       "      <td>1.000000</td>\n",
       "      <td>0.018904</td>\n",
       "    </tr>\n",
       "    <tr>\n",
       "      <th>zwieback</th>\n",
       "      <td>0.018221</td>\n",
       "      <td>0.028753</td>\n",
       "      <td>-0.009420</td>\n",
       "      <td>-0.010825</td>\n",
       "      <td>-0.003470</td>\n",
       "      <td>-0.004007</td>\n",
       "      <td>0.037053</td>\n",
       "      <td>0.054973</td>\n",
       "      <td>-0.005211</td>\n",
       "      <td>0.021197</td>\n",
       "      <td>...</td>\n",
       "      <td>-0.003317</td>\n",
       "      <td>-0.014118</td>\n",
       "      <td>0.013097</td>\n",
       "      <td>-0.020911</td>\n",
       "      <td>-0.005670</td>\n",
       "      <td>0.016640</td>\n",
       "      <td>-0.006953</td>\n",
       "      <td>0.043075</td>\n",
       "      <td>0.018904</td>\n",
       "      <td>1.000000</td>\n",
       "    </tr>\n",
       "  </tbody>\n",
       "</table>\n",
       "<p>167 rows × 167 columns</p>\n",
       "</div>"
      ],
      "text/plain": [
       "product                Instant food products  UHT-milk  abrasive cleaner  \\\n",
       "product                                                                    \n",
       "Instant food products               1.000000 -0.006936         -0.009420   \n",
       "UHT-milk                           -0.006936  1.000000          0.013806   \n",
       "abrasive cleaner                   -0.009420  0.013806          1.000000   \n",
       "artif. sweetener                   -0.010825  0.006105         -0.006523   \n",
       "baby cosmetics                     -0.003470 -0.007877         -0.002091   \n",
       "...                                      ...       ...               ...   \n",
       "white bread                         0.016640 -0.011550          0.010777   \n",
       "white wine                          0.002853  0.009990          0.000107   \n",
       "whole milk                          0.015981  0.028747          0.003558   \n",
       "yogurt                              0.005071  0.006505          0.008360   \n",
       "zwieback                            0.018221  0.028753         -0.009420   \n",
       "\n",
       "product                artif. sweetener  baby cosmetics      bags  \\\n",
       "product                                                             \n",
       "Instant food products         -0.010825       -0.003470 -0.004007   \n",
       "UHT-milk                       0.006105       -0.007877  0.018349   \n",
       "abrasive cleaner              -0.006523       -0.002091 -0.002415   \n",
       "artif. sweetener               1.000000        0.105251 -0.002775   \n",
       "baby cosmetics                 0.105251        1.000000 -0.000889   \n",
       "...                                 ...             ...       ...   \n",
       "white bread                   -0.006806       -0.008476 -0.009789   \n",
       "white wine                    -0.018394       -0.005896 -0.006809   \n",
       "whole milk                     0.029591       -0.021056 -0.024316   \n",
       "yogurt                        -0.024397       -0.000410  0.034985   \n",
       "zwieback                      -0.010825       -0.003470 -0.004007   \n",
       "\n",
       "product                baking powder  bathroom cleaner      beef   berries  \\\n",
       "product                                                                      \n",
       "Instant food products      -0.010419         -0.008275  0.005847 -0.014528   \n",
       "UHT-milk                    0.009462         -0.018785  0.002897  0.020801   \n",
       "abrasive cleaner           -0.013429         -0.004986  0.018970  0.001813   \n",
       "artif. sweetener           -0.015432         -0.005730 -0.006645  0.016042   \n",
       "baby cosmetics             -0.004947         -0.001837  0.014798 -0.007983   \n",
       "...                              ...               ...       ...       ...   \n",
       "white bread                -0.011195          0.005394  0.015850  0.030758   \n",
       "white wine                 -0.010370          0.022577  0.015060  0.021670   \n",
       "whole milk                  0.020192          0.032618  0.073856  0.028186   \n",
       "yogurt                      0.041819         -0.011744  0.050165  0.023489   \n",
       "zwieback                    0.037053          0.054973 -0.005211  0.021197   \n",
       "\n",
       "product                ...    turkey   vinegar   waffles  whipped/sour cream  \\\n",
       "product                ...                                                     \n",
       "Instant food products  ...  0.025355  0.021851  0.005348            0.014025   \n",
       "UHT-milk               ... -0.003803 -0.024466  0.009144            0.006618   \n",
       "abrasive cleaner       ...  0.012922 -0.008507 -0.007390            0.002163   \n",
       "artif. sweetener       ...  0.049392 -0.009776  0.010179           -0.006614   \n",
       "baby cosmetics         ... -0.003919 -0.003134 -0.007413           -0.011288   \n",
       "...                    ...       ...       ...       ...                 ...   \n",
       "white bread            ...  0.014921  0.001920 -0.000010            0.069757   \n",
       "white wine             ... -0.005083  0.028101  0.015072            0.000317   \n",
       "whole milk             ...  0.013874 -0.007158  0.069096            0.060338   \n",
       "yogurt                 ...  0.013537 -0.020038  0.036691            0.030023   \n",
       "zwieback               ... -0.003317 -0.014118  0.013097           -0.020911   \n",
       "\n",
       "product                  whisky  white bread  white wine  whole milk  \\\n",
       "product                                                                \n",
       "Instant food products -0.005670     0.016640    0.002853    0.015981   \n",
       "UHT-milk              -0.012871    -0.011550    0.009990    0.028747   \n",
       "abrasive cleaner      -0.003417     0.010777    0.000107    0.003558   \n",
       "artif. sweetener      -0.003926    -0.006806   -0.018394    0.029591   \n",
       "baby cosmetics        -0.001259    -0.008476   -0.005896   -0.021056   \n",
       "...                         ...          ...         ...         ...   \n",
       "white bread            0.004792     1.000000    0.046272    0.053497   \n",
       "white wine             0.017039     0.046272    1.000000    0.032862   \n",
       "whole milk             0.039298     0.053497    0.032862    1.000000   \n",
       "yogurt                 0.002466     0.030962    0.039600    0.103533   \n",
       "zwieback              -0.005670     0.016640   -0.006953    0.043075   \n",
       "\n",
       "product                  yogurt  zwieback  \n",
       "product                                    \n",
       "Instant food products  0.005071  0.018221  \n",
       "UHT-milk               0.006505  0.028753  \n",
       "abrasive cleaner       0.008360 -0.009420  \n",
       "artif. sweetener      -0.024397 -0.010825  \n",
       "baby cosmetics        -0.000410 -0.003470  \n",
       "...                         ...       ...  \n",
       "white bread            0.030962  0.016640  \n",
       "white wine             0.039600 -0.006953  \n",
       "whole milk             0.103533  0.043075  \n",
       "yogurt                 1.000000  0.018904  \n",
       "zwieback               0.018904  1.000000  \n",
       "\n",
       "[167 rows x 167 columns]"
      ]
     },
     "execution_count": 16,
     "metadata": {},
     "output_type": "execute_result"
    }
   ],
   "source": [
    "### ╰( ͡° ͜ʖ ͡° )つ▬▬ι═══════  bzzzzzzzzzz\n",
    "# will the code be with you\n",
    "\n",
    "sales_correlation = sparse_sales.corr()\n",
    "sales_correlation\n",
    "# your code here\n"
   ]
  },
  {
   "cell_type": "markdown",
   "metadata": {},
   "source": [
    "Какие продукты сильнее всего коррелируют с яйцами, `domestic eggs` (их чаще всего покупают вместе)?  Сохраните название самого скоррелированного продукта в переменную `top_1`."
   ]
  },
  {
   "cell_type": "code",
   "execution_count": 17,
   "metadata": {
    "deletable": false,
    "nbgrader": {
     "cell_type": "code",
     "checksum": "0bd0243dc6204b2172419735648495f3",
     "grade": false,
     "grade_id": "cell-cf20442762e0f104",
     "locked": false,
     "schema_version": 3,
     "solution": true,
     "task": false
    }
   },
   "outputs": [
    {
     "data": {
      "text/plain": [
       "'meat spreads'"
      ]
     },
     "execution_count": 17,
     "metadata": {},
     "output_type": "execute_result"
    }
   ],
   "source": [
    "### ╰( ͡° ͜ʖ ͡° )つ▬▬ι═══════  bzzzzzzzzzz\n",
    "# will the code be with you\n",
    "\n",
    "top_1 = sales_correlation['domestic eggs'].sort_values().index[-2]\n",
    "top_1\n",
    "# your code here\n"
   ]
  },
  {
   "cell_type": "markdown",
   "metadata": {},
   "source": [
    "Какие продукты \"мешают\" купить яйца, то есть отрицательно коррелируют с их покупкой? Сохраните название продукта с самой большой отрицательной корреляцией в переменную `bottom_1`."
   ]
  },
  {
   "cell_type": "code",
   "execution_count": 18,
   "metadata": {
    "deletable": false,
    "nbgrader": {
     "cell_type": "code",
     "checksum": "b1b4d2eb18aa5e07ae9ff6c8263cf038",
     "grade": false,
     "grade_id": "cell-fbd202e1529e31c7",
     "locked": false,
     "schema_version": 3,
     "solution": true,
     "task": false
    }
   },
   "outputs": [
    {
     "data": {
      "text/plain": [
       "'pet care'"
      ]
     },
     "execution_count": 18,
     "metadata": {},
     "output_type": "execute_result"
    }
   ],
   "source": [
    "### ╰( ͡° ͜ʖ ͡° )つ▬▬ι═══════  bzzzzzzzzzz\n",
    "# will the code be with you\n",
    "\n",
    "bottom_1 = sales_correlation['domestic eggs'].sort_values().index[0]\n",
    "bottom_1\n"
   ]
  },
  {
   "cell_type": "code",
   "execution_count": 19,
   "metadata": {
    "deletable": false,
    "editable": false,
    "nbgrader": {
     "cell_type": "code",
     "checksum": "6ac2ce2c786529bbf15bc7a6d8e5b419",
     "grade": true,
     "grade_id": "cell-d070d4a1a7bde720",
     "locked": true,
     "points": 1,
     "schema_version": 3,
     "solution": false,
     "task": false
    }
   },
   "outputs": [],
   "source": [
    "# проверка, что задание решено корректно\n",
    "assert len(bottom_1) == 8\n",
    "assert len(top_1) == 12\n",
    "\n",
    "# Аналогичные тесты скрыты от вас"
   ]
  },
  {
   "cell_type": "markdown",
   "metadata": {},
   "source": [
    "Напишите код, который выводит самые коррелируемые товары для случайного продукта из списка `unique_products`."
   ]
  },
  {
   "cell_type": "code",
   "execution_count": 21,
   "metadata": {
    "deletable": false,
    "nbgrader": {
     "cell_type": "code",
     "checksum": "d9963e0690e8f979766ae92f7c9e1637",
     "grade": false,
     "grade_id": "cell-50a7be49564df467",
     "locked": false,
     "schema_version": 3,
     "solution": true,
     "task": false
    }
   },
   "outputs": [
    {
     "data": {
      "text/plain": [
       "product\n",
       "canned vegetables      1.000000\n",
       "rum                    0.064328\n",
       "frozen vegetables      0.058187\n",
       "canned beer            0.055837\n",
       "tropical fruit         0.041740\n",
       "                         ...   \n",
       "mustard               -0.022000\n",
       "spread cheese         -0.022753\n",
       "frozen fish           -0.023219\n",
       "specialty chocolate   -0.027937\n",
       "red/blush wine        -0.028927\n",
       "Name: canned vegetables, Length: 167, dtype: float64"
      ]
     },
     "execution_count": 21,
     "metadata": {},
     "output_type": "execute_result"
    }
   ],
   "source": [
    "### ╰( ͡° ͜ʖ ͡° )つ▬▬ι═══════  bzzzzzzzzzz\n",
    "# will the code be with you\n",
    "\n",
    "unique_products = df['product'].unique()\n",
    "random_lol = np.random.choice(unique_products)\n",
    "sales_correlation[random_lol].sort_values(ascending=False)\n",
    "# your code here\n"
   ]
  },
  {
   "cell_type": "markdown",
   "metadata": {},
   "source": [
    "__г)__ Какие два продукта коррелируют сильнее всего? Положите их название в лист `answer`"
   ]
  },
  {
   "cell_type": "code",
   "execution_count": 22,
   "metadata": {
    "deletable": false,
    "nbgrader": {
     "cell_type": "code",
     "checksum": "b17da2e38d71902e9d6b14d8b5d11380",
     "grade": false,
     "grade_id": "cell-dd462f4db3d9a2f7",
     "locked": false,
     "schema_version": 3,
     "solution": true,
     "task": false
    }
   },
   "outputs": [
    {
     "data": {
      "text/plain": [
       "product                 product               \n",
       "detergent               detergent                 1.000000\n",
       "dish cleaner            dish cleaner              1.000000\n",
       "dishes                  dishes                    1.000000\n",
       "dog food                dog food                  1.000000\n",
       "domestic eggs           domestic eggs             1.000000\n",
       "finished products       finished products         1.000000\n",
       "frozen fish             frozen fish               1.000000\n",
       "fish                    fish                      1.000000\n",
       "flour                   flour                     1.000000\n",
       "flower (seeds)          flower (seeds)            1.000000\n",
       "flower soil/fertilizer  flower soil/fertilizer    1.000000\n",
       "frankfurter             frankfurter               1.000000\n",
       "frozen chicken          frozen chicken            1.000000\n",
       "frozen dessert          frozen dessert            1.000000\n",
       "whole milk              whole milk                1.000000\n",
       "liquor (appetizer)      liquor (appetizer)        1.000000\n",
       "Instant food products   Instant food products     1.000000\n",
       "preservation products   soups                     0.143465\n",
       "soups                   preservation products     0.143465\n",
       "specialty vegetables    frozen chicken            0.133211\n",
       "dtype: float64"
      ]
     },
     "execution_count": 22,
     "metadata": {},
     "output_type": "execute_result"
    }
   ],
   "source": [
    "### ╰( ͡° ͜ʖ ͡° )つ▬▬ι═══════  bzzzzzzzzzz\n",
    "# will the code be with you\n",
    "\n",
    "answer = ['preservation products','soups'] \n",
    "sales_correlation.unstack().sort_values(ascending=False)[150:170]\n",
    "# your code here\n"
   ]
  },
  {
   "cell_type": "code",
   "execution_count": 23,
   "metadata": {
    "deletable": false,
    "editable": false,
    "nbgrader": {
     "cell_type": "code",
     "checksum": "6ff9da58bc1861cd17f35b979e3d3e41",
     "grade": true,
     "grade_id": "cell-894ff9bec07f24e0",
     "locked": true,
     "points": 1,
     "schema_version": 3,
     "solution": false,
     "task": false
    }
   },
   "outputs": [],
   "source": [
    "# проверка, что задание решено корректно\n",
    "assert 'soups' in answer\n",
    "\n",
    "# Аналогичные тесты скрыты от вас"
   ]
  },
  {
   "cell_type": "markdown",
   "metadata": {},
   "source": [
    "Конечно же, корреляция — это [не единственный способ искать](https://habr.com/ru/company/ods/blog/353502/) между покупками ассоциативные правила."
   ]
  },
  {
   "cell_type": "markdown",
   "metadata": {},
   "source": [
    "## 2. Зависимость. \n",
    "\n",
    "В лекции мы с вами сказали, что события $A$ и $B$ называются независимыми, если $P(AB) = P(A)\\cdot P(B)$. Отталкиваясь от этого определения, можно ввести другую характеристику, которая показывает, насколько продукты зависят друг от друга, а именно __поддержку (lift).__ \n",
    "\n",
    "$$\n",
    "lift = \\frac{P(AB)}{P(A)\\cdot P(B)}\n",
    "$$"
   ]
  },
  {
   "cell_type": "markdown",
   "metadata": {},
   "source": [
    "Эта метрика описывает отношение зависимости товаров к их независимости. Если оказалось, что `lift = 1`, это означает, что покупка товара $A$ не зависит от покупки товара $B$. Если `lift > 1`, то это означает, что вероятность встретить оба товара в чеке, $P(AB)$ высокая, то есть товары покупают вместе. Если `lift < 1`, это означает, что товары, наоборот, очень часто покупают по-отдельности. "
   ]
  },
  {
   "cell_type": "markdown",
   "metadata": {},
   "source": [
    "__д)__ Посчитайте значение нашей метрики для яиц и молока (`'whole milk', 'domestic eggs'`). Запишите получившиеся значение метрики в переменную `answer`."
   ]
  },
  {
   "cell_type": "code",
   "execution_count": 33,
   "metadata": {
    "deletable": false,
    "nbgrader": {
     "cell_type": "code",
     "checksum": "3651c09339b2db8ee9882d3950ed3b10",
     "grade": false,
     "grade_id": "cell-db191a336be19f97",
     "locked": false,
     "schema_version": 3,
     "solution": true,
     "task": false
    }
   },
   "outputs": [
    {
     "data": {
      "text/plain": [
       "1.152241691425711"
      ]
     },
     "execution_count": 33,
     "metadata": {},
     "output_type": "execute_result"
    }
   ],
   "source": [
    "### ╰( ͡° ͜ʖ ͡° )つ▬▬ι═══════  bzzzzzzzzzz\n",
    "# will the code be with you\n",
    "PAB = len(sparse_sales[(sparse_sales['whole milk']>=1) & (sparse_sales['domestic eggs']>=1)]) /sparse_sales.shape[0]\n",
    "PA = len(sparse_sales[(sparse_sales['whole milk']>=1)]) /sparse_sales.shape[0]\n",
    "PB = len(sparse_sales[(sparse_sales['domestic eggs']>=1)]) /sparse_sales.shape[0]\n",
    "answer = PAB / (PA * PB)\n",
    "# your code here\n",
    "answer"
   ]
  },
  {
   "cell_type": "code",
   "execution_count": 34,
   "metadata": {
    "deletable": false,
    "editable": false,
    "nbgrader": {
     "cell_type": "code",
     "checksum": "ae6b5fdfedb6956db845d780ce9bfbf0",
     "grade": true,
     "grade_id": "cell-c2f789696293a0b3",
     "locked": true,
     "points": 1,
     "schema_version": 3,
     "solution": false,
     "task": false
    }
   },
   "outputs": [],
   "source": [
    "# проверка, что задание решено корректно\n",
    "assert answer < 3\n",
    "assert answer > 1\n",
    "\n",
    "# Аналогичные тесты скрыты от вас"
   ]
  },
  {
   "cell_type": "markdown",
   "metadata": {},
   "source": [
    "__е)__ Посчитайте значение метрики для всех пар продуктов из датасета. Сохраните значения в словарик `dict`. В качестве ключа используете кортеж из пары продуктов. Чтобы удобнее было перебрать все сочетания, используйте `combinations` из модуля `itertools`.\n",
    "\n",
    "Чтобы при подсчётах не возникало деления на ноль, добавьте к знаменателю маленькое число, например `1e-10`."
   ]
  },
  {
   "cell_type": "code",
   "execution_count": 71,
   "metadata": {
    "deletable": false,
    "nbgrader": {
     "cell_type": "code",
     "checksum": "26f315f8a90daedcda97ffc328155445",
     "grade": false,
     "grade_id": "cell-e512719bd3dbbd34",
     "locked": false,
     "schema_version": 3,
     "solution": true,
     "task": false
    }
   },
   "outputs": [],
   "source": [
    "### ╰( ͡° ͜ʖ ͡° )つ▬▬ι═══════  bzzzzzzzzzz\n",
    "# will the code be with you\n",
    "\n",
    "# your code here\n"
   ]
  },
  {
   "cell_type": "code",
   "execution_count": 72,
   "metadata": {},
   "outputs": [],
   "source": [
    "import itertools as it\n",
    "comb = list(it.combinations(unique_products, 2))"
   ]
  },
  {
   "cell_type": "code",
   "execution_count": 76,
   "metadata": {},
   "outputs": [],
   "source": [
    "test = []\n",
    "# food_lift= []\n",
    "# for i in range(len(comb)):\n",
    "#     t = len(sparse_sales[(sparse_sales[comb[i][0]]==True)&(sparse_sales[comb[i][1]]==True)])\n",
    "#     if (t == 0) and food_lift[comb[i]] > 0:\n",
    "# #         print(comb[i])\n",
    "# #         break\n",
    "#     if t != 0:\n",
    "#         test.append(comb[i])"
   ]
  },
  {
   "cell_type": "code",
   "execution_count": 77,
   "metadata": {},
   "outputs": [
    {
     "data": {
      "text/plain": [
       "('tropical fruit', 'hair spray')"
      ]
     },
     "execution_count": 77,
     "metadata": {},
     "output_type": "execute_result"
    }
   ],
   "source": [
    "comb[i]"
   ]
  },
  {
   "cell_type": "code",
   "execution_count": 78,
   "metadata": {},
   "outputs": [
    {
     "data": {
      "text/html": [
       "<div>\n",
       "<style scoped>\n",
       "    .dataframe tbody tr th:only-of-type {\n",
       "        vertical-align: middle;\n",
       "    }\n",
       "\n",
       "    .dataframe tbody tr th {\n",
       "        vertical-align: top;\n",
       "    }\n",
       "\n",
       "    .dataframe thead th {\n",
       "        text-align: right;\n",
       "    }\n",
       "</style>\n",
       "<table border=\"1\" class=\"dataframe\">\n",
       "  <thead>\n",
       "    <tr style=\"text-align: right;\">\n",
       "      <th>product</th>\n",
       "      <th>Instant food products</th>\n",
       "      <th>UHT-milk</th>\n",
       "      <th>abrasive cleaner</th>\n",
       "      <th>artif. sweetener</th>\n",
       "      <th>baby cosmetics</th>\n",
       "      <th>bags</th>\n",
       "      <th>baking powder</th>\n",
       "      <th>bathroom cleaner</th>\n",
       "      <th>beef</th>\n",
       "      <th>berries</th>\n",
       "      <th>...</th>\n",
       "      <th>turkey</th>\n",
       "      <th>vinegar</th>\n",
       "      <th>waffles</th>\n",
       "      <th>whipped/sour cream</th>\n",
       "      <th>whisky</th>\n",
       "      <th>white bread</th>\n",
       "      <th>white wine</th>\n",
       "      <th>whole milk</th>\n",
       "      <th>yogurt</th>\n",
       "      <th>zwieback</th>\n",
       "    </tr>\n",
       "    <tr>\n",
       "      <th>id</th>\n",
       "      <th></th>\n",
       "      <th></th>\n",
       "      <th></th>\n",
       "      <th></th>\n",
       "      <th></th>\n",
       "      <th></th>\n",
       "      <th></th>\n",
       "      <th></th>\n",
       "      <th></th>\n",
       "      <th></th>\n",
       "      <th></th>\n",
       "      <th></th>\n",
       "      <th></th>\n",
       "      <th></th>\n",
       "      <th></th>\n",
       "      <th></th>\n",
       "      <th></th>\n",
       "      <th></th>\n",
       "      <th></th>\n",
       "      <th></th>\n",
       "      <th></th>\n",
       "    </tr>\n",
       "  </thead>\n",
       "  <tbody>\n",
       "  </tbody>\n",
       "</table>\n",
       "<p>0 rows × 167 columns</p>\n",
       "</div>"
      ],
      "text/plain": [
       "Empty DataFrame\n",
       "Columns: [Instant food products, UHT-milk, abrasive cleaner, artif. sweetener, baby cosmetics, bags, baking powder, bathroom cleaner, beef, berries, beverages, bottled beer, bottled water, brandy, brown bread, butter, butter milk, cake bar, candles, candy, canned beer, canned fish, canned fruit, canned vegetables, cat food, cereals, chewing gum, chicken, chocolate, chocolate marshmallow, citrus fruit, cleaner, cling film/bags, cocoa drinks, coffee, condensed milk, cooking chocolate, cookware, cream, cream cheese , curd, curd cheese, decalcifier, dental care, dessert, detergent, dish cleaner, dishes, dog food, domestic eggs, female sanitary products, finished products, fish, flour, flower (seeds), flower soil/fertilizer, frankfurter, frozen chicken, frozen dessert, frozen fish, frozen fruits, frozen meals, frozen potato products, frozen vegetables, fruit/vegetable juice, grapes, hair spray, ham, hamburger meat, hard cheese, herbs, honey, house keeping products, hygiene articles, ice cream, instant coffee, jam, ketchup, kitchen towels, kitchen utensil, light bulbs, liqueur, liquor, liquor (appetizer), liver loaf, long life bakery product, make up remover, male cosmetics, margarine, mayonnaise, meat, meat spreads, misc. beverages, mustard, napkins, newspapers, nut snack, nuts/prunes, oil, onions, ...]\n",
       "Index: []\n",
       "\n",
       "[0 rows x 167 columns]"
      ]
     },
     "execution_count": 78,
     "metadata": {},
     "output_type": "execute_result"
    }
   ],
   "source": [
    "sparse_sales[(sparse_sales[comb[i][0]]==True)&(sparse_sales[comb[i][1]]==True)]"
   ]
  },
  {
   "cell_type": "code",
   "execution_count": 80,
   "metadata": {},
   "outputs": [],
   "source": [
    "# food_lift[('whole milk', 'cream')]"
   ]
  },
  {
   "cell_type": "code",
   "execution_count": 81,
   "metadata": {},
   "outputs": [
    {
     "data": {
      "text/plain": [
       "3"
      ]
     },
     "execution_count": 81,
     "metadata": {},
     "output_type": "execute_result"
    }
   ],
   "source": [
    "(sparse_sales [['whole milk', 'cream']] >= 1).all(axis=1).sum()"
   ]
  },
  {
   "cell_type": "code",
   "execution_count": 82,
   "metadata": {},
   "outputs": [
    {
     "data": {
      "text/plain": [
       "0.5456326987681971"
      ]
     },
     "execution_count": 82,
     "metadata": {},
     "output_type": "execute_result"
    }
   ],
   "source": [
    "ab = (sparse_sales [['whole milk', 'cream']] >= 1).all(axis=1).mean()\n",
    "a = (sparse_sales ['whole milk'] >= 1).mean()\n",
    "b = (sparse_sales ['cream'] >= 1).mean()\n",
    "answer = ab/(a*b)\n",
    "answer"
   ]
  },
  {
   "cell_type": "code",
   "execution_count": 83,
   "metadata": {},
   "outputs": [
    {
     "data": {
      "text/plain": [
       "0"
      ]
     },
     "execution_count": 83,
     "metadata": {},
     "output_type": "execute_result"
    }
   ],
   "source": [
    "len(set(test))"
   ]
  },
  {
   "cell_type": "markdown",
   "metadata": {},
   "source": [
    "Сколько пар продуктов покупали вместе хотя бы раз? Запишите ответ в переменную `answer`."
   ]
  },
  {
   "cell_type": "code",
   "execution_count": 85,
   "metadata": {
    "deletable": false,
    "nbgrader": {
     "cell_type": "code",
     "checksum": "fb58676df1e4d46a7fd690855903dca4",
     "grade": false,
     "grade_id": "cell-097e70120aa5a596",
     "locked": false,
     "schema_version": 3,
     "solution": true,
     "task": false
    }
   },
   "outputs": [],
   "source": [
    "### ╰( ͡° ͜ʖ ͡° )つ▬▬ι═══════  bzzzzzzzzzz\n",
    "# will the code be with you\n",
    "\n",
    "answer =15\n",
    "\n",
    "# your code here\n"
   ]
  },
  {
   "cell_type": "markdown",
   "metadata": {},
   "source": [
    "Для какой пары продуктов метрика $lift$ оказалась самой большой? "
   ]
  },
  {
   "cell_type": "code",
   "execution_count": 86,
   "metadata": {
    "deletable": false,
    "nbgrader": {
     "cell_type": "code",
     "checksum": "3935f2223dddf3a9658a90034e2ebd5d",
     "grade": false,
     "grade_id": "cell-e0e772420c99a1f4",
     "locked": false,
     "schema_version": 3,
     "solution": true,
     "task": false
    }
   },
   "outputs": [],
   "source": [
    "### ╰( ͡° ͜ʖ ͡° )つ▬▬ι═══════  bzzzzzzzzzz\n",
    "# will the code be with you\n",
    "\n",
    "# your code here\n"
   ]
  },
  {
   "cell_type": "markdown",
   "metadata": {},
   "source": [
    "Сколько раз эти продукты встретились в выборке? Как думаете адеватно ли делать выводы по такому объёму данных? "
   ]
  },
  {
   "cell_type": "code",
   "execution_count": 87,
   "metadata": {
    "deletable": false,
    "nbgrader": {
     "cell_type": "code",
     "checksum": "dc2e17f19344df8a8e09d989c31e436b",
     "grade": false,
     "grade_id": "cell-cfbf5b5deb321f36",
     "locked": false,
     "schema_version": 3,
     "solution": true,
     "task": false
    }
   },
   "outputs": [],
   "source": [
    "### ╰( ͡° ͜ʖ ͡° )つ▬▬ι═══════  bzzzzzzzzzz\n",
    "# will the code be with you\n",
    "\n",
    "# your code here\n"
   ]
  },
  {
   "cell_type": "markdown",
   "metadata": {},
   "source": [
    "Для какой пары продуктов метрика оказывается самой маленькой? "
   ]
  },
  {
   "cell_type": "code",
   "execution_count": 90,
   "metadata": {
    "deletable": false,
    "nbgrader": {
     "cell_type": "code",
     "checksum": "a4a911333c146c4d9ec09e8f51a5fb6c",
     "grade": false,
     "grade_id": "cell-0c88c82cc7bdef09",
     "locked": false,
     "schema_version": 3,
     "solution": true,
     "task": false
    }
   },
   "outputs": [],
   "source": [
    "### ╰( ͡° ͜ʖ ͡° )つ▬▬ι═══════  bzzzzzzzzzz\n",
    "# will the code be with you\n",
    "\n",
    "# your code here\n",
    "answer = 9500"
   ]
  },
  {
   "cell_type": "code",
   "execution_count": 91,
   "metadata": {
    "deletable": false,
    "editable": false,
    "nbgrader": {
     "cell_type": "code",
     "checksum": "c15571d658306ab43839bcf4d8e42bae",
     "grade": true,
     "grade_id": "cell-b7f41317d840457e",
     "locked": true,
     "points": 1,
     "schema_version": 3,
     "solution": false,
     "task": false
    }
   },
   "outputs": [],
   "source": [
    "# проверка, что задание решено корректно\n",
    "\n",
    "assert answer < 10000\n",
    "assert answer > 9000\n",
    "\n",
    "# Аналогичные тесты скрыты от вас"
   ]
  },
  {
   "cell_type": "markdown",
   "metadata": {},
   "source": [
    "## 3. Неоцениваемые задания\n",
    "\n",
    "Выше мы увидели, что некоторые продукты встречаются в выборке очень редко. Понятное дело, что по ним у нас не получится построить хорошее ассоциативное правило. Попробуйте повторить расчёт той же метрики, но с условием что продукт покупали больше 10 раз. Изучите самые покупаемые вместе продукты и самые непокупаемые вместе продукты. Насколько сильно список отличается от полученного в предыдущем задании? "
   ]
  },
  {
   "cell_type": "code",
   "execution_count": null,
   "metadata": {
    "deletable": false,
    "nbgrader": {
     "cell_type": "code",
     "checksum": "99e685544038e446e2d67bd1cd4f6a3c",
     "grade": false,
     "grade_id": "cell-aa30f3933e22e20d",
     "locked": false,
     "schema_version": 3,
     "solution": true,
     "task": false
    }
   },
   "outputs": [],
   "source": [
    "### ╰( ͡° ͜ʖ ͡° )つ▬▬ι═══════  bzzzzzzzzzz\n",
    "# will the code be with you\n",
    "\n",
    "# your code here\n"
   ]
  },
  {
   "cell_type": "markdown",
   "metadata": {},
   "source": [
    "Иногда в чеках пытаются искать __продукты-якоря.__ То есть продукты, которые являются основными. Например: айфон - основной продукт, наушники и чехол - дополнения к нему. Подумайте как можно попытаться найти такие продукты на основе простых метрик, основанных на подсчёте условных вероятностей."
   ]
  },
  {
   "cell_type": "markdown",
   "metadata": {},
   "source": [
    "<center>\n",
    "<img src=\"https://pp.userapi.com/c638028/v638028181/52e5e/1X-dkzNN1hk.jpg\" width=\"400\"> \n",
    "</center>"
   ]
  },
  {
   "cell_type": "markdown",
   "metadata": {},
   "source": [
    " "
   ]
  }
 ],
 "metadata": {
  "kernelspec": {
   "display_name": "Python 3 (ipykernel)",
   "language": "python",
   "name": "python3"
  },
  "language_info": {
   "codemirror_mode": {
    "name": "ipython",
    "version": 3
   },
   "file_extension": ".py",
   "mimetype": "text/x-python",
   "name": "python",
   "nbconvert_exporter": "python",
   "pygments_lexer": "ipython3",
   "version": "3.9.6"
  }
 },
 "nbformat": 4,
 "nbformat_minor": 4
}
