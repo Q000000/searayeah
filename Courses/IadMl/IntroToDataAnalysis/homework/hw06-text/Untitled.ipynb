{
 "cells": [
  {
   "cell_type": "code",
   "execution_count": 38,
   "id": "69e3dc84-3522-4e18-b748-248421667f5f",
   "metadata": {},
   "outputs": [],
   "source": [
    "import requests\n",
    "import pandas as pd\n",
    "import numpy as np\n",
    "API = \"https://cabinet.miem.hse.ru/public-api/\"\n",
    "projects = requests.get(API + 'projects').json()\n",
    "sandbox = requests.get(API + 'sandbox').json()\n",
    "df_projects = pd.DataFrame(projects['data'])\n",
    "df_sandbox = pd.DataFrame(sandbox['data'])"
   ]
  },
  {
   "cell_type": "code",
   "execution_count": 39,
   "id": "e4e7efd0-6773-4d5f-b39a-4330295b6111",
   "metadata": {},
   "outputs": [
    {
     "data": {
      "text/plain": [
       "(433, 20)"
      ]
     },
     "execution_count": 39,
     "metadata": {},
     "output_type": "execute_result"
    }
   ],
   "source": [
    "df_projects.shape"
   ]
  },
  {
   "cell_type": "code",
   "execution_count": 40,
   "id": "ea2f5efc-5306-4c5d-b886-d1e17a8a3b02",
   "metadata": {},
   "outputs": [
    {
     "data": {
      "text/plain": [
       "(47, 20)"
      ]
     },
     "execution_count": 40,
     "metadata": {},
     "output_type": "execute_result"
    }
   ],
   "source": [
    "df_sandbox.shape"
   ]
  },
  {
   "cell_type": "code",
   "execution_count": 41,
   "id": "91bec57b-d717-4eca-a3e9-bba3ecdc2a61",
   "metadata": {},
   "outputs": [],
   "source": [
    "b = df_projects['id'].to_numpy()"
   ]
  },
  {
   "cell_type": "code",
   "execution_count": 42,
   "id": "ba68f76a-e6d2-446b-9fbb-3025579d2ef5",
   "metadata": {},
   "outputs": [],
   "source": [
    "a = df_sandbox['id'].to_numpy()"
   ]
  },
  {
   "cell_type": "code",
   "execution_count": 45,
   "id": "f0051c88-255e-48a5-a1dd-8d7b37d3fe82",
   "metadata": {},
   "outputs": [
    {
     "data": {
      "text/plain": [
       "array([ 46,  48, 270, 331, 333, 334, 335, 336, 351, 353, 361, 546, 747,\n",
       "       761, 786, 787, 793, 806, 810, 811, 812, 819, 820, 824, 825, 826,\n",
       "       827, 828, 833, 835, 841, 842])"
      ]
     },
     "execution_count": 45,
     "metadata": {},
     "output_type": "execute_result"
    }
   ],
   "source": [
    "np.setdiff1d(a, b)"
   ]
  },
  {
   "cell_type": "code",
   "execution_count": 7,
   "id": "34cb88c7-ea09-4f3c-b500-84b99e418505",
   "metadata": {},
   "outputs": [],
   "source": [
    "df_projects.set_index(\"id\", inplace=True, drop=False)\n",
    "df_sandbox.set_index(\"id\", inplace=True, drop=False)"
   ]
  },
  {
   "cell_type": "code",
   "execution_count": 8,
   "id": "af4c54bd-e949-4895-a294-1795eab8ddff",
   "metadata": {},
   "outputs": [],
   "source": [
    "result = pd.concat([df_projects,df_sandbox.loc[np.setdiff1d(a, b)]])"
   ]
  },
  {
   "cell_type": "code",
   "execution_count": 13,
   "id": "82457e7a-ada4-4dcb-ab57-8468c2bdc1ff",
   "metadata": {},
   "outputs": [
    {
     "data": {
      "text/plain": [
       "(465, 20)"
      ]
     },
     "execution_count": 13,
     "metadata": {},
     "output_type": "execute_result"
    }
   ],
   "source": [
    "result.shape"
   ]
  },
  {
   "cell_type": "code",
   "execution_count": 10,
   "id": "d492edf8-b1b7-4bc0-8a8b-a8ebbd019238",
   "metadata": {},
   "outputs": [
    {
     "data": {
      "text/plain": [
       "True"
      ]
     },
     "execution_count": 10,
     "metadata": {},
     "output_type": "execute_result"
    }
   ],
   "source": [
    "result['id'].is_unique"
   ]
  },
  {
   "cell_type": "code",
   "execution_count": 11,
   "id": "e7d2eef6-45f0-40b9-bfcb-897a65a729d2",
   "metadata": {},
   "outputs": [
    {
     "data": {
      "text/plain": [
       "Прогр.            227\n",
       "НИР               154\n",
       "Прогр-аппарат.     80\n",
       "Стартап             4\n",
       "Name: typeDesc, dtype: int64"
      ]
     },
     "execution_count": 11,
     "metadata": {},
     "output_type": "execute_result"
    }
   ],
   "source": [
    "result['typeDesc'].value_counts()"
   ]
  },
  {
   "cell_type": "code",
   "execution_count": 16,
   "id": "50c46214-9910-4d24-9b9f-d0e057bc08d4",
   "metadata": {},
   "outputs": [
    {
     "data": {
      "text/plain": [
       "array([], dtype=int64)"
      ]
     },
     "execution_count": 16,
     "metadata": {},
     "output_type": "execute_result"
    }
   ],
   "source": [
    "np.setdiff1d(result.index.to_numpy(),result['id'].to_numpy())"
   ]
  },
  {
   "cell_type": "code",
   "execution_count": 35,
   "id": "fc5fcc20-1df5-4b71-ace6-7cc5fa58fe75",
   "metadata": {},
   "outputs": [],
   "source": [
    "import requests\n",
    "import pandas as pd\n",
    "import numpy as np\n",
    "project_id = 617\n",
    "API = \"https://cabinet.miem.hse.ru/public-api/\"\n",
    "project = requests.get(API + 'project/header/' + str(project_id)).json()"
   ]
  },
  {
   "cell_type": "code",
   "execution_count": 36,
   "id": "11d5a2ed-3c37-42b2-886e-df7576c617e6",
   "metadata": {},
   "outputs": [
    {
     "data": {
      "text/plain": [
       "'2021/2022 учебный год'"
      ]
     },
     "execution_count": 36,
     "metadata": {},
     "output_type": "execute_result"
    }
   ],
   "source": [
    "project['data']['years'][-1]['year']"
   ]
  },
  {
   "cell_type": "code",
   "execution_count": 37,
   "id": "6993dc30-0e20-4a27-99bd-d30d7949a2d2",
   "metadata": {},
   "outputs": [
    {
     "data": {
      "text/plain": [
       "{'code': 20000,\n",
       " 'message': 'OK',\n",
       " 'data': {'id': 617,\n",
       "  'nameRus': 'Мобильное приложение Taiga для Android',\n",
       "  'nameEng': None,\n",
       "  'number': '617',\n",
       "  'numberOrig': 617,\n",
       "  'trello': 'https://trello.com/b/AVgvqlis/617-%D0%BC%D0%BE%D0%B1%D0%B8%D0%BB%D1%8C%D0%BD%D0%BE%D0%B5-%D0%BF%D1%80%D0%B8%D0%BB%D0%BE%D0%B6%D0%B5%D0%BD%D0%B8%D0%B5-%D0%BC%D0%B8%D1%8D%D0%BC-android',\n",
       "  'googleGroup': '617@miem.hse.ru',\n",
       "  'chat': 'https://chat.miem.hse.ru/#narrow/stream/1501-617-Android+%D0%BF%D1%80%D0%B8%D0%BB%D0%BE%D0%B6%D0%B5%D0%BD%D0%B8%D0%B5+%D0%9C%D0%98%D0%AD%D0%9C',\n",
       "  'wiki': 'https://wiki.miem.hse.ru/ru/Projects/617',\n",
       "  'typeValue': 2,\n",
       "  'typeLabel': 'Программный',\n",
       "  'sourceValue': 3,\n",
       "  'sourceLabel': 'ДКИ',\n",
       "  'teamValue': None,\n",
       "  'teamLabel': None,\n",
       "  'statusValue': 1,\n",
       "  'statusLabel': 'Готов к работе',\n",
       "  'projectOffice': True,\n",
       "  'exportControl': True,\n",
       "  'thumbnail': 'https://cabinet.miem.hse.ru/project/thumbnail/617',\n",
       "  'years': [{'id': 2, 'year': '2020/2021 учебный год', 'realYear': '2020'},\n",
       "   {'id': 3, 'year': '2021/2022 учебный год', 'realYear': '2021'}],\n",
       "  'projectYearInfo': 996,\n",
       "  'wrongYear': False,\n",
       "  'startProject': False,\n",
       "  'showProlong': False,\n",
       "  'showFinish': False,\n",
       "  'showAchievements': False,\n",
       "  'mainLeader': [{'id': 800,\n",
       "    'fio': 'Брагин Андрей',\n",
       "    'email': 'aabragin@miem.hse.ru',\n",
       "    'telnum': '',\n",
       "    'trelloId': '5de4e48bef9a165a96a5c916',\n",
       "    'role': 'Руководитель проекта',\n",
       "    'status': 'project_leader',\n",
       "    'ownerPrivilege': True}],\n",
       "  'inProject': False,\n",
       "  'projectOwner': False,\n",
       "  'initiator': False,\n",
       "  'passportComplete': True,\n",
       "  'dateCreated': '2021-07-06T21:11:14+03:00',\n",
       "  'timeline': [],\n",
       "  'tabs': {'showVacancies': True,\n",
       "   'showTeam': True,\n",
       "   'showDocs': True,\n",
       "   'showJitsi': False,\n",
       "   'showCourses': False,\n",
       "   'showFeedback': False,\n",
       "   'showStat': False,\n",
       "   'showStatCharts': False}}}"
      ]
     },
     "execution_count": 37,
     "metadata": {},
     "output_type": "execute_result"
    }
   ],
   "source": [
    "project"
   ]
  },
  {
   "cell_type": "code",
   "execution_count": null,
   "id": "03fb1ce2-dbfe-450b-b716-eec993f6cfee",
   "metadata": {},
   "outputs": [],
   "source": []
  }
 ],
 "metadata": {
  "kernelspec": {
   "display_name": "Python 3",
   "language": "python",
   "name": "python3"
  },
  "language_info": {
   "codemirror_mode": {
    "name": "ipython",
    "version": 3
   },
   "file_extension": ".py",
   "mimetype": "text/x-python",
   "name": "python",
   "nbconvert_exporter": "python",
   "pygments_lexer": "ipython3",
   "version": "3.9.6"
  }
 },
 "nbformat": 4,
 "nbformat_minor": 5
}
